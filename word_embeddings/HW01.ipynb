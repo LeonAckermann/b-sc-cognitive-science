{
  "cells": [
    {
      "cell_type": "markdown",
      "metadata": {
        "id": "ighIhhiLaBtR"
      },
      "source": [
        "## Practical Exercise 1: word2vec\n",
        "By Joline Janz and Frederik Wollatz"
      ]
    },
    {
      "cell_type": "markdown",
      "metadata": {
        "id": "LpTQUaW0co-k"
      },
      "source": [
        "Each Notebook will contribute equaly to your final grade."
      ]
    },
    {
      "cell_type": "markdown",
      "metadata": {
        "id": "qCmr1p64aBtW"
      },
      "source": [
        "This practical Exercise is presented as an IPython Notebook, with the code written for recent versions of **Python 3**. \n",
        "\n",
        "To execute a notebook cell, press `shift-enter`. The return value of the last command will be displayed, if it is not `None`.\n",
        "\n",
        "Potentially useful library documentation, references, and resources:\n",
        "\n",
        "* IPython notebooks: <https://ipython.org/ipython-doc/3/notebook/notebook.html#introduction>\n",
        "* Numpy numerical array library: <https://docs.scipy.org/doc/>\n",
        "* Gensim's word2vec: <https://radimrehurek.com/gensim/models/word2vec.html>\n",
        "* Bokeh interactive plots: <http://bokeh.pydata.org/en/latest/> (we provide plotting code here, but click the thumbnails for more examples to copy-paste)\n",
        "* scikit-learn ML library (aka `sklearn`): <http://scikit-learn.org/stable/documentation.html>\n",
        "* nltk NLP toolkit: <http://www.nltk.org/>\n",
        "* tutorial for processing xml in python using `lxml`: <http://lxml.de/tutorial.html> (we did this for you below, but in case you need it in the future)"
      ]
    },
    {
      "cell_type": "markdown",
      "metadata": {
        "id": "AzHhEXkWco-r"
      },
      "source": [
        "In this Notebook you will learn the basics on how to construct a word-embedding. As you recall from the lecture, word-embeddings are a type of word representation that allows words with similar meaning to have a similar representation. To do this, words are represented as real-valued vectors in a predefined vector space. Additionally, you will also learn how to use some basic NLP tools like tokenization and regular Expressions!\n",
        "Good Luck!"
      ]
    },
    {
      "cell_type": "code",
      "execution_count": 1,
      "metadata": {
        "id": "569W6MImaBtX"
      },
      "outputs": [],
      "source": [
        "import numpy as np\n",
        "import os\n",
        "from random import shuffle\n",
        "import re\n",
        "import nltk"
      ]
    },
    {
      "cell_type": "code",
      "execution_count": 2,
      "metadata": {
        "id": "rsgimgrUaBtd"
      },
      "outputs": [
        {
          "data": {
            "text/html": [
              "<style>\n",
              "        .bk-notebook-logo {\n",
              "            display: block;\n",
              "            width: 20px;\n",
              "            height: 20px;\n",
              "            background-image: url(data:image/png;base64,iVBORw0KGgoAAAANSUhEUgAAABQAAAAUCAYAAACNiR0NAAAABHNCSVQICAgIfAhkiAAAAAlwSFlzAAALEgAACxIB0t1+/AAAABx0RVh0U29mdHdhcmUAQWRvYmUgRmlyZXdvcmtzIENTNui8sowAAAOkSURBVDiNjZRtaJVlGMd/1/08zzln5zjP1LWcU9N0NkN8m2CYjpgQYQXqSs0I84OLIC0hkEKoPtiH3gmKoiJDU7QpLgoLjLIQCpEsNJ1vqUOdO7ppbuec5+V+rj4ctwzd8IIbbi6u+8f1539dt3A78eXC7QizUF7gyV1fD1Yqg4JWz84yffhm0qkFqBogB9rM8tZdtwVsPUhWhGcFJngGeWrPzHm5oaMmkfEg1usvLFyc8jLRqDOMru7AyC8saQr7GG7f5fvDeH7Ej8CM66nIF+8yngt6HWaKh7k49Soy9nXurCi1o3qUbS3zWfrYeQDTB/Qj6kX6Ybhw4B+bOYoLKCC9H3Nu/leUTZ1JdRWkkn2ldcCamzrcf47KKXdAJllSlxAOkRgyHsGC/zRday5Qld9DyoM4/q/rUoy/CXh3jzOu3bHUVZeU+DEn8FInkPBFlu3+nW3Nw0mk6vCDiWg8CeJaxEwuHS3+z5RgY+YBR6V1Z1nxSOfoaPa4LASWxxdNp+VWTk7+4vzaou8v8PN+xo+KY2xsw6une2frhw05CTYOmQvsEhjhWjn0bmXPjpE1+kplmmkP3suftwTubK9Vq22qKmrBhpY4jvd5afdRA3wGjFAgcnTK2s4hY0/GPNIb0nErGMCRxWOOX64Z8RAC4oCXdklmEvcL8o0BfkNK4lUg9HTl+oPlQxdNo3Mg4Nv175e/1LDGzZen30MEjRUtmXSfiTVu1kK8W4txyV6BMKlbgk3lMwYCiusNy9fVfvvwMxv8Ynl6vxoByANLTWplvuj/nF9m2+PDtt1eiHPBr1oIfhCChQMBw6Aw0UulqTKZdfVvfG7VcfIqLG9bcldL/+pdWTLxLUy8Qq38heUIjh4XlzZxzQm19lLFlr8vdQ97rjZVOLf8nclzckbcD4wxXMidpX30sFd37Fv/GtwwhzhxGVAprjbg0gCAEeIgwCZyTV2Z1REEW8O4py0wsjeloKoMr6iCY6dP92H6Vw/oTyICIthibxjm/DfN9lVz8IqtqKYLUXfoKVMVQVVJOElGjrnnUt9T9wbgp8AyYKaGlqingHZU/uG2NTZSVqwHQTWkx9hxjkpWDaCg6Ckj5qebgBVbT3V3NNXMSiWSDdGV3hrtzla7J+duwPOToIg42ChPQOQjspnSlp1V+Gjdged7+8UN5CRAV7a5EdFNwCjEaBR27b3W890TE7g24NAP/mMDXRWrGoFPQI9ls/MWO2dWFAar/xcOIImbbpA3zgAAAABJRU5ErkJggg==);\n",
              "        }\n",
              "    </style>\n",
              "    <div>\n",
              "        <a href=\"https://bokeh.org\" target=\"_blank\" class=\"bk-notebook-logo\"></a>\n",
              "        <span id=\"p1001\">Loading BokehJS ...</span>\n",
              "    </div>\n"
            ]
          },
          "metadata": {},
          "output_type": "display_data"
        },
        {
          "data": {
            "application/javascript": "(function(root) {\n  function now() {\n    return new Date();\n  }\n\n  const force = true;\n\n  if (typeof root._bokeh_onload_callbacks === \"undefined\" || force === true) {\n    root._bokeh_onload_callbacks = [];\n    root._bokeh_is_loading = undefined;\n  }\n\nconst JS_MIME_TYPE = 'application/javascript';\n  const HTML_MIME_TYPE = 'text/html';\n  const EXEC_MIME_TYPE = 'application/vnd.bokehjs_exec.v0+json';\n  const CLASS_NAME = 'output_bokeh rendered_html';\n\n  /**\n   * Render data to the DOM node\n   */\n  function render(props, node) {\n    const script = document.createElement(\"script\");\n    node.appendChild(script);\n  }\n\n  /**\n   * Handle when an output is cleared or removed\n   */\n  function handleClearOutput(event, handle) {\n    const cell = handle.cell;\n\n    const id = cell.output_area._bokeh_element_id;\n    const server_id = cell.output_area._bokeh_server_id;\n    // Clean up Bokeh references\n    if (id != null && id in Bokeh.index) {\n      Bokeh.index[id].model.document.clear();\n      delete Bokeh.index[id];\n    }\n\n    if (server_id !== undefined) {\n      // Clean up Bokeh references\n      const cmd_clean = \"from bokeh.io.state import curstate; print(curstate().uuid_to_server['\" + server_id + \"'].get_sessions()[0].document.roots[0]._id)\";\n      cell.notebook.kernel.execute(cmd_clean, {\n        iopub: {\n          output: function(msg) {\n            const id = msg.content.text.trim();\n            if (id in Bokeh.index) {\n              Bokeh.index[id].model.document.clear();\n              delete Bokeh.index[id];\n            }\n          }\n        }\n      });\n      // Destroy server and session\n      const cmd_destroy = \"import bokeh.io.notebook as ion; ion.destroy_server('\" + server_id + \"')\";\n      cell.notebook.kernel.execute(cmd_destroy);\n    }\n  }\n\n  /**\n   * Handle when a new output is added\n   */\n  function handleAddOutput(event, handle) {\n    const output_area = handle.output_area;\n    const output = handle.output;\n\n    // limit handleAddOutput to display_data with EXEC_MIME_TYPE content only\n    if ((output.output_type != \"display_data\") || (!Object.prototype.hasOwnProperty.call(output.data, EXEC_MIME_TYPE))) {\n      return\n    }\n\n    const toinsert = output_area.element.find(\".\" + CLASS_NAME.split(' ')[0]);\n\n    if (output.metadata[EXEC_MIME_TYPE][\"id\"] !== undefined) {\n      toinsert[toinsert.length - 1].firstChild.textContent = output.data[JS_MIME_TYPE];\n      // store reference to embed id on output_area\n      output_area._bokeh_element_id = output.metadata[EXEC_MIME_TYPE][\"id\"];\n    }\n    if (output.metadata[EXEC_MIME_TYPE][\"server_id\"] !== undefined) {\n      const bk_div = document.createElement(\"div\");\n      bk_div.innerHTML = output.data[HTML_MIME_TYPE];\n      const script_attrs = bk_div.children[0].attributes;\n      for (let i = 0; i < script_attrs.length; i++) {\n        toinsert[toinsert.length - 1].firstChild.setAttribute(script_attrs[i].name, script_attrs[i].value);\n        toinsert[toinsert.length - 1].firstChild.textContent = bk_div.children[0].textContent\n      }\n      // store reference to server id on output_area\n      output_area._bokeh_server_id = output.metadata[EXEC_MIME_TYPE][\"server_id\"];\n    }\n  }\n\n  function register_renderer(events, OutputArea) {\n\n    function append_mime(data, metadata, element) {\n      // create a DOM node to render to\n      const toinsert = this.create_output_subarea(\n        metadata,\n        CLASS_NAME,\n        EXEC_MIME_TYPE\n      );\n      this.keyboard_manager.register_events(toinsert);\n      // Render to node\n      const props = {data: data, metadata: metadata[EXEC_MIME_TYPE]};\n      render(props, toinsert[toinsert.length - 1]);\n      element.append(toinsert);\n      return toinsert\n    }\n\n    /* Handle when an output is cleared or removed */\n    events.on('clear_output.CodeCell', handleClearOutput);\n    events.on('delete.Cell', handleClearOutput);\n\n    /* Handle when a new output is added */\n    events.on('output_added.OutputArea', handleAddOutput);\n\n    /**\n     * Register the mime type and append_mime function with output_area\n     */\n    OutputArea.prototype.register_mime_type(EXEC_MIME_TYPE, append_mime, {\n      /* Is output safe? */\n      safe: true,\n      /* Index of renderer in `output_area.display_order` */\n      index: 0\n    });\n  }\n\n  // register the mime type if in Jupyter Notebook environment and previously unregistered\n  if (root.Jupyter !== undefined) {\n    const events = require('base/js/events');\n    const OutputArea = require('notebook/js/outputarea').OutputArea;\n\n    if (OutputArea.prototype.mime_types().indexOf(EXEC_MIME_TYPE) == -1) {\n      register_renderer(events, OutputArea);\n    }\n  }\n  if (typeof (root._bokeh_timeout) === \"undefined\" || force === true) {\n    root._bokeh_timeout = Date.now() + 5000;\n    root._bokeh_failed_load = false;\n  }\n\n  const NB_LOAD_WARNING = {'data': {'text/html':\n     \"<div style='background-color: #fdd'>\\n\"+\n     \"<p>\\n\"+\n     \"BokehJS does not appear to have successfully loaded. If loading BokehJS from CDN, this \\n\"+\n     \"may be due to a slow or bad network connection. Possible fixes:\\n\"+\n     \"</p>\\n\"+\n     \"<ul>\\n\"+\n     \"<li>re-rerun `output_notebook()` to attempt to load from CDN again, or</li>\\n\"+\n     \"<li>use INLINE resources instead, as so:</li>\\n\"+\n     \"</ul>\\n\"+\n     \"<code>\\n\"+\n     \"from bokeh.resources import INLINE\\n\"+\n     \"output_notebook(resources=INLINE)\\n\"+\n     \"</code>\\n\"+\n     \"</div>\"}};\n\n  function display_loaded() {\n    const el = document.getElementById(\"p1001\");\n    if (el != null) {\n      el.textContent = \"BokehJS is loading...\";\n    }\n    if (root.Bokeh !== undefined) {\n      if (el != null) {\n        el.textContent = \"BokehJS \" + root.Bokeh.version + \" successfully loaded.\";\n      }\n    } else if (Date.now() < root._bokeh_timeout) {\n      setTimeout(display_loaded, 100)\n    }\n  }\n\n  function run_callbacks() {\n    try {\n      root._bokeh_onload_callbacks.forEach(function(callback) {\n        if (callback != null)\n          callback();\n      });\n    } finally {\n      delete root._bokeh_onload_callbacks\n    }\n    console.debug(\"Bokeh: all callbacks have finished\");\n  }\n\n  function load_libs(css_urls, js_urls, callback) {\n    if (css_urls == null) css_urls = [];\n    if (js_urls == null) js_urls = [];\n\n    root._bokeh_onload_callbacks.push(callback);\n    if (root._bokeh_is_loading > 0) {\n      console.debug(\"Bokeh: BokehJS is being loaded, scheduling callback at\", now());\n      return null;\n    }\n    if (js_urls == null || js_urls.length === 0) {\n      run_callbacks();\n      return null;\n    }\n    console.debug(\"Bokeh: BokehJS not loaded, scheduling load and callback at\", now());\n    root._bokeh_is_loading = css_urls.length + js_urls.length;\n\n    function on_load() {\n      root._bokeh_is_loading--;\n      if (root._bokeh_is_loading === 0) {\n        console.debug(\"Bokeh: all BokehJS libraries/stylesheets loaded\");\n        run_callbacks()\n      }\n    }\n\n    function on_error(url) {\n      console.error(\"failed to load \" + url);\n    }\n\n    for (let i = 0; i < css_urls.length; i++) {\n      const url = css_urls[i];\n      const element = document.createElement(\"link\");\n      element.onload = on_load;\n      element.onerror = on_error.bind(null, url);\n      element.rel = \"stylesheet\";\n      element.type = \"text/css\";\n      element.href = url;\n      console.debug(\"Bokeh: injecting link tag for BokehJS stylesheet: \", url);\n      document.body.appendChild(element);\n    }\n\n    for (let i = 0; i < js_urls.length; i++) {\n      const url = js_urls[i];\n      const element = document.createElement('script');\n      element.onload = on_load;\n      element.onerror = on_error.bind(null, url);\n      element.async = false;\n      element.src = url;\n      console.debug(\"Bokeh: injecting script tag for BokehJS library: \", url);\n      document.head.appendChild(element);\n    }\n  };\n\n  function inject_raw_css(css) {\n    const element = document.createElement(\"style\");\n    element.appendChild(document.createTextNode(css));\n    document.body.appendChild(element);\n  }\n\n  const js_urls = [\"https://cdn.bokeh.org/bokeh/release/bokeh-3.0.2.min.js\", \"https://cdn.bokeh.org/bokeh/release/bokeh-gl-3.0.2.min.js\", \"https://cdn.bokeh.org/bokeh/release/bokeh-widgets-3.0.2.min.js\", \"https://cdn.bokeh.org/bokeh/release/bokeh-tables-3.0.2.min.js\", \"https://cdn.bokeh.org/bokeh/release/bokeh-mathjax-3.0.2.min.js\"];\n  const css_urls = [];\n\n  const inline_js = [    function(Bokeh) {\n      Bokeh.set_log_level(\"info\");\n    },\nfunction(Bokeh) {\n    }\n  ];\n\n  function run_inline_js() {\n    if (root.Bokeh !== undefined || force === true) {\n          for (let i = 0; i < inline_js.length; i++) {\n      inline_js[i].call(root, root.Bokeh);\n    }\nif (force === true) {\n        display_loaded();\n      }} else if (Date.now() < root._bokeh_timeout) {\n      setTimeout(run_inline_js, 100);\n    } else if (!root._bokeh_failed_load) {\n      console.log(\"Bokeh: BokehJS failed to load within specified timeout.\");\n      root._bokeh_failed_load = true;\n    } else if (force !== true) {\n      const cell = $(document.getElementById(\"p1001\")).parents('.cell').data().cell;\n      cell.output_area.append_execute_result(NB_LOAD_WARNING)\n    }\n  }\n\n  if (root._bokeh_is_loading === 0) {\n    console.debug(\"Bokeh: BokehJS loaded, going straight to plotting\");\n    run_inline_js();\n  } else {\n    load_libs(css_urls, js_urls, function() {\n      console.debug(\"Bokeh: BokehJS plotting callback run at\", now());\n      run_inline_js();\n    });\n  }\n}(window));",
            "application/vnd.bokehjs_load.v0+json": ""
          },
          "metadata": {},
          "output_type": "display_data"
        }
      ],
      "source": [
        "from bokeh.models import ColumnDataSource, LabelSet\n",
        "from bokeh.plotting import figure, show, output_file\n",
        "from bokeh.io import output_notebook\n",
        "output_notebook()"
      ]
    },
    {
      "cell_type": "code",
      "execution_count": 3,
      "metadata": {
        "id": "ofHeuGejaZHs"
      },
      "outputs": [],
      "source": [
        "try: \n",
        "    import nltk\n",
        "except:\n",
        "    import sys #Here we install nltk. You only have to execute this cell once!\n",
        "    !{sys.executable} -m pip install nltk \n",
        "    import nltk\n",
        "    nltk.download()"
      ]
    },
    {
      "cell_type": "code",
      "execution_count": 19,
      "metadata": {},
      "outputs": [
        {
          "ename": "AttributeError",
          "evalue": "module 'nltk' has no attribute 'download'",
          "output_type": "error",
          "traceback": [
            "\u001b[0;31m---------------------------------------------------------------------------\u001b[0m",
            "\u001b[0;31mAttributeError\u001b[0m                            Traceback (most recent call last)",
            "Cell \u001b[0;32mIn [19], line 2\u001b[0m\n\u001b[1;32m      1\u001b[0m \u001b[39mimport\u001b[39;00m \u001b[39mnltk\u001b[39;00m\n\u001b[0;32m----> 2\u001b[0m nltk\u001b[39m.\u001b[39;49mdownload()\n",
            "\u001b[0;31mAttributeError\u001b[0m: module 'nltk' has no attribute 'download'"
          ]
        }
      ],
      "source": [
        "import nltk\n",
        "nltk.download()"
      ]
    },
    {
      "cell_type": "markdown",
      "metadata": {
        "id": "Haav4K7YaBti"
      },
      "source": [
        "### Part 0: Load the TED dataset"
      ]
    },
    {
      "cell_type": "markdown",
      "metadata": {
        "id": "y_L2VA4Mco-2"
      },
      "source": [
        "As input we need a large amount of text data. We will use the TED database, which are the transcripts of Ted Talks."
      ]
    },
    {
      "cell_type": "code",
      "execution_count": 4,
      "metadata": {
        "id": "stf464BBaBtj"
      },
      "outputs": [],
      "source": [
        "import zipfile\n",
        "import lxml.etree"
      ]
    },
    {
      "cell_type": "code",
      "execution_count": 5,
      "metadata": {
        "colab": {
          "base_uri": "https://localhost:8080/",
          "height": 76,
          "resources": {
            "http://localhost:8080/nbextensions/google.colab/files.js": {
              "data": "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",
              "headers": [
                [
                  "content-type",
                  "application/javascript"
                ]
              ],
              "ok": true,
              "status": 200,
              "status_text": "OK"
            }
          }
        },
        "id": "2GPN2XwC-kwo",
        "outputId": "d7a315cb-2485-40b5-f722-b6aee996fcf2"
      },
      "outputs": [],
      "source": [
        "# Upload the dataset if it's not already there: this may take a minute as it is 75MB\n",
        "if not os.path.isfile('ted_en-20160408.zip'):\n",
        "  from google.colab import files\n",
        "  # select the file \"ted_en-20160408.zip\" from your local drive here\n",
        "  uploaded = files.upload()"
      ]
    },
    {
      "cell_type": "code",
      "execution_count": 6,
      "metadata": {
        "id": "0oWf1JkvaBtr"
      },
      "outputs": [],
      "source": [
        "# For now, we're only interested in the subtitle text, so let's extract that from the XML:\n",
        "with zipfile.ZipFile('ted_en-20160408.zip', 'r') as z:\n",
        "    doc = lxml.etree.parse(z.open('ted_en-20160408.xml', 'r'))\n",
        "input_text = '\\n'.join(doc.xpath('//content/text()'))\n",
        "del doc"
      ]
    },
    {
      "cell_type": "markdown",
      "metadata": {
        "id": "G9UVfpExaBtu"
      },
      "source": [
        "### Part 1: Preprocessing\n",
        "\n",
        "Before using our text, we need to preprocess it. Therefore, we bring it into a form that is predictable and analyzable. We attempt to clean up the raw subtitles a bit, so that we get only complete sentences. The following substring shows examples of what we're trying to get rid of. Since it's hard to define precisely what we want to get rid of, we'll just use some simple heuristics."
      ]
    },
    {
      "cell_type": "markdown",
      "metadata": {
        "id": "eKWHxHG7bkWa"
      },
      "source": [
        "<h4>Execercise 1.1 (2 Points)</h4> \n",
        "Before we work with the data we should have a look at it. We already marked some areas for you, that need to be cleaned. You do not have to code anything here, you just have to become aware of sensitive preprocessing steps."
      ]
    },
    {
      "cell_type": "code",
      "execution_count": 7,
      "metadata": {
        "colab": {
          "base_uri": "https://localhost:8080/"
        },
        "id": "yGpx6RFzaBtv",
        "outputId": "b99241bc-d2b2-41d1-e732-817286a256d1",
        "scrolled": false
      },
      "outputs": [
        {
          "name": "stdout",
          "output_type": "stream",
          "text": [
            "Hyowon Gweon: See this? (Ball squeaks) Did you see that? (Ball squeaks) Cool. See this one? (Ball squeaks) Wow.\n",
            "Laura Schulz: Told you. (Laughs)\n",
            "\n",
            "You will earn 10% of any gold \n"
          ]
        }
      ],
      "source": [
        "#Have a look at the output of this code, to see some examples\n",
        "i = input_text.find(\"Hyowon Gweon: See this?\")\n",
        "print(input_text[i:i+145])\n",
        "\n",
        "\n",
        "i = input_text.find(\"You will earn\")\n",
        "print(input_text[i:i+30])"
      ]
    },
    {
      "cell_type": "markdown",
      "metadata": {
        "id": "5Y7gtjkWcJ-2"
      },
      "source": [
        "For example the parenthesized strings like \"(Ball squeaks)\" and symbols like % could have a negative impact on the word embeddings. Name at least two more problematic sections and how you would solve them.\n"
      ]
    },
    {
      "cell_type": "markdown",
      "metadata": {
        "id": "DqC68N5Yco_E"
      },
      "source": [
        "<b>Your Solution:</b> \n",
        "<br>- Parenthesized Strings\n",
        "<br>- Percent-Symbol\n",
        "<br>-\n",
        "<br>-\n"
      ]
    },
    {
      "cell_type": "markdown",
      "metadata": {
        "id": "CH2seZr2aBt1"
      },
      "source": [
        "<h4>Exercise 1.2 (2 Points)</h4>\n",
        "Let's start by removing all parenthesized strings using a regex:"
      ]
    },
    {
      "cell_type": "code",
      "execution_count": 8,
      "metadata": {
        "colab": {
          "base_uri": "https://localhost:8080/"
        },
        "id": "8u3YXkh5aBt1",
        "outputId": "030d9650-24a6-4171-9b4d-fc227d68834a"
      },
      "outputs": [
        {
          "name": "stdout",
          "output_type": "stream",
          "text": [
            "before\n",
            "Hyowon Gweon: See this? (Ball squeaks) Did you see that? (Ball squeaks) Cool. See this one? (\n",
            "after\n",
            "Hyowon Gweon: See this?  Did you see that?  Cool. See this one?  Wow.\n",
            "Laura Schulz: Told you.\n"
          ]
        }
      ],
      "source": [
        "i = input_text.find(\"Hyowon Gweon: See this?\")\n",
        "print(\"before\")\n",
        "print(input_text[i:i+93])\n",
        "\n",
        "input_text_noparens = re.sub(r'\\([^)]*\\)', '', input_text) #Identifies everything in parenthesis and replaces it with \"\"\n",
        "\n",
        "\n",
        "#you can use this to verify\n",
        "i = input_text_noparens.find(\"Hyowon Gweon: See this?\")\n",
        "print(\"after\")\n",
        "print(input_text_noparens[i:i+93])\n",
        "\n",
        "#We won't worry about the irregular spaces since we'll later split the text into sentences and tokenize it anyway."
      ]
    },
    {
      "cell_type": "markdown",
      "metadata": {
        "id": "FtwPNpChdjww"
      },
      "source": [
        "Try it yourself: Replace every percentage Symbol with the word \"percent\""
      ]
    },
    {
      "cell_type": "code",
      "execution_count": 9,
      "metadata": {
        "colab": {
          "base_uri": "https://localhost:8080/",
          "height": 282
        },
        "id": "6o6oEW0AdiDY",
        "outputId": "18c3c00a-e32f-454f-8909-cf71b5fffe5e"
      },
      "outputs": [
        {
          "name": "stdout",
          "output_type": "stream",
          "text": [
            "before\n",
            "You will earn 10% of any gold \n",
            "after\n",
            "You will earn 10 percent of any gold \n"
          ]
        }
      ],
      "source": [
        "i = input_text_noparens.find(\"You will earn\")\n",
        "print(\"before\")\n",
        "print(input_text_noparens[i:i+30])\n",
        "\n",
        "#Your implementation goes here!\n",
        "input_text_clean = re.sub(r'%', ' percent', input_text) #Identifies every % symbol and replaces it with \"\"\n",
        "\n",
        "\n",
        "i = input_text_clean.find(\"You will earn\")\n",
        "print(\"after\")\n",
        "print(input_text_clean[i:i+37])"
      ]
    },
    {
      "cell_type": "markdown",
      "metadata": {
        "id": "67ZOyc_9e2aS"
      },
      "source": [
        "<h4>Exercise 1.3 (4 Points)</h4>\n",
        "Now you have learned how to use RegEx to your advantage and have Identified potential parts of the text, that we want to eliminate. We have already implented how to remove all parenthesized strings. Now we want to replace every number in the text with its respectiv string. E.g. 10 -> ten ; \n",
        "42 -> forty-two\n"
      ]
    },
    {
      "cell_type": "code",
      "execution_count": 10,
      "metadata": {
        "colab": {
          "base_uri": "https://localhost:8080/",
          "height": 246
        },
        "id": "S6NKj6fNfXMQ",
        "outputId": "2b2f35da-0ffd-414b-a604-d458b73f3313"
      },
      "outputs": [
        {
          "name": "stdout",
          "output_type": "stream",
          "text": [
            "before\n",
            "You will earn 10 percent of any gold \n",
            "<class 'str'>\n",
            "after\n",
            "You will earn ten percent of any gold\n"
          ]
        }
      ],
      "source": [
        "from num2words import num2words\n",
        "\n",
        "i = input_text_clean.find(\"You will earn\") #find problematic parts\n",
        "print(\"before\")\n",
        "print(input_text_clean[i:i+37]) #and show them\n",
        "print(type(input_text_clean))\n",
        "\n",
        "#Your implementation here\n",
        "all_numbers_in_digits = re.findall(\"[0-9]+\", input_text_clean)\n",
        "all_numbers_in_text = {number:num2words(number) for number in all_numbers_in_digits}\n",
        "def number_to_word(matchobj):\n",
        "    return all_numbers_in_text[matchobj.group(0)]\n",
        "input_text_clean = re.sub(r\"[0-9]+\", number_to_word, input_text_clean )\n",
        "\n",
        "i = input_text_clean.find(\"You will earn\") #validate your method\n",
        "print(\"after\")\n",
        "print(input_text_clean[i:i+37])"
      ]
    },
    {
      "cell_type": "code",
      "execution_count": 11,
      "metadata": {},
      "outputs": [
        {
          "data": {
            "text/plain": [
              "'Hello 10 Leon 20 10'"
            ]
          },
          "execution_count": 11,
          "metadata": {},
          "output_type": "execute_result"
        }
      ],
      "source": [
        "text1 = \"Hello 10 Leon 20 10\"\n",
        "zahlen = \"10 20\"\n",
        "text2 = \"zehn zwanzig\"\n",
        "\n",
        "text1.replace(zahlen, text2)"
      ]
    },
    {
      "cell_type": "code",
      "execution_count": 12,
      "metadata": {},
      "outputs": [
        {
          "name": "stdout",
          "output_type": "stream",
          "text": [
            "Here are two reasons companies\n"
          ]
        }
      ],
      "source": [
        "print(input_text_clean[:30])"
      ]
    },
    {
      "cell_type": "code",
      "execution_count": 13,
      "metadata": {},
      "outputs": [
        {
          "data": {
            "text/plain": [
              "[\"Here are two reasons companies fail: they only do more of the same, or they only do what's new.\",\n",
              " 'To me the real, real solution to quality growth is figuring out the balance between two activities: exploration and exploitation. Both are necessary, but it can be too much of a good thing.',\n",
              " \"Consider Facit. I'm actually old enough to remember them. Facit was a fantastic company. They were born deep in the Swedish forest, and they made the best mechanical calculators in the world. Everybody used them. And what did Facit do when the electronic calculator came along? They continued doing exactly the same. In six months, they went from maximum revenue ... and they were gone. Gone.\",\n",
              " 'To me, the irony about the Facit story is hearing about the Facit engineers, who had bought cheap, small electronic calculators in Japan that they used to double-check their calculators.',\n",
              " '(Laughter)',\n",
              " 'Facit did too much exploitation. But exploration can go wild, too.',\n",
              " 'A few years back, I worked closely alongside a European biotech company. Let\\'s call them OncoSearch. The company was brilliant. They had applications that promised to diagnose, even cure, certain forms of blood cancer. Every day was about creating something new. They were extremely innovative, and the mantra was, \"When we only get it right,\" or even, \"We want it perfect.\" The sad thing is, before they became perfect -- even good enough -- they became obsolete. OncoSearch did too much exploration.',\n",
              " 'I first heard about exploration and exploitation about fifteen years ago, when I worked as a visiting scholar at Stanford University. The founder of the idea is Jim March. And to me the power of the idea is its practicality.',\n",
              " \"Exploration. Exploration is about coming up with what's new. It's about search, it's about discovery, it's about new products, it's about new innovations. It's about changing our frontiers. Our heroes are people who have done exploration: Madame Curie, Picasso, Neil Armstrong, Sir Edmund Hillary, etc. I come from Norway; all our heroes are explorers, and they deserve to be. We all know that exploration is risky. We don't know the answers, we don't know if we're going to find them, and we know that the risks are high.\",\n",
              " \"Exploitation is the opposite. Exploitation is taking the knowledge we have and making good, better. Exploitation is about making our trains run on time. It's about making good products faster and cheaper. Exploitation is not risky -- in the short term. But if we only exploit, it's very risky in the long term. And I think we all have memories of the famous pop groups who keep singing the same songs again and again, until they become obsolete or even pathetic. That's the risk of exploitation.\",\n",
              " \"So if we take a long-term perspective, we explore. If we take a short-term perspective, we exploit. Small children, they explore all day. All day it's about exploration. As we grow older, we explore less because we have more knowledge to exploit on. The same goes for companies. Companies become, by nature, less innovative as they become more competent.\",\n",
              " 'And this is, of course, a big worry to CEOs. And I hear very often questions phrased in different ways. For example, \"How can I both effectively run and reinvent my company?\" Or, \"How can I make sure that our company changes before we become obsolete or are hit by a crisis?\" So, doing one well is difficult. Doing both well as the same time is art -- pushing both exploration and exploitation.',\n",
              " \"So one thing we've found is only about two percent of companies are able to effectively explore and exploit at the same time, in parallel. But when they do, the payoffs are huge. So we have lots of great examples. We have Nestlé creating Nespresso, we have Lego going into animated films, Toyota creating the hybrids, Unilever pushing into sustainability -- there are lots of examples, and the benefits are huge.\",\n",
              " \"Why is balancing so difficult? I think it's difficult because there are so many traps that keep us where we are. So I'll talk about two, but there are many.\",\n",
              " \"So let's talk about the perpetual search trap. We discover something, but we don't have the patience or the persistence to get at it and make it work. So instead of staying with it, we create something new. But the same goes for that, then we're in the vicious circle of actually coming up with ideas but being frustrated. OncoSearch was a good example. A famous example is, of course, Xerox. But we don't only see this in companies. We see this in the public sector as well. We all know that any kind of effective reform of education, research, health care, even defense, takes ten, fifteen, maybe twenty years to work. But still, we change much more often. We really don't give them the chance.\",\n",
              " 'Another trap is the success trap. Facit fell into the success trap. They literally held the future in their hands, but they couldn\\'t see it. They were simply so good at making what they loved doing, that they wouldn\\'t change. We are like that, too. When we know something well, it\\'s difficult to change. Bill Gates has said: \"Success is a lousy teacher. It seduces us into thinking we cannot fail.\" That\\'s the challenge with success.',\n",
              " 'So I think there are some lessons, and I think they apply to us. And they apply to our companies. The first lesson is: get ahead of the crisis. And any company that\\'s able to innovate is actually able to also buy an insurance in the future. Netflix -- they could so easily have been content with earlier generations of distribution, but they always -- and I think they will always -- keep pushing for the next battle. I see other companies that say, \"I\\'ll win the next innovation cycle, whatever it takes.\"',\n",
              " \"Second one: think in multiple time scales. I'll share a chart with you, and I think it's a wonderful one. Any company we look at, taking a one-year perspective and looking at the valuation of the company, innovation typically accounts for only about thirty percent. So when we think one year, innovation isn't really that important. Move ahead, take a ten-year perspective on the same company -- suddenly, innovation and ability to renew account for seventy percent. But companies can't choose. They need to fund the journey and lead the long term.\",\n",
              " \"Third: invite talent. I don't think it's possible for any of us to be able to balance exploration and exploitation by ourselves. I think it's a team sport. I think we need to allow challenging. I think the mark of a great company is being open to be challenged, and the mark of a good corporate board is to constructively challenge. I think that's also what good parenting is about.\",\n",
              " 'Last one: be skeptical of success. Maybe it\\'s useful to think back at the old triumph marches in Rome, when the generals, after a big victory, were given their celebration. Riding into Rome on the carriage, they always had a companion whispering in their ear, \"Remember, you\\'re only human.\"',\n",
              " \"So I hope I made the point: balancing exploration and exploitation has a huge payoff. But it's difficult, and we need to be conscious.\",\n",
              " 'I want to just point out two questions that I think are useful. First question is, looking at your own company: In which areas do you see that the company is at the risk of falling into success traps, of just going on autopilot? And what can you do to challenge?',\n",
              " 'Second question is: When did I explore something new last, and what kind of effect did it have on me? Is that something I should do more of? In my case, yes.',\n",
              " \"So let me leave you with this. Whether you're an explorer by nature or whether you tend to exploit what you already know, don't forget: the beauty is in the balance.\",\n",
              " 'Thank you.',\n",
              " '(Applause)',\n",
              " \"So there are lands few and far between on Earth itself that are hospitable to humans by any measure, but survive we have. Our primitive ancestors, when they found their homes and livelihood endangered, they dared to make their way into unfamiliar territories in search of better opportunities. And as the descendants of these explorers, we have their nomadic blood coursing through our own veins. But at the same time, distracted by our bread and circuses and embroiled in the wars that we have waged on each other, it seems that we have forgotten this desire to explore. We, as a species, we're evolved uniquely for Earth, on Earth, and by Earth, and so content are we with our living conditions that we have grown complacent and just too busy to notice that its resources are finite, and that our Sun's life is also finite. While Mars and all the movies made in its name have reinvigorated the ethos for space travel, few of us seem to truly realize that our species' fragile constitution is woefully unprepared for long duration journeys into space.\",\n",
              " \"Let us take a trek to your local national forest for a quick reality check. So just a quick show of hands here: how many of you think you would be able to survive in this lush wilderness for a few days? Well, that's a lot of you. How about a few weeks? That's a decent amount. How about a few months? That's pretty good too. Now, let us imagine that this local national forest experiences an eternal winter. Same questions: how many of you think you would be able to survive for a few days? That's quite a lot. How about a few weeks? So for a fun twist, let us imagine that the only source of water available is trapped as frozen blocks miles below the surface. Soil nutrients are so minimal that no vegetation can be found, and of course hardly any atmosphere exists to speak of.\",\n",
              " 'Such examples are only a few of the many challenges we would face on a planet like Mars. So how do we steel ourselves for voyages whose destinations are so far removed from a tropical vacation? Will we continuously ship supplies from Planet Earth? Build space elevators, or impossible miles of transport belts that tether your planet of choice to our home planet? And how do we grow things like food that grew up on Earth like us?',\n",
              " \"But I'm getting ahead of myself. In our species' journey to find a new home under a new sun, we are more likely than not going to be spending much time in the journey itself, in space, on a ship, a hermetic flying can, possibly for many generations.\",\n",
              " \"The longest continuous amount of time that any human has spent in space is in the vicinity of twelve to fourteen months. From astronauts' experiences in space, we know that spending time in a microgravity environment means bone loss, muscle atrophy, cardiovascular problems, among many other complications that range for the physiological to the psychological. And what about macrogravity, or any other variation in gravitational pull of the planet that we find ourselves on?\",\n",
              " \"In short, our cosmic voyages will be fraught with dangers both known and unknown. So far we've been looking to this new piece of mechanical technology or that great next generation robot as part of a lineup to ensure our species safe passage in space. Wonderful as they are, I believe the time has come for us to complement these bulky electronic giants with what nature has already invented: the microbe, a single-celled organism that is itself a self-generating, self-replenishing, living machine. It requires fairly little to maintain, offers much flexibility in design and only asks to be carried in a single plastic tube.\",\n",
              " 'The field of study that has enabled us to utilize the capabilities of the microbe is known as synthetic biology. It comes from molecular biology, which has given us antibiotics, vaccines and better ways to observe the physiological nuances of the human body. Using the tools of synthetic biology, we can now edit the genes of nearly any organism, microscopic or not, with incredible speed and fidelity. Given the limitations of our man-made machines, synthetic biology will be a means for us to engineer not only our food, our fuel and our environment, but also ourselves to compensate for our physical inadequacies and to ensure our survival in space.',\n",
              " 'To give you an example of how we can use synthetic biology for space exploration, let us return to the Mars environment. The Martian soil composition is similar to that of Hawaiian volcanic ash, with trace amounts of organic material. Let\\'s say, hypothetically, what if martian soil could actually support plant growth without using Earth-derived nutrients? The first question we should probably ask is, how would we make our plants cold-tolerant? Because, on average, the temperature on Mars is a very uninviting negative sixty degrees centigrade. The next question we should ask is, how do we make our plants drought-tolerant? Considering that most of the water that forms as frost evaporates more quickly than I can say the word \"evaporate.\" Well, it turns out we\\'ve already done things like this. By borrowing genes for anti-freeze protein from fish and genes for drought tolerance from other plants like rice and then stitching them into the plants that need them, we now have plants that can tolerate most droughts and freezes. They\\'re known on Earth as GMOs, or genetically modified organisms, and we rely on them to feed all the mouths of human civilization. Nature does stuff like this already, without our help. We have simply found more precise ways to do it.',\n",
              " \"So why would we want to change the genetic makeup of plants for space? Well, to not do so would mean needing to engineer endless acres of land on an entirely new planet by releasing trillions of gallons of atmospheric gasses and then constructing a giant glass dome to contain it all. It's an unrealistic engineering enterprise that quickly becomes a high-cost cargo transport mission. One of the best ways to ensure that we will have the food supplies and the air that we need is to bring with us organisms that have been engineered to adapt to new and harsh environments. In essence, using engineered organisms to help us terraform a planet both in the short and long term. These organisms can then also be engineered to make medicine or fuel.\",\n",
              " 'So we can use synthetic biology to bring highly engineered plants with us, but what else can we do? Well, I mentioned earlier that we, as a species, were evolved uniquely for planet Earth. That fact has not changed much in the last five minutes that you were sitting here and I was standing there. And so, if we were to dump any of us on Mars right this minute, even given ample food, water, air and a suit, we are likely to experience very unpleasant health problems from the amount of ionizing radiation that bombards the surface of planets like Mars that have little or nonexistent atmosphere. Unless we plan to stay holed up underground for the duration of our stay on every new planet, we must find better ways of protecting ourselves without needing to resort to wearing a suit of armor that weighs something equal to your own body weight, or needing to hide behind a wall of lead.',\n",
              " \"So let us appeal to nature for inspiration. Among the plethora of life here on Earth, there's a subset of organisms known as extremophiles, or lovers of extreme living conditions, if you'll remember from high school biology. And among these organisms is a bacterium by the name of Deinococcus radiodurans. It is known to be able to withstand cold, dehydration, vacuum, acid, and, most notably, radiation. While its radiation tolerance mechanisms are known, we have yet to adapt the relevant genes to mammals. To do so is not particularly easy. There are many facets that go into its radiation tolerance, and it's not as simple as transferring one gene. But given a little bit of human ingenuity and a little bit of time, I think to do so is not very hard either. Even if we borrow just a fraction of its ability to tolerate radiation, it would be infinitely better than what we already have, which is just the melanin in our skin. Using the tools of synthetic biology, we can harness Deinococcus radiodurans' ability to thrive under otherwise very lethal doses of radiation. As difficult as it is to see, homo sapiens, that is humans, evolves every day, and still continues to evolve. Thousands of years of human evolution has not only given us humans like Tibetans, who can thrive in low-oxygen conditions, but also Argentinians, who can ingest and metabolize arsenic, the chemical element that can kill the average human being. Every day, the human body evolves by accidental mutations that equally accidentally allow certain humans to persevere in dismal situations.\",\n",
              " \"But, and this is a big but, such evolution requires two things that we may not always have, or be able to afford, and they are death and time. In our species' struggle to find our place in the universe, we may not always have the time necessary for the natural evolution of extra functions for survival on non-Earth planets. We're living in what E.O. Wilson has termed the age of gene circumvention, during which we remedy our genetic defects like cystic fibrosis or muscular dystrophy with temporary external supplements. But with every passing day, we approach the age of volitional evolution, a time during which we as a species will have the capacity to decide for ourselves our own genetic destiny. Augmenting the human body with new abilities is no longer a question of how, but of when.\",\n",
              " 'Using synthetic biology to change the genetic makeup of any living organisms, especially our own, is not without its moral and ethical quandaries. Will engineering ourselves make us less human? But then again, what is humanity but star stuff that happens to be conscious? Where should human genius direct itself? Surely it is a bit of a waste to sit back and marvel at it. How do we use our knowledge to protect ourselves from the external dangers and then protect ourselves from ourselves?',\n",
              " 'I pose these questions not to engender the fear of science but to bring to light the many possibilities that science has afforded and continues to afford us. We must coalesce as humans to discuss and embrace the solutions not only with caution but also with courage.',\n",
              " \"Mars is a destination, but it will not be our last. Our true final frontier is the line we must cross in deciding what we can and should make of our species' improbable intelligence.\",\n",
              " 'Space is cold, brutal and unforgiving. Our path to the stars will be rife with trials that will bring us to question not only who we are but where we will be going. The answers will lie in our choice to use or abandon the technology that we have gleaned from life itself, and it will define us for the remainder of our term in this universe.',\n",
              " 'Thank you.',\n",
              " '(Applause)',\n",
              " \"OK, so, confession: I've always been weirdly obsessed with advertising. I remember watching Saturday morning cartoons, paying more attention to the commercials than to the shows, trying to figure out how they were trying to get inside my head. Ultimately, that led me to my dream job. I became a partner at a big New York ad agency.\",\n",
              " \"But then, all of that suddenly changed on February twenty-three, one thousand, nine hundred and ninety-seven, when my little brother Matt was shot in the head in a shooting that happened on the observation deck of the Empire State Building. Suddenly, my family was thrown into the middle of a nightmare, being told that my brother was going to die, actually being given the opportunity to say goodbye to him, then several emergency brain surgeries and now what's amounted, for Matt, to a lifetime spent courageously recovering from a traumatic brain injury. He is definitely my hero.\",\n",
              " 'But as much as (Applause) -- yeah, deserves it --',\n",
              " '(Applause)',\n",
              " \"But as much as this tragedy was a nightmare for my family, I often think about how much worse it could have been; in fact, how much worse it is for the ninety families every day who aren't as fortunate, who lose loved ones -- brothers, sisters, sons, daughters, parents. They don't all make national headlines. In fact, most of them don't. They go largely unnoticed, in a nation that's kind of come to accept a disgraceful national epidemic as some kind of new normal.\",\n",
              " 'So I quit my job in advertising to try and do something about this disgraceful national epidemic, because I came to realize that the challenges to preventing gun violence are actually the same ones that made me love advertising, which is to try to figure out how to engage people. Only instead of doing it to sell products, doing it to save lives. And that comes down to finding common ground, where what I want overlaps with what you want. And you might be surprised to learn, when it comes to gun violence, just how much common ground there is.',\n",
              " \"Let's look, for example, at people who love to hunt, a sport enjoyed by millions across the US. It's a proud tradition. Families. In some places, the first day of hunting season is actually a school holiday. What do hunters want? Well, they want to hunt. They love their guns. They believe deeply in the Second Amendment right to own those guns. But that doesn't mean there isn't common ground.\",\n",
              " \"In fact, there's a lot of it, starting with the basic idea of keeping guns out of dangerous hands. This isn't about taking certain guns away from all people. It's about keeping all guns away from certain people, and it's the people that, it turns out, we all agree shouldn't have guns: convicted violent criminals, domestic abusers, the dangerously mentally ill. We can all appreciate how Brady background checks have been incredibly effective in keeping guns out of those dangerous hands. In twenty years, Brady background checks at federally licensed firearm dealers have blocked two.four million gun sales to those people that we all agree shouldn't have guns.\",\n",
              " '(Applause)',\n",
              " \"And whether you love guns or hate guns, you probably also appreciate that there shouldn't be thousands of gun sales every day at guns shows or online without those Brady background checks, just like there shouldn't be two lines to get on an airplane -- one with security and one with no security. And --\",\n",
              " '(Applause)',\n",
              " \"And the numbers show the overwhelming agreement among the American public: ninety percent of Americans support expanding Brady background checks to all gun sales -- including ninety percent of Republicans, more than eighty percent of gun owners, more than seventy percent of NRA members. This is not a controversial idea. In fact, only six percent of the American public disagrees. That's about the percentage of the American public that believes the moon landing was a fake.\",\n",
              " '(Laughter)',\n",
              " \"And it's also about the percentage that believes the government is putting mind-controlling technology in our TV broadcast signals. That's the extent to which we agree about background checks.\",\n",
              " \"But what about the three hundred million guns already out there in homes across America? Well first, it's important to realize that those guns are mostly in the hands and homes of decent, law-abiding people like you and me, who want what we all want -- including keeping our families safe. In fact, that's why more and more people are choosing to own guns. Ten years ago, forty-two percent of the American public believed -- incorrectly -- that a gun makes your home safer. Today, that number is sixty-three percent.\",\n",
              " \"Why? I kind of hate to say it, because it gets to the dark underbelly of advertising, which is if you tell a big enough lie enough times, eventually that lie becomes the truth. And that's exactly what's happened here. The corporate gun lobby has spent billions of dollars blocking the CDC from doing research into the public health epidemic of gun violence; blocking pediatricians from talking to parents about the dangers of guns in the home; blocking smart-gun technology and other technology that would prevent kids from firing parents' guns and would save lives. They're desperate to hide the truth, because they view the truth as a threat to their bottom line.\",\n",
              " \"And every day, people are dying as a result. And a lot of those people are children. Every day in the US, nine kids are just shot unintentionally. nine hundred children and teens take their own lives every year. And here's the thing: they're almost all with a parent's gun. Even two-thirds of school shootings happen with a gun taken from the home, including the terrible tragedy at Sandy Hook. I meet so many of these parents; it's the most heartbreaking part of my job. These are not bad people. They're just living with the unimaginable consequences of a very bad decision, made based on very bad information that was put into their minds by very bad people, who know good and well the misery that they're causing, but just don't care. And the result is a nightmare -- not only for families like mine, but for, really, at the end of the day, all of us.\",\n",
              " 'But I\\'m not here to talk about the nightmare of gun violence. I\\'m here to talk about our dream, and it\\'s a dream we all share, which is the dream of a better, safer, future. For my organization, for the Brady Campaign, that dream is reflected in the bold goal to cut the number of gun deaths in the US in half by two thousand and twenty-five. And I hope to leave all of you here tonight with a strong sense of exactly why that dream is so absolutely within reach. Because folks, for every great movement around the world, there\\'s a moment where you can look back and say, \"That\\'s when things really started to change.\" And I\\'m here to say that for the movement to end gun violence in America, that moment is here.',\n",
              " '(Applause)',\n",
              " 'We are so clearly at a tipping point, because the American public has come together by the millions like never before, based on that common ground, to say, \"Enough.\" Enough of the mass shootings in malls and movie theaters and churches and schools. Enough of the daily terror of gun violence in homes and streets that\\'s claimed the lives of women and young black men in staggering proportions. Enough of easy access to guns by the people that we all agree shouldn\\'t have them. And enough of a small group of craven politicians putting the interests of the corporate gun lobby ahead of the people they have been elected to represent. Enough.',\n",
              " '(Applause)',\n",
              " \"And the really exciting thing is, it's not just the usual suspects like me that are saying it anymore. It's so much bigger than that. And if you want proof, let's start where most conversations in the US seem to start -- with Kim Kardashian.\",\n",
              " '(Laughter)',\n",
              " \"And here's the thing: it's not really a joke. I mean, think about when issues change. It's when they go from being political and advocacy issues to being part of pop culture, voices coming from everywhere, celebrities using their platforms, musicians, athletes. The NBA has come forward. Conservative pundits that you never would have imagined have come forward. There's real cultural change -- I even hear there's a TED Talk about it this year. That's the extent to which this cultural change is happening. And yes, Kim Kardashian has made an unsolicited passionate appeal to her thirty-five million Twitter followers for expanded background checks.\",\n",
              " \"Let's look at the political elections that are heating up. This used to be the classic third-rail issue for Democrats. Couldn't run from it fast enough. Now candidates are running on it. Some are being forced to reverse very bad positions they defended very comfortably, until very recently. For somebody like me, watching people wave around their negative NRA ratings -- it's almost surreal to watch. We're still outfunded, yes, by the corporate gun lobby, and ultimately that needs to change. But you know what? We're smarter and we're scrappier, and we have the truth on our side. And we're on offense.\",\n",
              " \"You know, they say that the Internet democratizes information. Social media and some of the organizing tools that plug into it have democratized activism. It's allowed us to show what ninety percent support really looks like. Sometimes I think of it -- you know, we're converging and attacking instantly by the millions, kind of like white blood cells. It's enabled us to start to really close -- and this is the bottom line -- close that disgraceful disconnect between what the American public wants and what our elected leaders are doing about it.\",\n",
              " \"Until recently, the narrative in Congress was that calls from the other side, from that six percent, outnumbered calls from our side ten to one. We're flipping that narrative on its head. After that recent terrible tragedy in San Bernardino, we jammed Congressional switchboards. We put fifteen,zero calls into Congress in twenty-four hours. And you know what? We got a vote on a bill that nobody thought was going to see the light of day anytime soon. We're seeing real movement to repeal some of the most evil, ugly gun lobby legislation passed over the last dark decade. The stranglehold of the gun lobby is clearly being broken. We've seen President Obama's historic executive actions. They don't go all the way, but they are going to save lives, because they expand Brady background checks to thousands of gun sales that didn't have them previously. And we're marching across the country -- we're not just waiting for Congress to act; that would almost be the definition of insanity. We're marching across the country, state by state, marriage-equality style.\",\n",
              " \"And you know what? We're winning. Congress is almost always the last to wake up and realize that it's on the wrong side of history. And when they do, it's always because the American public shakes them. And that's exactly what we're doing right now, as we're in this tipping point.\",\n",
              " 'You know, recently I was flying cross-country to give a speech to a large group like this, although far less intimidating, and the woman sitting next to me happened to be binge-watching one of my all-time favorite TV shows, \"Mad Men,\" a period TV show about advertising in the one thousand, nine hundred and sixtys. And as I was trying to think about how to end my remarks, I\\'d glance up at her screen every now and then, and it seemed that every time I did, I\\'d see somebody smoking in an office or around children or while pregnant or drinking and driving or driving without seat belts or sexually harassing a coworker.',\n",
              " 'And ultimately it dawned on me: what tremendous inspiration to those of us who have this dream to end gun violence. I mean, think about how much the world has changed in a relatively short period of time, how all those behaviors that were once considered commonplace or normal -- some even glamorous or sexy -- have become stigmatized in just a generation or two, once they became conversations about our common ground. That is the magnitude of the change we have the potential to create around gun violence.',\n",
              " \"And that's my dream, that maybe someday, some period TV show will depict the terrible nightmare of gun violence, and a future generation of children might only be able to imagine how terrible it must have been.\",\n",
              " 'Thank you.',\n",
              " '(Applause)',\n",
              " 'Thank you.',\n",
              " '(Applause)',\n",
              " 'Thank you.',\n",
              " '(Applause)',\n",
              " 'It has been one hundred and twenty-eight years since the last country in the world abolished slavery and fifty-three years since Martin Luther King pronounced his \"I Have A Dream\" speech. But we still live in a world where the color of our skin not only gives a first impression, but a lasting one that remains.',\n",
              " 'I was born in a family full of colors. My father is the son of a maid from whom he inherited an intense dark chocolate tone. He was adopted by those who I know as my grandparents. The matriarch, my grandma, has a porcelain skin and cotton-like hair. My grandpa was somewhere between a vanilla and strawberry yogurt tone, like my uncle and my cousin. My mother is a cinnamon-skin daughter of a native Brazilian, with a pinch of hazel and honey, and a man [who is] a mix of coffee with milk, but with a lot of coffee. She has two sisters. One in a toasted-peanut skin and the other, also adopted, more on the beige side, like a pancake.',\n",
              " '(Laughter)',\n",
              " 'Growing up in this family, color was never important for me. Outside home, however, things were different soon. Color had many other meanings.',\n",
              " \"I remember my first drawing lessons in school as a bunch of contradictory feelings. It was exciting and creative but I never understood the unique flesh-colored pencil. I was made of flesh but I wasn't pink. My skin was brown, and people said I was black. I was seven years old with a mess of colors in my head.\",\n",
              " \"Later, when I took my cousin to school, I was usually taken for the nanny. By helping in the kitchen at a friend's party, people thought I was the maid. I was even treated like a prostitute just because I was walking alone on the beach with European friends. And many times, visiting my grandma or friends in upper class buildings, I was invited not to use the main elevator. Because in the end, with this color and this hair, I cannot belong to some places.\",\n",
              " 'In some way, I get to used to it and accept part of it. However, something inside of me keeps revolving and struggling.',\n",
              " 'Years later I married a Spaniard. But not any Spaniard. I chose one with the skin color of a lobster when sunburnt.',\n",
              " '(Laughter)',\n",
              " 'Since then, a new question started to chase me. What will be the color of your children? As you can understand, this is my last concern. But thinking about it, with my previous background, my story led me to make my personal exercise as a photographer. And that is how Humanae was born.',\n",
              " \"Humanae is a pursuit to highlight our true colors, rather than the untrue white, red, black or yellow associated with race. It's a kind of game to question our codes. It's a work in progress from a personal story to a global history.\",\n",
              " 'I portray the subjects in a white background. Then I choose an eleven-pixel square from the nose, paint the background, and look for the corresponding color in the industrial palette, Pantone.',\n",
              " 'I started with my family and friends, then more and more people joined the adventure, thanks to public calls coming through the social media.',\n",
              " 'I thought that the main space to show my work was the Internet because I want an open concept that invites everybody to push the share button in both the computer and their brain.',\n",
              " 'The snowball started to roll. The project had a great welcome -- invitations, exhibitions, physical formats, galleries and museums ... just happened. And among them, my favorite: when Humanae occupies public spaces and appears in the street, it fosters a popular debate and creates a feeling of community.',\n",
              " 'I have portrayed more than three,zero people in thirteen different countries, nineteen different cities around the world. Just to mention some of them -- from someone included in the Forbes list, to refugees who crossed the Mediterranean by boat. In Paris, from the UNESCO Headquarters to a shelter. And students both in Switzerland and favelas in Rio de Janeiro.',\n",
              " 'All kinds of beliefs, gender identities or physical impairments, a newborn or terminally ill. We all together build Humanae.',\n",
              " 'Those portraits make us rethink how we see each other. When modern science is questioning the race concept, what does it mean for us to be black, white, yellow, red? Is it the eye, the nose, the mouth, the hair? Or does it have to do with our origin, nationality or bank account?',\n",
              " 'This personal exercise turned out to be a discovery. Suddenly I realized that Humanae was useful for many people. It represents a sort of mirror for those who cannot find themselves reflected in any label.',\n",
              " 'It was amazing that people started to share their thoughts about the work with me. I have hundreds of that, I will share with you, too.',\n",
              " 'A mother of eleven years -- A mother of an eleven-year-old girl wrote me, \"Very good for me as a tool to work on her confidence, as this past weekend one of her girlfriends argued with her that she does not belong and should not be allowed to live in Norway. So your work has a very special place in my heart and it\\'s very important for me.\"',\n",
              " 'A woman shared her portrait on Facebook and wrote, \"All my life, people from across the globe had difficulties to place me in a group, a stereotype, a box. Perhaps we should stop. Instead of framing, ask the individual, \\'How would you label yourself?\\' Then I would say, \\'Hi. I\\'m Massiel. I\\'m a Dominican-Dutch, I grew up in a mixed family and I\\'m a bisexual woman.\\' \"',\n",
              " \"Besides these unexpected and touching reactions, Humanae finds a new life in a different variety of fields. Just to show you some examples, illustrators and art students using it as a reference for their sketches and their studies. It's a collection of faces.\",\n",
              " \"Researchers in the fields of anthropology, physics and neuroscience use Humanae with different scientific approaches related to human ethnicity, optophysiology, face recognition or Alzheimer's.\",\n",
              " 'One of the most important impacts of the project is that Humanae was chosen to be the cover of Foreign Affairs, one of the most relevant political publications. And talking about foreign affairs, I found the perfect ambassadors for my project ... teachers. They are the ones that use Humanae as a tool for educational purposes. Their passion encourages me to go back to drawing classes, but this time as a teacher myself.',\n",
              " 'My students, both adults and kids, paint their self-portraits, trying to discover their own unique color.',\n",
              " 'As a photographer, I realize that I can be a channel for others to communicate. As an individual, as Angélica, every time I take a picture, I feel that I am sitting in front of a therapist. All the frustration, fear and loneliness that I once felt ... becomes love.',\n",
              " 'The last country -- the last country in the world who abolished slavery is the country where I was born, Brazil. We still have to work hard to abolish discrimination. That remains a common practice worldwide, and that will not disappear by itself.',\n",
              " 'Thank you.',\n",
              " '(Applause)',\n",
              " 'Thank you.',\n",
              " \"Thousands of years from now, we'll look back at the first century of computing as a fascinating but very peculiar time -- the only time in history where humans were reduced to live in twoD space, interacting with technology as if we were machines; a singular, one hundred-year period in the vastness of time where humans communicated, were entertained and managed their lives from behind a screen.\",\n",
              " \"Today, we spend most of our time tapping and looking at screens. What happened to interacting with each other? I don't know about you, but I feel limited inside this twoD world of monitors and pixels. And it is this very limitation and my desire to connect with people that inspires me as a creator. Put simply: I want to create a new reality, a reality where technology brings us infinitely closer to each other, a reality where people, not devices, are the center of everything.\",\n",
              " 'I dream of a reality where technology senses what we see, touch and feel; a reality where technology no longer gets in our way, but instead embraces who we are. I dream of technology on a human path. We have all experienced technology that enables people to act more like people, products that enable natural interactions, voice controls or biometrics.',\n",
              " \"This is the next step in the evolution. This is Microsoft HoloLens, the first fully untethered holographic computer. Devices like this will bring threeD holographic content right into our world, enhancing the way we experience life beyond our ordinary range of perceptions. Now, I'm not thinking about a distant future. I'm talking about today. We are already seeing car companies like Volvo designing cars differently with HoloLens; universities like Case Western redefining the way medical students learn; and my personal favorite, NASA is using HoloLens to let scientists explore planets holographically.\",\n",
              " \"Now, this is important. By bringing holograms into our world, I'm not just talking about a new device or a better computer. I'm talking about freeing ourselves from the twoD confines of traditional computing.\",\n",
              " \"Put it this way: temporally adjusted, we're like cave people in computer terms. We've barely discovered charcoal and started drawing the first stick figures in our cave. Now, this is the perspective I apply to my work every single day. And now for the next few minutes, I invite all of you to apply the same perspective to the journey ahead of us.\",\n",
              " \"Now, as I put this HoloLens on, let me explain the setup a little bit. It's probably the most risky demo we have ever done on any stage with HoloLens, and I can't think of a better place to do it than here at TED. Momentarily, I am going to be seeing holograms right on this stage, just as clearly as I can see all of you. Now at the same time, we have also this special camera that just walked in onstage so that all of you can share in this experience with me up on all the monitors.\",\n",
              " \"So let's start our journey. And what better place to begin our journey, than in the computer cave of twoD. Let's explore the world all around us with this new lens, and understand the computer world from a brand new perspective.\",\n",
              " \"The computer universe is both marvelous and primitive. It's a universe based on causality. As developers, we dream the different causes and then we program the different effects. Double click on an icon, that's a cause. Open an application, that's an effect. Now when we compare this to our physical universe, it is overly constraining, because our universe is not digital. Our universe is analog. Our universe doesn't think in terms of zero or one, true or false, or black or white. We exist in a world governed by quantum physics, a universe of zero and one both at the same time, a reality based on infinite probabilities and shades of gray. You can see how these two worlds collide.\",\n",
              " 'So why are screens so pervasive in our analog life? We see screens from the moment we wake up, to the moment we fall asleep. Why?',\n",
              " \"I think it's because computers give us superpowers. Within the digital universe, we have the power to displace space and the power to displace time. It doesn't matter if you're using technology for entertainment, productivity or communication. Think of it this way: let's all go home tonight and watch our favorite show on television. This is theater -- time and space displaced. As soon as I'm done with this TED Talk, I'm going to immediately call my lovely family in Seattle. That's displacement of space. Now, these are such great superpowers that we put up with the two-dimensional limitations of our current digital world. But what if we didn't have to? What if we could have these same digital powers in our world? You can already see glimmers of this, but I believe our children's children will grow up in a world devoid of twoD technology. It's remarkable to dream of this world, a world where technology truly understands us -- where we live, work and communicate -- with tools that enhance the human experience, not machines that limit our humanity.\",\n",
              " \"So how do we get there? For me, the answer required looking at the problem from a different perspective. It required sensing the world from the perspective of a machine. If you're a machine trying to sense our world, how would you actually break the problem down? You'd probably try to classify things as a human, an environment or an object. But how would that machine then interact with reality? And I can think of three ways.\",\n",
              " 'First, as a machine, I would observe or I would input reality. Speech recognition and biometric authentication are great examples of a machine interacting with humans from an input perspective. Secondly, as a machine, I could place digital information, or output information, into reality. Holograms are examples of a machine interacting with an environment from an output perspective. Finally, as a machine, I could exchange energy with the world via haptics. Now, imagine being able to feel the temperature of a virtual object, or better yet, imagine pushing a hologram and having it push you back with equal force.',\n",
              " \"With this perspective, we are able to collapse reality into a simple matrix. Now here's a secret: as an engineer, I get really excited anytime I can reduce something to the matrix. From self-driving cars to smartphones to this holographic computer on my head, machines are becoming capable of understanding our world. And they are starting to interact with us in significantly more personal ways.\",\n",
              " 'Now, imagine having granular control over everything in the world. Move the dial one way, and you get reality. Move the dial the other way, and you get virtual reality. Now, imagine dialing your entire environment between virtual and real worlds. I love it down here. Now, imagine if I could look at all of you and dial from real humans into elves. When technology truly understands our world, it will again transform the ways we interact, the ways we work and the ways we play.',\n",
              " 'Less than half a century ago, two courageous men landed on the moon, using computers that were less powerful than the phones in your pockets. Six hundred million humans watched them on grainy, black-and-white televisions. And the world? The world was mesmerized.',\n",
              " \"Now imagine how our children and their children will experience the continued exploration of space with technology that understands this world. We already live in a world where real-time universal translators exist. And I can squint, and I can already see holographic telepresence in our near future. In fact, since we've been lucky with our demo so far, let's try doing something else even more crazy. I invite you to experience, for the first time anywhere in the world, here on the TED stage, a real-life holographic teleportation, between me and my friend, Dr. Jeffrey Norris, from NASA's Jet Propulsion Laboratory.\",\n",
              " 'Finger crossed. Hi, Jeff.',\n",
              " 'Jeff Norris: Hey, Alex.',\n",
              " 'Alex Kipman: Phew! That worked. How are you doing today, Jeff?',\n",
              " '(Applause)',\n",
              " 'JN: Doing great. I had an awesome week.',\n",
              " 'AK: So, can you tell us a little bit, Jeff, about where you are?',\n",
              " \"JN: Well, I'm actually in three places. I'm standing in a room across the street, while I'm standing on this stage with you, while I'm standing on Mars, a hundred million miles away.\",\n",
              " 'AK: Wow, a hundred million miles away. This is crazy! Can you tell us a little bit more about where all this data from Mars is coming from?',\n",
              " \"JN: Absolutely. This is a precise holographic replica of Mars, built from data captured by the Curiosity Mars Rover, that I can explore as easily as a place on Earth. Humans are natural explorers. We can instantly understand an environment, just by being present in it. We've built tools like our Mars Rover to extend our vision and lengthen our reach. But for decades, we've explored from a seat behind screens and keyboards. Now, we're leaping over all of that, over the giant antennas and the relay satellites and the vastness between worlds to take our first steps on this landscape as if we were truly there. Today, a group of scientists on our mission are seeing Mars as never before -- an alien world made a little more familiar, because they're finally exploring it as humans should.\",\n",
              " \"But our dreams don't have to end with making it just like being there. When we dial this real world to the virtual, we can do magical things. We can see in invisible wavelengths or teleport to the top of a mountain. Perhaps someday, we'll feel the minerals in a rock just by touching it. We're taking the first steps. But we want the whole world to join us in taking the next, because this is not a journey for a few, but for all of us.\",\n",
              " 'AK: Thank you Jeff, this was amazing. Thank you so much for joining us on the TED stage today.',\n",
              " '(Applause)',\n",
              " 'JN: Thank you Alex, bye bye.',\n",
              " 'AK: Bye, Jeff.',\n",
              " '(Applause)',\n",
              " \"I dream about this future every single day. I take inspiration from our ancestors. We used to live in tribes where we interacted, communicated and worked together. We are all beginning to build technology that will enable us to return to the humanity that brought us where we are today -- technology that will let us stop living inside this twoD world of monitors and pixels, and let us start remembering what it feels like to live in our threeD world. It's a phenomenal time to be human.\",\n",
              " 'Thank you.',\n",
              " '(Applause)',\n",
              " 'Helen Walters: Thanks so much. I have some questions.',\n",
              " 'AK: OK.',\n",
              " \"HW: So there's been some talk in the press. And I'll just ask you straight, then we have a straight answer. There's been talk about the difference between the demos and the reality of the commercial product. Talk about this field of view issue. Is this type of experience what someone who buys the product will get?\",\n",
              " 'AK: It\\'s a great question, Or, said better, this is a question we\\'ve been receiving in the media for possibly the last year. If you do your research, I haven\\'t answered that question. I\\'ve purposely ignored it, because ultimately, it\\'s the wrong question to ask. That\\'s the equivalent of me showing holograms to someone for the first time, and you then saying, \"What\\'s the size of your television?\" The field of view for the product is almost irrelevant. What we should be talking about is the density of lights, or radiance, that shows up. Better said, what the angular resolution is of the things that you see. So from that perspective, what you saw -- you know, the camera is wearing a HoloLens. So even if I wanted to cheat, I can\\'t.',\n",
              " 'HW: But the camera has a different lens on it than our eye. Right?',\n",
              " \"AK: The camera has a fish-eye lens on it. It's seeing a much wider view than the human eye is. So if you think about the points of light that show up radially from the vision of the camera, which is the thing that matters: how many points of light can I get in a given volume? That's the same as I get on this HoloLens as I will on that one. Now, this camera sees a much wider view of the world, right?\",\n",
              " 'HW: Jesus Christ!',\n",
              " '(Laughter)',\n",
              " \"AK: He did show up! I told you he'd show up. Come this way.\",\n",
              " '(Laughter)',\n",
              " 'HW: Oh, shit.',\n",
              " \"AK: And there's holographic Jeff Norris.\",\n",
              " \"HW: I knew something was happening, but I really wasn't sure what.\",\n",
              " 'AK: So in short: to be super crisp, the camera that you see on the screen has a wider field of view than the human eye. But the angular resolution of the holograms that you see, the points of light per unit of area, are actually the same.',\n",
              " \"HW: So you spent -- Jeff, I'll get to you in a minute -- so you spent a lot of time mapping the stage --\",\n",
              " \"AK: That's right.\",\n",
              " \"HW: So help me out here: if I buy a HoloLens and have it at home, I don't need to map my apartment, right?\",\n",
              " \"AK: The HoloLens maps in real time at about five frames per second, with this technology that we call spatial mapping. So in your home, as soon as you put it on, holograms will start showing up, and you'll start placing them and they'll start learning your home. In a stage environment where we're trying to get something on my head to communicate with something over there with all of the wireless connectivity that usually brings all conferences down, we don't take the risk of trying to do this live. So what we do is pre-map the stage at five frames per second with the same spatial-mapping technology that you'll use with the product at home, and then we store it, so that when there's shenanigans of wireless in an environment like this, between the camera's HoloLens and the one on my head, we don't have things disappear. Because ultimately, the holograms are coming from this HoloLens, and that one is just viewing the HoloLens. So if I lose connectivity, you would stop seeing beautiful things on the screen.\",\n",
              " 'HW: And it was beautiful. Um ... Jeff?',\n",
              " 'JN: Yes?',\n",
              " 'HW: Hi.',\n",
              " \"AK: I'll take a step back.\",\n",
              " \"HW: So Jeff, you were on Mars, you were here, you were in a room across the street. Tell me more about the fact that, with holograms, you have sight but you don't have touch, you don't have smell. Is this scientifically useful now? That's my question for a hologram.\",\n",
              " \"JN: Thanks for the question. Absolutely, I believe that these technologies are scientifically useful right now, and that's why we're using them in multiple parts of our work at NASA. So we're using it to improve the ways that we explore Mars. We're also using it for our astronauts on the space station. We're even using it now to design the next generation of our spacecraft.\",\n",
              " 'HW: Amazing. OK, Jeff, please go away. Thank you very much.',\n",
              " '(Laughter)',\n",
              " 'Alex, really, that was amazing. Thank you so much.',\n",
              " 'AK: Thank you.',\n",
              " 'HW: Thank you. Thank you.',\n",
              " '(Applause)',\n",
              " \"It began with one question: If Africa was a bar, what would your country be drinking or doing? I kicked it off with a guess about South Africa, which wasn't exactly according to the rules because South Africa's not my country. But alluding to the country's continual attempts to build a postracial society after being ravaged for decades by apartheid, I tweeted, #ifafricawasabar South Africa would be drinking all kinds of alcohol and begging them to get along in its stomach.\",\n",
              " \"And then I waited. And then I had that funny feeling where I wondered if I crossed the line. So, I sent out a few other tweets about my own country and a few other African countries I'm familiar with. And then I waited again, but this time I read through almost every tweet I had ever tweeted to convince myself, no, to remind myself that I'm really funny and that if nobody gets it, that's fine.\",\n",
              " \"But luckily, I didn't have to do that for very long. Very soon, people were participating. In fact, by the end of that week in July, the hashtag #ifafricawasabar would have garnered around sixty,zero tweets, lit up the continent and made its way to publications all over the world.\",\n",
              " \"People were using the hashtag to do many different things. To poke fun at their stereotypes: [#IfAfricaWasABar Nigeria would be outside explaining that he will pay the entrance fee, all he needs is the bouncer's account details.]\",\n",
              " '(Laughter)',\n",
              " \"To criticize government spending: [#ifafricawasabar South Africa would be ordering bottles it can't pronounce running a tab it won't be able to pay]\",\n",
              " 'To make light of geopolitical tensions: [#IfAfricaWasABar South Sudan would be the new guy with serious anger management issues.]',\n",
              " \"To remind us that even in Africa there are some countries we don't know exist: [#IfAfricaWasABar Lesotho would be that person who nobody really knows but is always in the pictures.]\",\n",
              " 'And also to make fun of the countries that don\\'t think that they\\'re in Africa: [#IfAfricaWasABar Egypt, Libya, Tunisia, Algeria and Morocco be like \"What the hell are we doing here?!!\"]',\n",
              " '(Laughter)',\n",
              " 'And to note the countries that had made a big turnaround: [#ifAfricawasabar Rwanda would be that girl that comes with no money and no transport but leaves drunk, happy and rich]',\n",
              " 'But most importantly, people were using the hashtag to connect. People were connecting over their Africanness. So for one week in July, Twitter became a real African bar. And I was really thrilled, mainly because I realized that Pan-Africanism could work, that we had before us, between us, at our fingertips a platform that just needed a small spark to light in us a hunger for each other.',\n",
              " \"My name is Siyanda Mohutsiwa, I'm twenty-two years old and I am Pan-Africanist by birth. Now, I say I'm Pan-Africanist by birth because my parents are from two different African countries. My father's from a country called Botswana in southern Africa. It's only slightly bigger than Germany. This year we celebrate our fiftyth year of stable democracy. And it has some very progressive social policies. My mother's country is the Kingdom of Swaziland. It's a very, very small country, also in southern Africa. It is Africa's last complete monarchy. So it's been ruled by a king and a royal family in line with their tradition, for a very long time.\",\n",
              " \"On paper, these countries seem very different. And when I was a kid, I could see the difference. It rained a lot in one country, it didn't rain quite as much in the other. But outside of that, I didn't really realize why it mattered that my parents were from two different places. But it would go on to have a very peculiar effect on me. You see, I was born in one country and raised in the other.\",\n",
              " 'When we moved to Botswana, I was a toddler who spoke fluent SiSwati and nothing else. So I was being introduced to my new home, my new cultural identity, as a complete outsider, incapable of comprehending anything that was being said to me by the family and country whose traditions I was meant to move forward. But very soon, I would shed SiSwati. And when I would go back to Swaziland, I would be constantly confronted by how very non-Swazi I was becoming.',\n",
              " \"Add to that my entry into Africa's private school system, whose entire purpose is to beat the Africanness out of you, and I would have a very peculiar adolescence. But I think that my interest in ideas of identity was born here, in the strange intersection of belonging to two places at once but not really belonging to either one very well and belonging to this vast space in between and around simultaneously. I became obsessed with the idea of a shared African identity.\",\n",
              " \"Since then, I have continued to read about politics and geography and identity and what all those things mean. I've also held on to a deep curiosity about African philosophies. When I began to read, I gravitated towards the works of black intellectuals like Steve Biko and Frantz Fanon, who tackled complex ideas like decolonization and black consciousness. And when I thought, at fourteen, that I had digested these grand ideas, I moved on to the speeches of iconic African statesmen like Burkina Faso's Thomas Sankara and Congo's Patrice Lumumba. I read every piece of African fiction that I could get my hands on.\",\n",
              " 'So when Twitter came, I hopped on with the enthusiasm of a teenage girl whose friends are super, super bored of hearing about all this random stuff.',\n",
              " 'The year was two thousand and eleven and all over southern Africa and the whole continent, affordable data packages for smartphones and Internet surfing became much easier to get. So my generation, we were sending messages to each other on this platform that just needed one hundred and forty characters and a little bit of creativity. On long commutes to work, in lectures that some of us should have been paying attention to, on our lunch breaks, we would communicate as much as we could about the everyday realities of being young and African.',\n",
              " 'But of course, this luxury was not available to everybody. So this meant that if you were a teenage girl in Botswana and you wanted to have fun on the Internet, one, you had to tweet in English. Two, you had to follow more than just the three other people you knew online. You had to follow South Africans, Zimbabweans, Ghanaians, Nigerians. And suddenly, your whole world opened up. And my whole world did open up.',\n",
              " 'I followed vibrant Africans who were travelling around the continent, taking pictures of themselves and posting them under the hashtag #myafrica. Because at that time, if you were to search Africa on Twitter or on Google or any kind of social media, you would think that the entire continent was just pictures of animals and white guys drinking cocktails in hotel resorts.',\n",
              " '(Laughter)',\n",
              " 'But Africans were using this platform to take some kind of ownership of the tourism sectors. It was Africans taking selfies on the beaches of Nigeria. It was Africans in cocktail bars in Nairobi.',\n",
              " \"And these were the same Africans that I began to meet in my own travels around the continent. We would discuss African literature, politics, economic policy. But almost invariably, every single time, we would end up discussing Twitter. And that's when I realized what this was. We were standing in the middle of something amazing, because for the first time ever young Africans could discuss the future of our continent in real time, without the restriction of borders, finances and watchful governments.\",\n",
              " \"Because the little known truth is many Africans know a lot less about other African countries than some Westerners might know about Africa as a whole. This is by accident, but sometimes, it's by design. For example, in apartheid South Africa, black South Africans were constantly being bombarded with this message that any country ruled by black people was destined for failure. And this was done to convince them that they were much better off under crushing white rule than they were living in a black and free nation. Add to that Africa's colonial, archaic education system, which has been unthinkingly carried over from the one thousand, nine hundred and twentys -- and at the age of fifteen, I could name all the various causes of the wars that had happened in Europe in the past two hundred years, but I couldn't name the president of my neighboring country. And to me, this doesn't make any sense because whether we like it or not, the fates of African people are deeply intertwined.\",\n",
              " \"When disaster hits, when turmoil hits, we share the consequences. When Burundians flee political turmoil, they go to us, to other African countries. Africa has six of the world's largest refugee centers. What was once a Burundian problem becomes an African problem. So to me, there are no Sudanese problems or South African problems or Kenyan problems, only African problems because eventually, we share the turmoil.\",\n",
              " \"So if we share the problems, why aren't we doing a better job of sharing the successes? How can we do that? Well, in the long term, we can shoot towards increasing inter-African trade, removing borders and putting pressure on leaders to fulfill regional agreements they've already signed. But I think that the biggest way for Africa to share its successes is to foster something I like to call social Pan-Africanism.\",\n",
              " \"Now, political Pan-Africanism already exists, so I'm not inventing anything totally new here. But political Pan-Africanism is usually the African unity of the political elite. And who does that benefit? Well, African leaders, almost exclusively. No, what I'm talking about is the Pan-Africanism of the ordinary African. Young Africans like me, we are bursting with creative energy, with innovative ideas. But with bad governance and shaky institutions, all of this potential could go to waste. On a continent where more than a handful of leaders have been in power longer than the majority of the populations has been alive, we are in desperate need of something new, something that works. And I think that thing is social Pan-Africanism.\",\n",
              " 'My dream is that young Africans stop allowing borders and circumstance to suffocate our innovation. My dream is that when a young African comes up with something brilliant, they don\\'t say, \"Well, this wouldn\\'t work in my country,\" and then give up. My dream is that young Africans begin to realize that the entire continent is our canvas, is our home. Using the Internet, we can begin to think collaboratively, we can begin to innovate together. In Africa, we say, \"If you want to go fast, you go alone, but if you want to go far, you go together.\" And I believe that social Pan-Africanism is how we can go far together.',\n",
              " \"And this is already happening. Access to these online networks has given young Africans something we've always had to violently take: a voice. We now have a platform. Before now, if you wanted to hear from the youth in Africa, you waited for the sixty-five-year-old minister of youth --\",\n",
              " '(Laughter)',\n",
              " 'to wake up in the morning, take his heartburn medication and then tell you the plans he has for your generation in twenty years time. Before now, if you wanted to be heard by your possibly tyrannical government, you were pushed to protest, suffer the consequences and have your fingers crossed that some Western paper somewhere might make someone care. But now we have opportunities to back each other up in ways we never could before.',\n",
              " 'We support South African students who are marching against ridiculously high tertiary fees. We support Zimbabwean women who are marching to parliament. We support Angolan journalists who are being illegally detained. For the first time ever, African pain and African aspiration has the ability to be witnessed by those who can empathize with it the most: other Africans.',\n",
              " 'I believe that with a social Pan-Africanist thinking and using the Internet as a tool, we can begin to rescue each other, and ultimately, to rescue ourselves.',\n",
              " 'Thank you.',\n",
              " '(Applause)',\n",
              " 'So, this is a story about how we know what we know.',\n",
              " \"It's a story about this woman, Natalia Rybczynski. She's a paleobiologist, which means she specializes in digging up really old dead stuff.\",\n",
              " '(Audio) Natalia Rybczynski: Yeah, I had someone call me \"Dr. Dead Things.\"',\n",
              " \"Latif Nasser: And I think she's particularly interesting because of where she digs that stuff up, way above the Arctic Circle in the remote Canadian tundra.\",\n",
              " 'Now, one summer day in two thousand and six, she was at a dig site called the Fyles Leaf Bed, which is less than ten degrees latitude away from the magnetic north pole.',\n",
              " \"(Audio) NR: Really, it's not going to sound very exciting, because it was a day of walking with your backpack and your GPS and notebook and just picking up anything that might be a fossil.\",\n",
              " 'LN: And at some point, she noticed something.',\n",
              " '(Audio) NR: Rusty, kind of rust-colored, about the size of the palm of my hand. It was just lying on the surface.',\n",
              " \"LN: And at first she thought it was just a splinter of wood, because that's the sort of thing people had found at the Fyles Leaf Bed before -- prehistoric plant parts. But that night, back at camp ...\",\n",
              " \"(Audio) NR: ... I get out the hand lens, I'm looking a little bit more closely and realizing it doesn't quite look like this has tree rings. Maybe it's a preservation thing, but it looks really like ... bone.\",\n",
              " 'LN: Huh. So over the next four years, she went to that spot over and over, and eventually collected thirty fragments of that exact same bone, most of them really tiny.',\n",
              " \"(Audio) NR: It's not a whole lot. It fits in a small Ziploc bag.\",\n",
              " 'LN: And she tried to piece them together like a jigsaw puzzle. But it was challenging.',\n",
              " \"(Audio) NR: It's broken up into so many little tiny pieces, I'm trying to use sand and putty, and it's not looking good. So finally, we used a threeD surface scanner.\",\n",
              " 'LN: Ooh! NR: Yeah, right?',\n",
              " '(Laughter)',\n",
              " 'LN: It turns out it was way easier to do it virtually.',\n",
              " \"(Audio) NR: It's kind of magical when it all fits together.\",\n",
              " \"LN: How certain were you that you had it right, that you had put it together in the right way? Was there a potential that you'd put it together a different way and have, like, a parakeet or something?\",\n",
              " '(Laughter)',\n",
              " '(Audio) NR: (Laughs) Um, no. No, we got this.',\n",
              " \"LN: What she had, she discovered, was a tibia, a leg bone, and specifically, one that belonged to a cloven-hoofed mammal, so something like a cow or a sheep. But it couldn't have been either of those. It was just too big.\",\n",
              " \"(Audio) NR: The size of this thing, it was huge. It's a really big animal.\",\n",
              " 'LN: So what animal could it be? Having hit a wall, she showed one of the fragments to some colleagues of hers in Colorado, and they had an idea.',\n",
              " '(Audio) NR: We took a saw, and we nicked just the edge of it, and there was this really interesting smell that comes from it.',\n",
              " 'LN: It smelled kind of like singed flesh. It was a smell that Natalia recognized from cutting up skulls in her gross anatomy lab: collagen. Collagen is what gives structure to our bones. And usually, after so many years, it breaks down. But in this case, the Arctic had acted like a natural freezer and preserved it.',\n",
              " 'Then a year or two later, Natalia was at a conference in Bristol, and she saw that a colleague of hers named Mike Buckley was demoing this new process that he called \"collagen fingerprinting.\" It turns out that different species have slightly different structures of collagen, so if you get a collagen profile of an unknown bone, you can compare it to those of known species, and, who knows, maybe you get a match.',\n",
              " 'So she shipped him one of the fragments, FedEx.',\n",
              " \"(Audio) NR: Yeah, you want to track it. It's kind of important.\",\n",
              " '(Laughter)',\n",
              " 'LN: And he processed it, and compared it to thirty-seven known and modern-day mammal species. And he found a match. It turns out that the three.five million-year-old bone that Natalia had dug out of the High Arctic belonged to ... a camel.',\n",
              " '(Laughter)',\n",
              " \"(Audio) NR: And I'm thinking, what? That's amazing -- if it's true.\",\n",
              " 'LN: So they tested a bunch of the fragments, and they got the same result for each one. However, based on the size of the bone that they found, it meant that this camel was thirty percent larger than modern-day camels. So this camel would have been about nine feet tall, weighed around a ton.',\n",
              " '(Audience reacts)',\n",
              " 'Yeah. Natalia had found a Giant Arctic camel.',\n",
              " '(Laughter)',\n",
              " 'Now, when you hear the word \"camel,\" what may come to mind is one of these, the Bactrian camel of East and Central Asia. But chances are the postcard image you have in your brain is one of these, the dromedary, quintessential desert creature -- hangs out in sandy, hot places like the Middle East and the Sahara, has a big old hump on its back for storing water for those long desert treks, has big, broad feet to help it tromp over sand dunes. So how on earth would one of these guys end up in the High Arctic?',\n",
              " \"Well, scientists have known for a long time, turns out, even before Natalia's discovery, that camels are actually originally American.\",\n",
              " '(Music: The Star-Spangled Banner)',\n",
              " '(Laughter)',\n",
              " 'They started here. For nearly forty of the forty-five million years that camels have been around, you could only find them in North America, around twenty different species, maybe more.',\n",
              " '(Audio) LN: If I put them all in a lineup, would they look different?',\n",
              " \"NR: Yeah, you're going to have different body sizes. You'll have some with really long necks, so they're actually functionally like giraffes.\",\n",
              " 'LN: Some had snouts, like crocodiles.',\n",
              " '(Audio) NR: The really primitive, early ones would have been really small, almost like rabbits.',\n",
              " 'LN: What? Rabbit-sized camels?',\n",
              " '(Audio) NR: The earliest ones. So those ones you probably would not recognize.',\n",
              " 'LN: Oh my God, I want a pet rabbit-camel.',\n",
              " \"(Audio) NR: I know, wouldn't that be great?\",\n",
              " '(Laughter)',\n",
              " 'LN: And then about three to seven million years ago, one branch of camels went down to South America, where they became llamas and alpacas, and another branch crossed over the Bering Land Bridge into Asia and Africa. And then around the end of the last ice age, North American camels went extinct.',\n",
              " \"So, scientists knew all of that already, but it still doesn't fully explain how Natalia found one so far north. Like, this is, temperature-wise, the polar opposite of the Sahara. Now to be fair, three and a half million years ago, it was on average twenty-two degrees Celsius warmer than it is now. So it would have been boreal forest, so more like the Yukon or Siberia today. But still, like, they would have six-month-long winters where the ponds would freeze over. You'd have blizzards. You'd have twenty-four hours a day of straight darkness. Like, how ... How? How is it that one of these Saharan superstars could ever have survived those arctic conditions?\",\n",
              " '(Laughter)',\n",
              " \"Natalia and her colleagues think they have an answer. And it's kind of brilliant. What if the very features that we imagine make the camel so well-suited to places like the Sahara, actually evolved to help it get through the winter? What if those broad feet were meant to tromp not over sand, but over snow, like a pair of snowshoes? What if that hump -- which, huge news to me, does not contain water, it contains fat --\",\n",
              " '(Laughter)',\n",
              " \"was there to help the camel get through that six-month-long winter, when food was scarce? And then, only later, long after it crossed over the land bridge did it retrofit those winter features for a hot desert environment? Like, for instance, the hump may be helpful to camels in hotter climes because having all your fat in one place, like a, you know, fat backpack, means that you don't have to have that insulation all over the rest of your body. So it helps heat dissipate easier. It's this crazy idea, that what seems like proof of the camel's quintessential desert nature could actually be proof of its High Arctic past.\",\n",
              " \"Now, I'm not the first person to tell this story. Others have told it as a way to marvel at evolutionary biology or as a keyhole into the future of climate change. But I love it for a totally different reason. For me, it's a story about us, about how we see the world and about how that changes.\",\n",
              " \"So I was trained as a historian. And I've learned that, actually, a lot of scientists are historians, too. They make sense of the past. They tell the history of our universe, of our planet, of life on this planet. And as a historian, you start with an idea in your mind of how the story goes.\",\n",
              " \"(Audio) NR: We make up stories and we stick with it, like the camel in the desert, right? That's a great story! It's totally adapted for that. Clearly, it always lived there.\",\n",
              " 'LN: But at any moment, you could uncover some tiny bit of evidence. You could learn some tiny thing that forces you to reframe everything you thought you knew. Like, in this case, this one scientist finds this one shard of what she thought was wood, and because of that, science has a totally new and totally counterintuitive theory about why this absurd Dr. Seuss-looking creature looks the way it does. And for me, it completely upended the way I think of the camel. It went from being this ridiculously niche creature suited only to this one specific environment, to being this world traveler that just happens to be in the Sahara, and could end up virtually anywhere.',\n",
              " '(Applause)',\n",
              " \"This is Azuri. Azuri, hi, how are you doing? OK, here, I've got one of these for you here.\",\n",
              " '(Laughter)',\n",
              " 'So Azuri is on a break from her regular gig at the Radio City Music Hall.',\n",
              " '(Laughter)',\n",
              " \"That's not even a joke. Anyway --\",\n",
              " 'But really, Azuri is here as a living reminder that the story of our world is a dynamic one. It requires our willingness to readjust, to reimagine.',\n",
              " '(Laughter)',\n",
              " 'Right, Azuri?',\n",
              " \"And, really, that we're all just one shard of bone away from seeing the world anew.\",\n",
              " 'Thank you very much.',\n",
              " '(Applause)',\n",
              " \"People returning to work after a career break: I call them relaunchers. These are people who have taken career breaks for elder care, for childcare reasons, pursuing a personal interest or a personal health issue. Closely related are career transitioners of all kinds: veterans, military spouses, retirees coming out of retirement or repatriating expats. Returning to work after a career break is hard because of a disconnect between the employers and the relaunchers. Employers can view hiring people with a gap on their resume as a high-risk proposition, and individuals on career break can have doubts about their abilities to relaunch their careers, especially if they've been out for a long time. This disconnect is a problem that I'm trying to help solve.\",\n",
              " \"Now, successful relaunchers are everywhere and in every field. This is Sami Kafala. He's a nuclear physicist in the UK who took a five-year career break to be home with his five children. The Singapore press recently wrote about nurses returning to work after long career breaks. And speaking of long career breaks, this is Mimi Kahn. She's a social worker in Orange County, California, who returned to work in a social services organization after a twenty-five-year career break. That's the longest career break that I'm aware of. Supreme Court Justice Sandra Day O'Connor took a five-year career break early in her career.\",\n",
              " \"And this is Tracy Shapiro, who took a thirteen-year career break. Tracy answered a call for essays by the Today Show from people who were trying to return to work but having a difficult time of it. Tracy wrote in that she was a mom of five who loved her time at home, but she had gone through a divorce and needed to return to work, plus she really wanted to bring work back into her life because she loved working. Tracy was doing what so many of us do when we feel like we've put in a good day in the job search. She was looking for a finance or accounting role, and she had just spent the last nine months very diligently researching companies online and applying for jobs with no results.\",\n",
              " 'I met Tracy in June of two thousand and eleven, when the Today Show asked me if I could work with her to see if I could help her turn things around. The first thing I told Tracy was she had to get out of the house. I told her she had to go public with her job search and tell everyone she knew about her interest in returning to work. I also told her, \"You are going to have a lot of conversations that don\\'t go anywhere. Expect that, and don\\'t be discouraged by it. There will be a handful that ultimately lead to a job opportunity.\"',\n",
              " \"I'll tell you what happened with Tracy in a little bit, but I want to share with you a discovery that I made when I was returning to work after my own career break of eleven years out of the full-time workforce. And that is, that people's view of you is frozen in time. What I mean by this is, when you start to get in touch with people and you get back in touch with those people from the past, the people with whom you worked or went to school, they are going to remember you as you were before your career break. And that's even if your sense of self has diminished over time, as happens with so many of us the farther removed we are from our professional identities. So for example, you might think of yourself as someone who looks like this. This is me, crazy after a day of driving around in my minivan. Or here I am in the kitchen. But those people from the past, they don't know about any of this. They only remember you as you were, and it's a great confidence boost to be back in touch with these people and hear their enthusiasm about your interest in returning to work.\",\n",
              " \"There's one more thing I remember vividly from my own career break. And that was that I hardly kept up with the business news. My background is in finance, and I hardly kept up with any news when I was home caring for my four young children. So I was afraid I'd go into an interview and start talking about a company that didn't exist anymore. So I had to resubscribe to the Wall Street Journal and read it for a good six months cover to cover before I felt like I had a handle on what was going on in the business world again.\",\n",
              " \"I believe relaunchers are a gem of the workforce, and here's why. Think about our life stage: for those of us who took career breaks for childcare reasons, we have fewer or no maternity leaves. We did that already. We have fewer spousal or partner job relocations. We're in a more settled time of life. We have great work experience. We have a more mature perspective. We're not trying to find ourselves at an employer's expense. Plus we have an energy, an enthusiasm about returning to work precisely because we've been away from it for a while.\",\n",
              " 'On the flip side, I speak with employers, and here are two concerns that employers have about hiring relaunchers.',\n",
              " \"The first one is, employers are worried that relaunchers are technologically obsolete. Now, I can tell you, having been technologically obsolete myself at one point, that it's a temporary condition. I had done my financial analysis so long ago that I used Lotus one-two-three. I don't know if anyone can even remember back that far, but I had to relearn it on Excel. It actually wasn't that hard. A lot of the commands are the same. I found PowerPoint much more challenging, but now I use PowerPoint all the time. I tell relaunchers that employers expect them to come to the table with a working knowledge of basic office management software. And if they're not up to speed, then it's their responsibility to get there. And they do.\",\n",
              " \"The second area of concern that employers have about relaunchers is they're worried that relaunchers don't know what they want to do. I tell relaunchers that they need to do the hard work to figure out whether their interests and skills have changed or have not changed while they have been on career break. That's not the employer's job. It's the relauncher's responsibility to demonstrate to the employer where they can add the most value.\",\n",
              " 'Back in two thousand and ten I started noticing something. I had been tracking return to work programs since two thousand and eight, and in two thousand and ten, I started noticing the use of a short-term paid work opportunity, whether it was called an internship or not, but an internship-like experience, as a way for professionals to return to work. I saw Goldman Sachs and Sara Lee start corporate reentry internship programs. I saw a returning engineer, a nontraditional reentry candidate, apply for an entry-level internship program in the military, and then get a permanent job afterward. I saw two universities integrate internships into mid-career executive education programs.',\n",
              " 'So I wrote a report about what I was seeing, and it became this article for Harvard Business Review called \"The forty-Year-Old Intern.\" I have to thank the editors there for that title, and also for this artwork where you can see the forty-year-old intern in the midst of all the college interns. And then, courtesy of Fox Business News, they called the concept \"The fifty-Year-Old Intern.\"',\n",
              " '(Laughter)',\n",
              " 'So five of the biggest financial services companies have reentry internship programs for returning finance professionals. And at this point, hundreds of people have participated. These internships are paid, and the people who move on to permanent roles are commanding competitive salaries. And now, seven of the biggest engineering companies are piloting reentry internship programs for returning engineers as part of an initiative with the Society of Women Engineers. Now, why are companies embracing the reentry internship? Because the internship allows the employer to base their hiring decision on an actual work sample instead of a series of interviews, and the employer does not have to make that permanent hiring decision until the internship period is over. This testing out period removes the perceived risk that some managers attach to hiring relaunchers, and they are attracting excellent candidates who are turning into great hires.',\n",
              " \"Think about how far we have come. Before this, most employers were not interested in engaging with relaunchers at all. But now, not only are programs being developed specifically with relaunchers in mind, but you can't even apply for these programs unless you have a gap on your résumé.\",\n",
              " \"This is the mark of real change, of true institutional shift, because if we can solve this problem for relaunchers, we can solve it for other career transitioners too. In fact, an employer just told me that their veterans return to work program is based on their reentry internship program. And there's no reason why there can't be a retiree internship program. Different pool, same concept.\",\n",
              " 'So let me tell you what happened with Tracy Shapiro. Remember that she had to tell everyone she knew about her interest in returning to work. Well, one critical conversation with another parent in her community led to a job offer for Tracy, and it was an accounting job in a finance department. But it was a temp job. The company told her there was a possibility it could turn into something more, but no guarantees. This was in the fall of two thousand and eleven. Tracy loved this company, and she loved the people and the office was less than ten minutes from her house. So even though she had a second job offer at another company for a permanent full-time role, she decided to take her chances with this internship and hope for the best. Well, she ended up blowing away all of their expectations, and the company not only made her a permanent offer at the beginning of two thousand and twelve, but they made it even more interesting and challenging, because they knew what Tracy could handle.',\n",
              " \"Fast forward to two thousand and fifteen, Tracy's been promoted. They've paid for her to get her MBA at night. She's even hired another relauncher to work for her. Tracy's temp job was a tryout, just like an internship, and it ended up being a win for both Tracy and her employer.\",\n",
              " \"Now, my goal is to bring the reentry internship concept to more and more employers. But in the meantime, if you are returning to work after a career break, don't hesitate to suggest an internship or an internship-like arrangement to an employer that does not have a formal reentry internship program. Be their first success story, and you can be the example for more relaunchers to come.\",\n",
              " 'Thank you.',\n",
              " '(Applause)',\n",
              " \"The following are my opinions, and do not reflect the opinions or policies of any particular prosecutor's office.\",\n",
              " '(Laughter)',\n",
              " \"I am a prosecutor. I believe in law and order. I am the adopted son of a police officer, a Marine and a hairdresser. I believe in accountability and that we should all be safe in our communities. I love my job and the people that do it. I just think that it's our responsibility to do it better.\",\n",
              " 'By a show of hands, how many of you, by the age of twenty-five, had either acted up in school, went somewhere you were specifically told to stay out of, or drank alcohol before your legal age?',\n",
              " '(Laughter)',\n",
              " 'All right.',\n",
              " \"How many of you shoplifted, tried an illegal drug or got into a physical fight -- yes, even with a sibling? Now, how many of you ever spent one day in jail for any of those decisions? How many of you sitting here today think that you're a danger to society or should be defined by those actions of youthful indiscretion?\",\n",
              " '(Laughter)',\n",
              " 'Point taken.',\n",
              " \"When we talk about criminal justice reform, we often focus on a few things, and that's what I want to talk to you about today. But first I'm going to -- since you shared with me, I'm going to give you a confession on my part. I went to law school to make money. I had no interest in being a public servant, I had no interest in criminal law, and I definitely didn't think that I would ever be a prosecutor.\",\n",
              " 'Near the end of my first year of law school, I got an internship in the Roxbury Division of Boston Municipal Court. I knew of Roxbury as an impoverished neighborhood in Boston, plagued by gun violence and drug crime. My life and my legal career changed the first day of that internship. I walked into a courtroom, and I saw an auditorium of people who, one by one, would approach the front of that courtroom to say two words and two words only: \"Not guilty.\" They were predominately black and brown. And then a judge, a defense attorney and a prosecutor would make life-altering decisions about that person without their input. They were predominately white. As each person, one by one, approached the front of that courtroom, I couldn\\'t stop but think: How did they get here? I wanted to know their stories. And as the prosecutor read the facts of each case, I was thinking to myself, we could have predicted that. That seems so preventable... not because I was an expert in criminal law, but because it was common sense.',\n",
              " 'Over the course of the internship, I began to recognize people in the auditorium, not because they were criminal masterminds but because they were coming to us for help and we were sending them out without any.',\n",
              " 'My second year of law school I worked as a paralegal for a defense attorney, and in that experience I met many young men accused of murder. Even in our \"worst,\" I saw human stories. And they all contained childhood trauma, victimization, poverty, loss, disengagement from school, early interaction with the police and the criminal justice system, all leading to a seat in a courtroom. Those convicted of murder were condemned to die in prison, and it was during those meetings with those men that I couldn\\'t fathom why we would spend so much money to keep this one person in jail for the next eighty years when we could have reinvested it up front, and perhaps prevented the whole thing from happening in the first place.',\n",
              " '(Applause)',\n",
              " \"My third year of law school, I defended people accused of small street crimes, mostly mentally ill, mostly homeless, mostly drug-addicted, all in need of help. They would come to us, and we would send them away without that help. They were in need of our assistance. But we weren't giving them any. Prosecuted, adjudged and defended by people who knew nothing about them.\",\n",
              " 'The staggering inefficiency is what drove me to criminal justice work. The unfairness of it all made me want to be a defender. The power dynamic that I came to understand made me become a prosecutor.',\n",
              " \"I don't want to spend a lot of time talking about the problem. We know the criminal justice system needs reform, we know there are two.three million people in American jails and prisons, making us the most incarcerated nation on the planet. We know there's another seven million people on probation or parole, we know that the criminal justice system disproportionately affects people of color, particularly poor people of color. And we know there are system failures happening everywhere that bring people to our courtrooms. But what we do not discuss is how ill-equipped our prosecutors are to receive them. When we talk about criminal justice reform, we, as a society, focus on three things. We complain, we tweet, we protest about the police, about sentencing laws and about prison. We rarely, if ever, talk about the prosecutor.\",\n",
              " \"In the fall of two thousand and nine, a young man was arrested by the Boston Police Department. He was eighteen years old, he was African American and he was a senior at a local public school. He had his sights set on college but his part-time, minimum-wage job wasn't providing the financial opportunity he needed to enroll in school. In a series of bad decisions, he stole thirty laptops from a store and sold them on the Internet. This led to his arrest and a criminal complaint of thirty felony charges. The potential jail time he faced is what stressed Christopher out the most. But what he had little understanding of was the impact a criminal record would have on his future.\",\n",
              " \"I was standing in arraignments that day when Christopher's case came across my desk. And at the risk of sounding dramatic, in that moment, I had Christopher's life in my hands. I was twenty-nine years old, a brand-new prosecutor, and I had little appreciation for how the decisions I would make would impact Christopher's life. Christopher's case was a serious one and it needed to be dealt with as such, but I didn't think branding him a felon for the rest of his life was the right answer.\",\n",
              " \"For the most part, prosecutors step onto the job with little appreciation of the impact of our decisions, regardless of our intent. Despite our broad discretion, we learn to avoid risk at all cost, rendering our discretion basically useless. History has conditioned us to believe that somehow, the criminal justice system brings about accountability and improves public safety, despite evidence to the contrary. We're judged internally and externally by our convictions and our trial wins, so prosecutors aren't really incentivized to be creative at our case positions, dispositions, or to take risks on people we might not otherwise. We stick to an outdated method, counterproductive to achieving the very goal that we all want, and that's safer communities.\",\n",
              " 'Yet most prosecutors standing in my space would have arraigned Christopher. They have little appreciation for what we can do. Arraigning Christopher would give him a criminal record, making it harder for him to get a job, setting in motion a cycle that defines the failing criminal justice system today. With a criminal record and without a job, Christopher would be unable to find employment, education or stable housing. Without those protective factors in his life, Christopher would be more likely to commit further, more serious crime. The more contact Christopher had with the criminal justice system, the more likely it would be that he would return again and again and again -- all a tremendous social cost to his children, to his family and to his peers. And, ladies and gentlemen, it is a terrible public safety outcome for the rest of us.',\n",
              " 'When I came out of law school, I did the same thing as everybody else. I came out as a prosecutor expected to do justice, but I never learned what justice was in my classes -- none of us do. None of us do.',\n",
              " 'And yet, prosecutors are the most powerful actors in the criminal justice system. Our power is virtually boundless. In most cases, not the judge, not the police, not the legislature, not the mayor, not the governor, not the President can tell us how to prosecute our cases. The decision to arraign Christopher and give him a criminal record was exclusively mine. I would choose whether to prosecute him for thirty felonies, for one felony, for a misdemeanor, or at all. I would choose whether to leverage Christopher into a plea deal or take the case to trial, and ultimately, I would be in a position to ask for Christopher to go to jail. These are decisions that prosecutors make every day unfettered, and we are unaware and untrained of the grave consequences of those decisions.',\n",
              " 'One night this past summer, I was at a small gathering of professional men of color from around the city. As I stood there stuffing free finger sandwiches into my mouth, as you do as public servant --',\n",
              " '(Laughter)',\n",
              " 'I noticed across the room, a young man waving and smiling at me and approaching me. And I recognized him, but I couldn\\'t place from where, and before I knew it, this young man was hugging me. And thanking me. \"You cared about me, and you changed my life.\" It was Christopher.',\n",
              " \"See, I never arraigned Christopher. He never faced a judge or a jail, he never had a criminal record. Instead, I worked with Christopher; first on being accountable for his actions, and then, putting him in a position where he wouldn't re-offend. We recovered seventy-five percent of the computers that he sold and gave them back to Best Buy, and came up with a financial plan to repay for the computers we couldn't recover. Christopher did community service. He wrote an essay reflecting on how this case could impact his future and that of the community. He applied to college, he obtained financial aid, and he went on to graduate from a four-year school.\",\n",
              " '(Applause)',\n",
              " 'After we finished hugging, I looked at his name tag, to learn that Christopher was the manager of a large bank in Boston. Christopher had accomplished -- and making a lot more money than me --',\n",
              " '(Laughter)',\n",
              " \"He had accomplished all of this in the six years since I had first seen him in Roxbury Court. I can't take credit for Christopher's journey to success, but I certainly did my part to keep him on the path.\",\n",
              " \"There are thousands of Christophers out there, some locked in our jails and prisons. We need thousands of prosecutors to recognize that and to protect them. An employed Christopher is better for public safety than a condemned one. It's a bigger win for all of us. In retrospect, the decision not to throw the book at Christopher makes perfect sense. When I saw him that first day in Roxbury Court, I didn't see a criminal standing there. I saw myself -- a young person in need of intervention. As an individual caught selling a large quantity of drugs in my late teens, I knew firsthand the power of opportunity as opposed to the wrath of the criminal justice system. Along the way, with the help and guidance of my district attorney, my supervisor and judges, I learned the power of the prosecutor to change lives instead of ruining them.\",\n",
              " \"And that's how we do it in Boston. We helped a woman who was arrested for stealing groceries to feed her kids get a job. Instead of putting an abused teenager in adult jail for punching another teenager, we secured mental health treatment and community supervision. A runaway girl who was arrested for prostituting, to survive on the streets, needed a safe place to live and grow -- something we could help her with. I even helped a young man who was so afraid of the older gang kids showing up after school, that one morning instead of a lunchbox into his backpack, he put a loaded nine-millimeter. We would spend our time that we'd normally take prepping our cases for months and months for trial down the road by coming up with real solutions to the problems as they presented.\",\n",
              " 'Which is the better way to spend our time? How would you prefer your prosecutors to spend theirs? Why are we spending eighty billion dollars on a prison industry that we know is failing, when we could take that money and reallocate it into education, into mental health treatment, into substance abuse treatment and to community investment so we can develop our neighborhoods?',\n",
              " '(Applause)',\n",
              " \"So why should this matter to you? Well, one, we're spending a lot of money. Our money. It costs one hundred and nine,zero dollars in some states to lock up a teenager for a year, with a sixty percent chance that that person will return to the very same system. That is a terrible return on investment.\",\n",
              " \"Number two: it's the right thing to do. If prosecutors were a part of creating the problem, it's incumbent on us to create a solution and we can do that using other disciplines that have already done the data and research for us.\",\n",
              " \"And number three: your voice and your vote can make that happen. The next time there's a local district attorney's election in your jurisdiction, ask candidates these questions. One: What are you doing to make me and my neighbors safer? Two: What data are you collecting, and how are you training your prosecutors to make sure that it's working? And number three: If it's not working for everybody, what are you doing to fix it? If they can't answer the questions, they shouldn't be doing the job.\",\n",
              " 'Each one of you that raised your hand at the beginning of this talk is a living, breathing example of the power of opportunity, of intervention, of support and of love. While each of you may have faced your own brand of discipline for whatever malfeasances you committed, barely any of you needed a day in jail to make you the people that you are today -- some of the greatest minds on the planet.',\n",
              " \"Every day, thousands of times a day, prosecutors around the United States wield power so great that it can bring about catastrophe as quickly as it can bring about opportunity, intervention, support and yes, even love. Those qualities are the hallmarks of a strong community, and a strong community is a safe one. If our communities are broken, don't let the lawyers that you elect fix them with outdated, inefficient, expensive methods.\",\n",
              " \"Demand more; vote for the prosecutor who's helping people stay out of jail, not putting them in.\",\n",
              " 'Demand better. You deserve it, your children deserve it, the people who are tied up in the system deserve it, but most of all, the people that we are sworn to protect and do justice for demand it.',\n",
              " 'We must, we must do better.',\n",
              " 'Thank you.',\n",
              " '(Applause)',\n",
              " 'Thank you.',\n",
              " '(Applause)',\n",
              " 'Thank you very much.',\n",
              " \"Today's computers are so amazing that we fail to notice how terrible they really are. I'd like to talk to you today about this problem, and how we can fix it with neuroscience.\",\n",
              " 'First, I\\'d like to take you back to a frosty night in Harlem in two thousand and eleven that had a profound impact on me. I was sitting in a dive bar outside of Columbia University, where I studied computer science and neuroscience, and I was having this great conversation with a fellow student about the power of holograms to one day replace computers. And just as we were getting to the best part of the conversation, of course, his phone lights up. And he pulls it towards himself, and he looks down and he starts typing. And then he forces his eyeballs back up to mine and he goes, \"Keep going. I\\'m with you.\" But of course his eyes were glazed over, and the moment was dead.',\n",
              " 'Meanwhile across the bar, I noticed another student holding his phone, this time towards a group. He was swiping through pictures on Instagram, and these kids were laughing hysterically. And that dichotomy between how crappy I was feeling and how happy they were feeling about the same technology, really got me thinking. And the more I thought of it, the more I realized it was clearly not the digital information that was the bad guy here, it was simply the display position that was separating me from my friend and that was binding those kids together.',\n",
              " \"See, they were connected around something, just like our ancestors who evolved their social cognitions telling stories around the campfire. And that's exactly what tools should do, I think. They should extend our bodies. And I think computers today are doing quite the opposite. Whether you're sending an email to your wife or you're composing a symphony or just consoling a friend, you're doing it in pretty much the same way. You're hunched over these rectangles, fumbling with buttons and menus and more rectangles. And I think this is the wrong way, I think we can start using a much more natural machine. We should use machines that bring our work back into the world. We should use machines that use the principles of neuroscience to extend our senses versus going against them.\",\n",
              " \"Now it just so happens that I have such a machine here. It's called the Meta two. Let's try it out. Now in front of me right now, I can see the audience, and I can see my very hands. And in three, two, one, we're going to see an immersive hologram appear, a very realistic hologram appear in front of me, of our very glasses I'm wearing on my head right now. And of course this could be anything that we're shopping for or learning from, and I can use my hands to very nicely kind of move it around with fine control. And I think Iron Man would be proud. We're going to come back to this in just a bit.\",\n",
              " '(Applause)',\n",
              " \"Now if you're anything like me, your mind is already reeling with the possibilities of what we can do with this kind of technology, so let's look at a few.\",\n",
              " \"My mom is an architect, so naturally the first thing I imagined was laying out a building in threeD space instead of having to use these twoD floor plans. She's actually touching graphics right now and selecting an interior decor. This was all shot through a GoPro through our very glasses.\",\n",
              " \"And this next use case is very personal to me, it's Professor Adam Gazzaley's glass brain project, courtesy of UCSF. As a neuroscience student, I would always fantasize about the ability to learn and memorize these complex brain structures with an actual machine, where I could touch and play with the various brain structures.\",\n",
              " \"Now what you're seeing is called augmented reality, but to me, it's part of a much more important story -- a story of how we can begin to extend our bodies with digital devices, instead of the other way around.\",\n",
              " \"Now ... in the next few years, humanity's going to go through a shift, I think. We're going to start putting an entire layer of digital information on the real world. Just imagine for a moment what this could mean for storytellers, for painters, for brain surgeons, for interior decorators and maybe for all of us here today. And what I think we need to do as a community, is really try and make an effort to imagine how we can create this new reality in a way that extends the human experience, instead of gamifying our reality or cluttering it with digital information. And that's what I'm very passionate about.\",\n",
              " \"Now, I want to tell you a little secret. In about five years -- this is not the smallest device -- in about five years, these are all going to look like strips of glass on our eyes that project holograms. And just like we don't care so much about which phone we buy in terms of the hardware -- we buy it for the operating system -- as a neuroscientist, I always dreamt of building the iOS of the mind, if you will. And it's very, very important that we get this right, because we might be living inside of these things for at least as long as we've lived with the Windows graphical user interface. And I don't know about you, but living inside of Windows scares me.\",\n",
              " '(Laughter)',\n",
              " 'To isolate the single most intuitive interface out of infinity, we use neuroscience to drive our design guidelines, instead of letting a bunch of designers fight it out in the boardroom. And the principle we all revolve around is what\\'s called the \"Neural Path of Least Resistance.\"',\n",
              " \"At every turn, we're connecting the iOS of the brain with our brain on, for the first time, our brain's terms. In other words, we're trying to create a zero learning-curve computer. We're building a system that you've always known how to use.\",\n",
              " \"Here are the first three design guidelines that we employ in this brand-new form of user experience. First and foremost, you are the operating system. Traditional file systems are complex and abstract, and they take your brain extra steps to decode them. We're going against the Neural Path of Least Resistance. Meanwhile, in augmented reality, you can of course place your holographic TED panel over here, and your holographic email on the other side of the desk, and your spatial memory evolved just fine to go ahead and retrieve them. You could put your holographic Tesla that you're shopping for -- or whatever model my legal team told me to put in right before the show.\",\n",
              " '(Laughter)',\n",
              " 'Perfect. And your brain knows exactly how to get it back.',\n",
              " 'The second interface guideline we call \"touch to see.\" What do babies do when they see something that grabs their interest? They try and reach out and touch it. And that\\'s exactly how the natural machine should work as well. Turns out the visual system gets a fundamental boost from a sense we call proprioception -- that\\'s the sense of our body parts in space. So by touching our work directly, we\\'re not only going to control it better, we\\'re also going to understand it much more deeply. Hence, touch to see.',\n",
              " \"But it's not enough to experience things ourselves. We're inherently these social primates. And this leads me to our third guideline, the holographic campfire from our first story.\",\n",
              " \"Our mirror-neuron subsystem suggests that we can connect with each other and with our work much better if we can see each other's faces and hands in threeD. So if you look at the video behind me, you can see two Meta users playing around with the same hologram, making eye contact, connected around this thing, instead of being distracted by external devices.\",\n",
              " \"Let's go ahead and try this again with neuroscience in mind. So again, our favorite interface, the iOS of the mind. I'm going to now take a step further and go ahead and grab this pair of glasses and leave it right here by the desk. I'm now with you, I'm in the moment, we're connecting. My spatial memory kicks in, and I can go ahead and grab it and bring it right back here, reminding me that I am the operating system. And now my proprioception is working, and I can go ahead and explode these glasses into a thousand parts and touch the very sensor that is currently scanning my hand.\",\n",
              " \"But it's not enough to see things alone, so in a second, my co-founder Ray is going to make a threeD call -- Ray?\",\n",
              " '(Ringing)',\n",
              " \"Hey Ray, how's it going? Guys, I can see this guy in front me in full threeD. And he is photo-realistic.\",\n",
              " '(Applause)',\n",
              " 'Thank you.',\n",
              " \"My mirror-neuron subsystem suggests that this is going to replace phones in not too long. Ray, how's it going?\",\n",
              " \"Ray: Great. We're live today.\",\n",
              " '(Applause)',\n",
              " \"MG: Ray, give the crowd a gift of the holographic brain we saw from the video earlier. Guys, this is not only going to change phones, it's also going to change the way we collaborate.\",\n",
              " 'Thank you so much.',\n",
              " 'Thanks, Ray.',\n",
              " \"Ray: You're welcome.\",\n",
              " '(Applause)',\n",
              " \"MG: So folks, this is the message that I discovered in that bar in two thousand and eleven: The future of computers is not locked inside one of these screens. It's right here, inside of us.\",\n",
              " '(Applause)',\n",
              " \"So if there's one idea that I could leave you with here today, it's that the natural machine is not some figment of the future, it's right here in two thousand and sixteen. Which is why all hundred of us at Meta, including the administrative staff, the executives, the designers, the engineers -- before TEDtwo thousand and seventeen, we're all going to be throwing away our external monitors and replacing them with a truly and profoundly more natural machine.\",\n",
              " 'Thank you very much.',\n",
              " '(Applause)',\n",
              " 'Thank you, appreciate it. Thanks, guys.',\n",
              " \"Chris Anderson: So help me out on one thing, because there've been a few augmented reality demos shown over the last year or so out there. And there's sometimes a debate among technologists about, are we really seeing the real thing on-screen? There's this issue of field of view, that somehow the technology is showing a broader view than you would actually see wearing the glasses. Were we seeing the real deal there?\",\n",
              " \"MG: Absolutely the real deal. Not only that, we took extra measures to shoot it with a GoPro through the actual lens in the various videos that you've seen here. We want to try to simulate the experience for the world that we're actually seeing through the glasses, and not cut any corners.\",\n",
              " 'CA: Thank you so much for showing us that.',\n",
              " 'MG: Thanks so much, I appreciate that.',\n",
              " 'I come from one of the most liberal, tolerant, progressive places in the United States, Seattle, Washington. And I grew up with a family of great Seattlites. My mother was an artist, my father was a college professor, and I am truly grateful for my upbringing, because I always felt completely comfortable designing my life exactly as I saw fit.',\n",
              " 'And in point of fact, I took a route that was not exactly what my parents had in mind. When I was nineteen, I dropped out of college -- dropped out, kicked out, splitting hairs.',\n",
              " '(Laughter)',\n",
              " 'And I went on the road as a professional French horn player, which was my lifelong dream. I played chamber music all over the United States and Europe, and I toured for a couple of years with a great jazz guitar player named Charlie Bird. And by the end of my twentys, I wound up as a member of the Barcelona Symphony Orchestra in Spain. What a great life.',\n",
              " 'And you know, my parents never complained. They supported me all the way through it. It wasn\\'t their dream. They used to tell their neighbors and friends, \"Our son, he\\'s taking a gap decade.\"',\n",
              " '(Laughter)',\n",
              " 'And -- There was, however, one awkward conversation about my lifestyle that I want to tell you about. I was twenty-seven, and I was home from Barcelona, and I was visiting my parents for Christmas, and I was cooking dinner with my mother, and we were alone in the kitchen. And she was quiet, too quiet. Something was wrong. And so I said, \"Mom, what\\'s on your mind?\" And she said, \"Your dad and I are really worried about you.\" And I said, \"What?\" I mean, what could it be, at this point? And she said, \"I want you to be completely honest with me: have you been voting for Republicans?\"',\n",
              " '(Laughter)',\n",
              " \"Now, the truth is, I wasn't really political, I was just a French horn player. But I had a bit of an epiphany, and they had detected it, and it was causing some confusion. You see, I had become an enthusiast for capitalism, and I want to tell you why that is. It stems from a lifelong interest of mine in, believe it or not, poverty.\",\n",
              " \"See, when I was a kid growing up in Seattle, I remember the first time I saw real poverty. We were a lower middle class family, but that's of course not real poverty. That's not even close. The first time I saw poverty, and poverty's face, was when I was six or seven years old, early one thousand, nine hundred and seventys. And it was like a lot of you, kind of a prosaic example, kind of trite. It was a picture in the National Geographic Magazine of a kid who was my age in East Africa, and there were flies on his face and a distended belly. And he wasn't going to make it, and I knew that, and I was helpless. Some of you remember that picture, not exactly that picture, one just like it. It introduced the West to grinding poverty around the world. Well, that vision kind of haunted me as I grew up and I went to school and I dropped out and dropped in and started my family. And I wondered, what happened to that kid? Or to people just like him all over the world? And so I started to study, even though I wasn't in college, I was looking for the answer: what happened to the world's poorest people? Has it gotten worse? Has it gotten better? What?\",\n",
              " 'And I found the answer, and it changed my life, and I want to share it with you.',\n",
              " 'See -- most Americans believe that poverty has gotten worse since we were children, since they saw that vision. If you ask Americans, \"Has poverty gotten worse or better around the world?\", seventy percent will say that hunger has gotten worse since the early one thousand, nine hundred and seventys. But here\\'s the truth. Here\\'s the epiphany that I had that changed my thinking. From one thousand, nine hundred and seventy until today, the percentage of the world\\'s population living in starvation levels, living on a dollar a day or less, obviously adjusted for inflation, that percentage has declined by eighty percent. There\\'s been an eighty percent decline in the world\\'s worst poverty since I was a kid. And I didn\\'t even know about it. This, my friends, that\\'s a miracle. That\\'s something we ought to celebrate. It\\'s the greatest antipoverty achievement in the history of mankind, and it happened in our lifetimes.',\n",
              " '(Applause)',\n",
              " \"So when I learned this, I asked, what did that? What made it possible? Because if you don't know why, you can't do it again. If you want to replicate it and get the next two billion people out of poverty, because that's what we're talking about: since I was a kid, two billion of the least of these, our brothers and sisters, have been pulled out of poverty. I want the next two billion, so I've got to know why. And I went in search of an answer. And it wasn't a political answer, because I didn't care. You know what, I still don't care. I wanted the best answer from mainstream economists left, right and center.\",\n",
              " 'And here it is. Here are the reasons. There are five reasons that two billion of our brothers and sisters have been pulled out of poverty since I was a kid. Number one: globalization. Number two: free trade. Number three: property rights. Number four: rule of law. Number five: entrepreneurship. It was the free enterprise system spreading around the world after one thousand, nine hundred and seventy that did that.',\n",
              " \"Now, I'm not naive. I know that free enterprise isn't perfect, and I know that free enterprise isn't everything we need to build a better world. But that is great. And that's beyond politics. Here's what I learned. This is the epiphany. Capitalism is not just about accumulation. At its best, it's about aspiration, which is what so many people on this stage talk about, is the aspiration that comes from dreams that are embedded in the free enterprise system. And we've got to share it with more people.\",\n",
              " 'Now, I want to tell you about a second epiphany that\\'s related to that first one that I think can bring us progress, not just around the world, but right here at home. The best quote I\\'ve ever heard to summarize the thoughts that I\\'ve just given you about pulling people out of poverty is as follows: \"Free markets have created more wealth than any system in history. They have lifted billions out of poverty.\"',\n",
              " 'Who said it? It sounds like Milton Friedman or Ronald Reagan. Wrong. President Barack Obama said that. Why do I know it by heart? Because he said it to me. Crazy. And I said, \"Hallelujah.\" But more than that, I said, \"What an opportunity.\"',\n",
              " \"You know what I was a thinking? It was at an event that we were doing on the subject at Georgetown University in May of two thousand and fifteen. And I thought, this is the solution to the biggest problem facing America today. What? It's coming together around these ideas, liberals and conservatives, to help people who need us the most.\",\n",
              " 'Now, I don\\'t have to tell anybody in this room that we\\'re in a crisis, in America and many countries around the world with political polarization. It\\'s risen to critical, crisis levels. It\\'s unpleasant. It\\'s not right. There was an article last year in the Proceedings of the National Academy of Sciences, which is one of the most prestigious scientific journals published in the West. And it was an article in two thousand and fourteen on political motive asymmetry. What\\'s that? That\\'s what psychologists call the phenomenon of assuming that your ideology is based in love but your opponents\\' ideology is based in hate. It\\'s common in world conflict. You expect to see this between Palestinians and Israelis, for example. What the authors of this article found was that in America today, a majority of Republicans and Democrats suffer from political motive asymmetry. A majority of people in our country today who are politically active believe that they are motivated by love but the other side is motivated by hate. Think about it. Think about it. Most people are walking around saying, \"You know, my ideology is based on basic benevolence, I want to help people, but the other guys, they\\'re evil and out to get me.\" You can\\'t progress as a society when you have this kind of asymmetry. It\\'s impossible.',\n",
              " \"How do we solve it? Well, first, let's be honest: there are differences. Let's not minimize the differences. That would be really naïve. There's a lot of good research on this. A veteran of the TED stage is my friend Jonathan Haidt. He's a psychology professor at New York University. He does work on the ideology and values and morals of different people to see how they differ. And he's shown, for example, that conservatives and liberals have a very different emphasis on what they think is important. For example, Jon Haidt has shown that liberals care about poverty fifty-nine percent more than they care about economic liberty. And conservatives care about economic liberty twenty-eight percent more than they care about poverty.\",\n",
              " \"Irreconcilable differences, right? We'll never come together. Wrong. That is diversity in which lies our strength. Remember what pulled up the poor. It was the obsession with poverty, accompanied by the method of economic freedom spreading around the world. We need each other, in other words, if we want to help people and get the next two billion people out of poverty. There's no other way.\",\n",
              " \"Hmm. How are we going to get that? It's a tricky thing, isn't it. We need innovative thinking. A lot of it's on this stage. Social entrepreneurship. Yeah. Absolutely. Phenomenal. We need investment overseas in a sustainable, responsible, ethical and moral way. Yes. Yes.\",\n",
              " \"But you know what we really need? We need a new day in flexible ideology. We need to be less predictable. Don't we? Do you ever feel like your own ideology is starting to get predictable? Kinda conventional? Do you ever feel like you're always listening to people who agree with you? Why is that dangerous? Because when we talk in this country about economics, on the right, conservatives, you're always talking about taxes and regulations and big government. And on the left, liberals, you're talking about economics, it's always about income inequality. Right? Now those are important things, really important to me, really important to you. But when it comes to lifting people up who are starving and need us today, those are distractions. We need to come together around the best ways to mitigate poverty using the best tools at our disposal, and that comes only when conservatives recognize that they need liberals and their obsession with poverty, and liberals need conservatives and their obsession with free markets. That's the diversity in which lies the future strength of this country, if we choose to take it.\",\n",
              " \"So how are we going to do it? How are we going to do it together? I've got to have some action items, not just for you but for me. Number one. Action item number one: remember, it's not good enough just to tolerate people who disagree. It's not good enough. We have to remember that we need people who disagree with us, because there are people who need all of us who are still waiting for these tools. Now, what are you going to do? How are you going to express that? Where does this start? It starts here. You know, all of us in this room, we're blessed. We're blessed with people who listen to us. We're blessed with prosperity. We're blessed with leadership. When people hear us, with the kind of unpredictable ideology, then maybe people will listen. Maybe progress will start at that point. That's number one. Number two. Number two: I'm asking you and I'm asking me to be the person specifically who blurs the lines, who is ambiguous, who is hard to classify. If you're a conservative, be the conservative who is always going on about poverty and the moral obligation to be a warrior for the poor. And if you're a liberal, be a liberal who is always talking about the beauty of free markets to solve our problems when we use them responsibly.\",\n",
              " \"If we do that, we get two things. Number one: we get to start to work on the next two billion and be the solution that we've seen so much of in the past and we need to see more of in the future. That's what we get. And the second is that we might just be able to take the ghastly holy war of ideology that we're suffering under in this country and turn it into a competition of ideas based on solidarity and mutual respect. And then maybe, just maybe, we'll all realize that our big differences aren't really that big after all.\",\n",
              " 'Thank you.',\n",
              " '(Applause)',\n",
              " \"Hannah is excited to be going to college. She couldn't wait to get out of her parents' house, to prove to them that she's an adult, and to prove to her new friends that she belongs.\",\n",
              " 'She heads to a campus party where she sees a guy that she has a crush on. Let\\'s call him Mike. The next day, Hannah wakes up with a pounding headache. She can only remember the night in flashes. But what she does remember is throwing up in the hall outside Mike\\'s room and staring at the wall silently while he was inside her, wanting it to stop, then shakily stumbling home. She doesn\\'t feel good about what happened, but she thinks, \"Maybe this is just what sex in college is?\"',\n",
              " 'One in five women and one in thirteen men will be sexually assaulted at some point during their college career in the United States. Less than ten percent will ever report their assault to their school or to the police. And those who do, on average, wait eleven months to make the report.',\n",
              " \"Hannah initially just feels like dealing with what happened on her own. But when she sees Mike taking girls home from parties, she's worried about them.\",\n",
              " \"After graduation, Hannah learns that she was one of five women who Mike did the exact same thing to. And this is not an unlikely scenario because ninety percent of sexual assaults are committed by repeat offenders. But with such low reporting rates, it's fairly unlikely that even repeat perpetrators will be reported, much less anything happen if they are.\",\n",
              " \"In fact, only six percent of assaults reported to the police end with the assailant spending a single day in prison. Meaning, there's a ninety-nine percent chance that they'll get away with it. This means there's practically no deterrent to assault in the United States.\",\n",
              " \"Now, I'm an infectious disease epidemiologist by training. I'm interested in systems and networks and where we can concentrate our resources to do the most good. So this, to me, is a tragic but a solvable problem.\",\n",
              " \"So when the issue of campus assault started hitting the news a few years ago, it felt like a unique opportunity to make a change. And so we did. We started by talking to college survivors. And what they wish they'd had in college is pretty simple; they wanted a website, one they could use at the time and place that felt safest to them with clearly written information about their reporting options, with the ability to electronically report their assault, rather than having the first step to go in and talk to someone who may or may not believe them. With the option to create a secure, timestamped document of what happened to them, preserving evidence even if they don't want to report yet. And lastly, and perhaps most critically, with the ability to report their assault only if someone else reported the same assailant. You see, knowing that you weren't the only one changes everything. It changes the way you frame your own experience, it changes the way you think about your perpetrator, it means that if you do come forward, you'll have someone else's back and they'll have yours.\",\n",
              " 'We created a website that actually does this and we launched it [...] in August, on two college campuses.',\n",
              " \"And we included a unique matching system where if Mike's first victim had come forward, saved her record, entered into the matching system and named Mike, and Mike's second victim had done the same thing a few months later, they would have matched and the verified contact information of both survivors would have been sent to the authorities at the same time for investigation and follow up.\",\n",
              " \"If a system like this had existed for Hannah and her peers, it's more likely that they would have reported, that they would have been believed, and that Mike would have been kicked off campus, gone to jail, or at least gotten the help that he needed. And if we were able to stop repeat offenders like Mike after just their second assault following a match, survivors like Hannah would never even be assaulted in the first place. We could prevent fifty-nine percent of sexual assaults just by stopping repeat perpetrators earlier on. And because we're creating a real deterrent to assault, for perhaps the first time, maybe the Mikes of the world would never even try to assault anyone.\",\n",
              " \"The type of system I'm describing, the type of system that survivors want is a type of information escrow, meaning an entity that holds on to information for you and only releases it to a third party when certain pre-agreed upon conditions are met, such as a match. The application that we built is for college campuses. But the same type of system could be used in the military or even the workplace.\",\n",
              " \"We don't have to live in a world where ninety-nine percent of rapists get away with it. We can create one where those who do wrong are held accountable, where survivors get the support and justice they deserve, where the authorities get the information they need, and where there's a real deterrent to violating the rights of another human being.\",\n",
              " 'Thank you.',\n",
              " '(Applause)',\n",
              " 'So in college, I was a government major, which means I had to write a lot of papers. Now, when a normal student writes a paper, they might spread the work out a little like this. So, you know --',\n",
              " '(Laughter)',\n",
              " 'you get started maybe a little slowly, but you get enough done in the first week that, with some heavier days later on, everything gets done, things stay civil.',\n",
              " '(Laughter)',\n",
              " 'And I would want to do that like that. That would be the plan. I would have it all ready to go, but then, actually, the paper would come along, and then I would kind of do this.',\n",
              " '(Laughter)',\n",
              " 'And that would happen every single paper.',\n",
              " \"But then came my ninety-page senior thesis, a paper you're supposed to spend a year on. And I knew for a paper like that, my normal work flow was not an option. It was way too big a project. So I planned things out, and I decided I kind of had to go something like this. This is how the year would go. So I'd start off light, and I'd bump it up in the middle months, and then at the end, I would kick it up into high gear just like a little staircase. How hard could it be to walk up the stairs? No big deal, right?\",\n",
              " \"But then, the funniest thing happened. Those first few months? They came and went, and I couldn't quite do stuff. So we had an awesome new revised plan.\",\n",
              " '(Laughter)',\n",
              " 'And then --',\n",
              " '(Laughter)',\n",
              " \"But then those middle months actually went by, and I didn't really write words, and so we were here. And then two months turned into one month, which turned into two weeks. And one day I woke up with three days until the deadline, still not having written a word, and so I did the only thing I could: I wrote ninety pages over seventy-two hours, pulling not one but two all-nighters -- humans are not supposed to pull two all-nighters -- sprinted across campus, dove in slow motion, and got it in just at the deadline.\",\n",
              " 'I thought that was the end of everything. But a week later I get a call, and it\\'s the school. And they say, \"Is this Tim Urban?\" And I say, \"Yeah.\" And they say, \"We need to talk about your thesis.\" And I say, \"OK.\" And they say, \"It\\'s the best one we\\'ve ever seen.\"',\n",
              " '(Laughter)',\n",
              " '(Applause)',\n",
              " 'That did not happen.',\n",
              " '(Laughter)',\n",
              " 'It was a very, very bad thesis.',\n",
              " '(Laughter)',\n",
              " 'I just wanted to enjoy that one moment when all of you thought, \"This guy is amazing!\"',\n",
              " '(Laughter)',\n",
              " \"No, no, it was very, very bad. Anyway, today I'm a writer-blogger guy. I write the blog Wait But Why. And a couple of years ago, I decided to write about procrastination. My behavior has always perplexed the non-procrastinators around me, and I wanted to explain to the non-procrastinators of the world what goes on in the heads of procrastinators, and why we are the way we are. Now, I had a hypothesis that the brains of procrastinators were actually different than the brains of other people. And to test this, I found an MRI lab that actually let me scan both my brain and the brain of a proven non-procrastinator, so I could compare them. I actually brought them here to show you today. I want you to take a look carefully to see if you can notice a difference. I know that if you're not a trained brain expert, it's not that obvious, but just take a look, OK? So here's the brain of a non-procrastinator.\",\n",
              " '(Laughter)',\n",
              " \"Now ... here's my brain.\",\n",
              " '(Laughter)',\n",
              " \"There is a difference. Both brains have a Rational Decision-Maker in them, but the procrastinator's brain also has an Instant Gratification Monkey. Now, what does this mean for the procrastinator? Well, it means everything's fine until this happens.\",\n",
              " '[This is a perfect time to get some work done.] [Nope!]',\n",
              " 'So the Rational Decision-Maker will make the rational decision to do something productive, but the Monkey doesn\\'t like that plan, so he actually takes the wheel, and he says, \"Actually, let\\'s read the entire Wikipedia page of the Nancy Kerrigan/ Tonya Harding scandal, because I just remembered that that happened.',\n",
              " '(Laughter)',\n",
              " 'Then --',\n",
              " '(Laughter)',\n",
              " \"Then we're going to go over to the fridge, to see if there's anything new in there since ten minutes ago. After that, we're going to go on a YouTube spiral that starts with videos of Richard Feynman talking about magnets and ends much, much later with us watching interviews with Justin Bieber's mom.\",\n",
              " '(Laughter)',\n",
              " '\"All of that\\'s going to take a while, so we\\'re not going to really have room on the schedule for any work today. Sorry!\"',\n",
              " '(Sigh)',\n",
              " 'Now, what is going on here? The Instant Gratification Monkey does not seem like a guy you want behind the wheel. He lives entirely in the present moment. He has no memory of the past, no knowledge of the future, and he only cares about two things: easy and fun.',\n",
              " \"Now, in the animal world, that works fine. If you're a dog and you spend your whole life doing nothing other than easy and fun things, you're a huge success!\",\n",
              " '(Laughter)',\n",
              " \"And to the Monkey, humans are just another animal species. You have to keep well-slept, well-fed and propagating into the next generation, which in tribal times might have worked OK. But, if you haven't noticed, now we're not in tribal times. We're in an advanced civilization, and the Monkey does not know what that is. Which is why we have another guy in our brain, the Rational Decision-Maker, who gives us the ability to do things no other animal can do. We can visualize the future. We can see the big picture. We can make long-term plans. And he wants to take all of that into account. And he wants to just have us do whatever makes sense to be doing right now. Now, sometimes it makes sense to be doing things that are easy and fun, like when you're having dinner or going to bed or enjoying well-earned leisure time. That's why there's an overlap. Sometimes they agree. But other times, it makes much more sense to be doing things that are harder and less pleasant, for the sake of the big picture. And that's when we have a conflict. And for the procrastinator, that conflict tends to end a certain way every time, leaving him spending a lot of time in this orange zone, an easy and fun place that's entirely out of the Makes Sense circle. I call it the Dark Playground.\",\n",
              " '(Laughter)',\n",
              " \"Now, the Dark Playground is a place that all of you procrastinators out there know very well. It's where leisure activities happen at times when leisure activities are not supposed to be happening. The fun you have in the Dark Playground isn't actually fun, because it's completely unearned, and the air is filled with guilt, dread, anxiety, self-hatred -- all of those good procrastinator feelings. And the question is, in this situation, with the Monkey behind the wheel, how does the procrastinator ever get himself over here to this blue zone, a less pleasant place, but where really important things happen?\",\n",
              " \"Well, turns out the procrastinator has a guardian angel, someone who's always looking down on him and watching over him in his darkest moments -- someone called the Panic Monster.\",\n",
              " '(Laughter)',\n",
              " \"Now, the Panic Monster is dormant most of the time, but he suddenly wakes up anytime a deadline gets too close or there's danger of public embarrassment, a career disaster or some other scary consequence. And importantly, he's the only thing the Monkey is terrified of. Now, he became very relevant in my life pretty recently, because the people of TED reached out to me about six months ago and invited me to do a TED Talk.\",\n",
              " '(Laughter)',\n",
              " \"Now, of course, I said yes. It's always been a dream of mine to have done a TED Talk in the past.\",\n",
              " '(Laughter)',\n",
              " '(Applause) But in the middle of all this excitement, the Rational Decision-Maker seemed to have something else on his mind. He was saying, \"Are we clear on what we just accepted? Do we get what\\'s going to be now happening one day in the future? We need to sit down and work on this right now.\" And the Monkey said, \"Totally agree, but let\\'s just open Google Earth and zoom in to the bottom of India, like two hundred feet above the ground, and scroll up for two and a half hours til we get to the top of the country, so we can get a better feel for India.\"',\n",
              " '(Laughter)',\n",
              " \"So that's what we did that day.\",\n",
              " '(Laughter)',\n",
              " 'As six months turned into four and then two and then one, the people of TED decided to release the speakers. And I opened up the website, and there was my face staring right back at me. And guess who woke up?',\n",
              " '(Laughter)',\n",
              " \"So the Panic Monster starts losing his mind, and a few seconds later, the whole system's in mayhem.\",\n",
              " '(Laughter)',\n",
              " \"And the Monkey -- remember, he's terrified of the Panic Monster -- boom, he's up the tree! And finally, finally, the Rational Decision-Maker can take the wheel and I can start working on the talk.\",\n",
              " \"Now, the Panic Monster explains all kinds of pretty insane procrastinator behavior, like how someone like me could spend two weeks unable to start the opening sentence of a paper, and then miraculously find the unbelievable work ethic to stay up all night and write eight pages. And this entire situation, with the three characters -- this is the procrastinator's system. It's not pretty, but in the end, it works. This is what I decided to write about on the blog a couple of years ago.\",\n",
              " 'When I did, I was amazed by the response. Literally thousands of emails came in, from all different kinds of people from all over the world, doing all different kinds of things. These are people who were nurses, bankers, painters, engineers and lots and lots of PhD students.',\n",
              " '(Laughter)',\n",
              " 'And they were all writing, saying the same thing: \"I have this problem too.\" But what struck me was the contrast between the light tone of the post and the heaviness of these emails. These people were writing with intense frustration about what procrastination had done to their lives, about what this Monkey had done to them. And I thought about this, and I said, well, if the procrastinator\\'s system works, then what\\'s going on? Why are all of these people in such a dark place?',\n",
              " \"Well, it turns out that there's two kinds of procrastination. Everything I've talked about today, the examples I've given, they all have deadlines. And when there's deadlines, the effects of procrastination are contained to the short term because the Panic Monster gets involved. But there's a second kind of procrastination that happens in situations when there is no deadline. So if you wanted a career where you're a self-starter -- something in the arts, something entrepreneurial -- there's no deadlines on those things at first, because nothing's happening, not until you've gone out and done the hard work to get momentum, get things going. There's also all kinds of important things outside of your career that don't involve any deadlines, like seeing your family or exercising and taking care of your health, working on your relationship or getting out of a relationship that isn't working.\",\n",
              " \"Now if the procrastinator's only mechanism of doing these hard things is the Panic Monster, that's a problem, because in all of these non-deadline situations, the Panic Monster doesn't show up. He has nothing to wake up for, so the effects of procrastination, they're not contained; they just extend outward forever. And it's this long-term kind of procrastination that's much less visible and much less talked about than the funnier, short-term deadline-based kind. It's usually suffered quietly and privately. And it can be the source of a huge amount of long-term unhappiness, and regrets. And I thought, that's why those people are emailing, and that's why they're in such a bad place. It's not that they're cramming for some project. It's that long-term procrastination has made them feel like a spectator, at times, in their own lives. The frustration is not that they couldn't achieve their dreams; it's that they weren't even able to start chasing them.\",\n",
              " \"So I read these emails and I had a little bit of an epiphany -- that I don't think non-procrastinators exist. That's right -- I think all of you are procrastinators. Now, you might not all be a mess, like some of us,\",\n",
              " '(Laughter)',\n",
              " \"and some of you may have a healthy relationship with deadlines, but remember: the Monkey's sneakiest trick is when the deadlines aren't there.\",\n",
              " \"Now, I want to show you one last thing. I call this a Life Calendar. That's one box for every week of a ninety-year life. That's not that many boxes, especially since we've already used a bunch of those. So I think we need to all take a long, hard look at that calendar. We need to think about what we're really procrastinating on, because everyone is procrastinating on something in life. We need to stay aware of the Instant Gratification Monkey. That's a job for all of us. And because there's not that many boxes on there, it's a job that should probably start today.\",\n",
              " 'Well, maybe not today, but ...',\n",
              " '(Laughter)',\n",
              " 'You know. Sometime soon.',\n",
              " 'Thank you.',\n",
              " '(Applause)',\n",
              " \"I want to tell you the story about the time I almost got kidnapped in the trunk of a red Mazda Miata. It's the day after graduating from design school and I'm having a yard sale. And this guy pulls up in this red Mazda and he starts looking through my stuff. And he buys a piece of art that I made. And it turns out he's alone in town for the night, driving cross-country on a road trip before he goes into the Peace Corps. So I invite him out for a beer and he tells me all about his passion for making a difference in the world.\",\n",
              " 'Now it\\'s starting to get late, and I\\'m getting pretty tired. As I motion for the tab, I make the mistake of asking him, \"So where are you staying tonight?\" And he makes it worse by saying, \"Actually, I don\\'t have a place.\" And I\\'m thinking, \"Oh, man!\" What do you do? We\\'ve all been there, right? Do I offer to host this guy? But, I just met him -- I mean, he says he\\'s going to the Peace Corps, but I don\\'t really know if he\\'s going to the Peace Corps and I don\\'t want to end up kidnapped in the trunk of a Miata. That\\'s a small trunk!',\n",
              " 'So then I hear myself saying, \"Hey, I have an airbed you can stay on in my living room.\" And the voice in my head goes, \"Wait, what?\"',\n",
              " 'That night, I\\'m laying in bed, I\\'m staring at the ceiling and thinking, \"Oh my god, what have I done? There\\'s a complete stranger sleeping in my living room. What if he\\'s psychotic?\" My anxiety grows so much, I leap out of bed, I sneak on my tiptoes to the door, and I lock the bedroom door.',\n",
              " \"It turns out he was not psychotic. We've kept in touch ever since. And the piece of art he bought at the yard sale is hanging in his classroom; he's a teacher now.\",\n",
              " 'This was my first hosting experience, and it completely changed my perspective. Maybe the people that my childhood taught me to label as strangers were actually friends waiting to be discovered. The idea of hosting people on airbeds gradually became natural to me and when I moved to San Francisco, I brought the airbed with me.',\n",
              " \"So now it's two years later. I'm unemployed, I'm almost broke, my roommate moves out, and then the rent goes up. And then I learn there's a design conference coming to town, and all the hotels are sold out. And I've always believed that turning fear into fun is the gift of creativity.\",\n",
              " 'So here\\'s what I pitch my best friend and my new roommate Brian Chesky: \"Brian, thought of a way to make a few bucks -- turning our place into \\'designers bed and breakfast,\\' offering young designers who come to town a place to crash, complete with wireless Internet, a small desk space, sleeping mat, and breakfast each morning. Ha!\"',\n",
              " 'We built a basic website and Airbed and Breakfast was born. Three lucky guests got to stay on a twenty-dollar airbed on the hardwood floor. But they loved it, and so did we. I swear, the ham and Swiss cheese omelets we made tasted totally different because we made them for our guests. We took them on adventures around the city, and when we said goodbye to the last guest, the door latch clicked, Brian and I just stared at each other. Did we just discover it was possible to make friends while also making rent?',\n",
              " 'The wheels had started to turn. My old roommate, Nate Blecharczyk, joined as engineering co-founder. And we buckled down to see if we could turn this into a business.',\n",
              " 'Here\\'s what we pitched investors: \"We want to build a website where people publicly post pictures of their most intimate spaces, their bedrooms, the bathrooms -- the kinds of rooms you usually keep closed when people come over. And then, over the Internet, they\\'re going to invite complete strangers to come sleep in their homes. It\\'s going to be huge!\"',\n",
              " '(Laughter)',\n",
              " \"We sat back, and we waited for the rocket ship to blast off. It did not. No one in their right minds would invest in a service that allows strangers to sleep in people's homes. Why? Because we've all been taught as kids, strangers equal danger.\",\n",
              " \"Now, when you're faced with a problem, you fall back on what you know, and all we really knew was design. In art school, you learn that design is much more than the look and feel of something -- it's the whole experience. We learned to do that for objects, but here, we were aiming to build Olympic trust between people who had never met. Could design make that happen? Is it possible to design for trust?\",\n",
              " \"I want to give you a sense of the flavor of trust that we were aiming to achieve. I've got a thirty-second experiment that will push you past your comfort zone. If you're up for it, give me a thumbs-up. OK, I need you to take out your phones. Now that you have your phone out, I'd like you to unlock your phone. Now hand your unlocked phone to the person on your left.\",\n",
              " '(Laughter)',\n",
              " \"That tiny sense of panic you're feeling right now --\",\n",
              " '(Laughter)',\n",
              " \"is exactly how hosts feel the first time they open their home. Because the only thing more personal than your phone is your home. People don't just see your messages, they see your bedroom, your kitchen, your toilet.\",\n",
              " \"Now, how does it feel holding someone's unlocked phone? Most of us feel really responsible. That's how most guests feel when they stay in a home. And it's because of this that our company can even exist. By the way, who's holding Al Gore's phone?\",\n",
              " '(Laughter)',\n",
              " \"Would you tell Twitter he's running for President?\",\n",
              " '(Laughter)',\n",
              " '(Applause)',\n",
              " 'OK, you can hand your phones back now.',\n",
              " 'So now that you\\'ve experienced the kind of trust challenge we were facing, I\\'d love to share a few discoveries we\\'ve made along the way. What if we changed one small thing about the design of that experiment? What if your neighbor had introduced themselves first, with their name, where they\\'re from, the name of their kids or their dog? Imagine that they had one hundred and fifty reviews of people saying, \"They\\'re great at holding unlocked phones!\"',\n",
              " '(Laughter)',\n",
              " 'Now how would you feel about handing your phone over?',\n",
              " \"It turns out, a well-designed reputation system is key for building trust. And we didn't actually get it right the first time. It's hard for people to leave bad reviews. Eventually, we learned to wait until both guests and hosts left the review before we reveal them.\",\n",
              " \"Now, here's a discovery we made just last week. We did a joint study with Stanford, where we looked at people's willingness to trust someone based on how similar they are in age, location and geography. The research showed, not surprisingly, we prefer people who are like us. The more different somebody is, the less we trust them. Now, that's a natural social bias. But what's interesting is what happens when you add reputation into the mix, in this case, with reviews.\",\n",
              " \"Now, if you've got less than three reviews, nothing changes. But if you've got more than ten, everything changes. High reputation beats high similarity. The right design can actually help us overcome one of our most deeply rooted biases.\",\n",
              " 'Now we also learned that building the right amount of trust takes the right amount of disclosure. This is what happens when a guest first messages a host. If you share too little, like, \"Yo,\" acceptance rates go down. And if you share too much, like, \"I\\'m having issues with my mother,\"',\n",
              " '(Laughter)',\n",
              " 'acceptance rates also go down. But there\\'s a zone that\\'s just right, like, \"Love the artwork in your place. Coming for vacation with my family.\" So how do we design for just the right amount of disclosure? We use the size of the box to suggest the right length, and we guide them with prompts to encourage sharing.',\n",
              " \"We bet our whole company on the hope that, with the right design, people would be willing to overcome the stranger-danger bias. What we didn't realize is just how many people were ready and waiting to put the bias aside.\",\n",
              " \"This is a graph that shows our rate of adoption. There's three things happening here. The first, an unbelievable amount of luck. The second is the efforts of our team. And third is the existence of a previously unsatisfied need. Now, things have been going pretty well.\",\n",
              " \"Obviously, there are times when things don't work out. Guests have thrown unauthorized parties and trashed homes. Hosts have left guests stranded in the rain. In the early days, I was customer service, and those calls came right to my cell phone. I was at the front lines of trust breaking. And there's nothing worse than those calls, it hurts to even think about them. And the disappointment in the sound of someone's voice was and, I would say, still is our single greatest motivator to keep improving.\",\n",
              " \"Thankfully, out of the one hundred and twenty-three million nights we've ever hosted, less than a fraction of a percent have been problematic. Turns out, people are justified in their trust. And when trust works out right, it can be absolutely magical.\",\n",
              " 'We had a guest stay with a host in Uruguay, and he suffered a heart attack. The host rushed him to the hospital. They donated their own blood for his operation. Let me read you his review.',\n",
              " '(Laughter)',\n",
              " '\"Excellent house for sedentary travelers prone to myocardial infarctions.',\n",
              " '(Laughter)',\n",
              " 'The area is beautiful and has direct access to the best hospitals.',\n",
              " '(Laughter)',\n",
              " 'Javier and Alejandra instantly become guardian angels who will save your life without even knowing you. They will rush you to the hospital in their own car while you\\'re dying and stay in the waiting room while the doctors give you a bypass. They don\\'t want you to feel lonely, they bring you books to read. And they let you stay at their house extra nights without charging you. Highly recommended!\"',\n",
              " '(Applause)',\n",
              " 'Of course, not every stay is like that. But this connection beyond the transaction is exactly what the sharing economy is aiming for.',\n",
              " \"Now, when I heard that term, I have to admit, it tripped me up. How do sharing and transactions go together? So let's be clear; it is about commerce. But if you just called it the rental economy, it would be incomplete. The sharing economy is commerce with the promise of human connection. People share a part of themselves, and that changes everything.\",\n",
              " \"You know how most travel today is, like, I think of it like fast food -- it's efficient and consistent, at the cost of local and authentic. What if travel were like a magnificent buffet of local experiences? What if anywhere you visited, there was a central marketplace of locals offering to get you thoroughly drunk on a pub crawl in neighborhoods you didn't even know existed. Or learning to cook from the chef of a five-star restaurant?\",\n",
              " 'Today, homes are designed around the idea of privacy and separation. What if homes were designed to be shared from the ground up? What would that look like? What if cities embraced a culture of sharing? I see a future of shared cities that bring us community and connection instead of isolation and separation.',\n",
              " \"In South Korea, in the city of Seoul, they've actually even started this. They've repurposed hundreds of government parking spots to be shared by residents. They're connecting students who need a place to live with empty-nesters who have extra rooms. And they've started an incubator to help fund the next generation of sharing economy start-ups.\",\n",
              " \"Tonight, just on our service, seven hundred and eighty-five,zero people in one hundred and ninety-one countries will either stay in a stranger's home or welcome one into theirs. Clearly, it's not as crazy as we were taught.\",\n",
              " \"We didn't invent anything new. Hospitality has been around forever. There's been many other websites like ours. So, why did ours eventually take off? Luck and timing aside, I've learned that you can take the components of trust, and you can design for that. Design can overcome our most deeply rooted stranger-danger bias. And that's amazing to me. It blows my mind. I think about this every time I see a red Miata go by.\",\n",
              " \"Now, we know design won't solve all the world's problems. But if it can help out with this one, if it can make a dent in this, it makes me wonder, what else can we design for next?\",\n",
              " 'Thank you.',\n",
              " '(Applause)',\n",
              " 'There we were, souls and bodies packed into a Texas church on the last night of our lives. Packed into a room just like this, but with creaky wooden pews draped in worn-down red fabric, with an organ to my left and a choir at my back and a baptism pool built into the wall behind them. A room like this, nonetheless. With the same great feelings of suspense, the same deep hopes for salvation, the same sweat in the palms and the same people in the back not paying attention.',\n",
              " '(Laughter)',\n",
              " 'This was December thirty-one, one thousand, nine hundred and ninety-nine, the night of the Second Coming of Christ, and the end of the world as I knew it. I had turned twelve that year and had reached the age of accountability. And once I stopped complaining about how unfair it was that Jesus would return as soon as I had to be accountable for all that I had done, I figured I had better get my house in order very quickly.',\n",
              " \"So I went to church as often as I could. I listened for silence as anxiously as one might listen for noise, trying to be sure that the Lord hadn't pulled a fast one on me and decided to come back early.\",\n",
              " 'And just in case he did, I built a backup plan, by reading the \"Left Behind\" books that were all the rage at the time. And I found in their pages that if I was not taken in the rapture at midnight, I had another shot. All I had to do was avoid taking the mark of the beast, fight off demons, plagues and the Antichrist himself. It would be hard --',\n",
              " '(Laughter)',\n",
              " 'but I knew I could do it.',\n",
              " '(Laughter)',\n",
              " 'But planning time was over now. It was eleven:fiftypm. We had ten minutes left, and my pastor called us out of the pews and down to the altar because he wanted to be praying when midnight struck. So every faction of the congregation took its place. The choir stayed in the choir stand, the deacons and their wives -- or the Baptist Bourgeoisie as I like to call them --',\n",
              " '(Laughter)',\n",
              " 'took first position in front of the altar. You see, in America, even the Second Coming of Christ has a VIP section.',\n",
              " '(Laughter)',\n",
              " '(Applause)',\n",
              " 'And right behind the Baptist Bourgeoisie were the elderly -- these men and women whose young backs had been bent under hot suns in the cotton fields of East Texas, and whose skin seemed to be burnt a creaseless noble brown, just like the clay of East Texas, and whose hopes and dreams for what life might become outside of East Texas had sometimes been bent and broken even further than their backs.',\n",
              " \"Yes, these men and women were the stars of the show for me. They had waited their whole lives for this moment, just as their medieval predecessors had longed for the end of the world, and just as my grandmother waited for the Oprah Winfrey Show to come on Channel eight every day at four o'clock. And as she made her way to the altar, I snuck right in behind her, because I knew for sure that my grandmother was going to heaven. And I thought that if I held on to her hand during this prayer, I might go right on with her.\",\n",
              " 'So I held on and I closed my eyes to listen, to wait. And the prayers got louder. And the shouts of response to the call of the prayer went up higher even still. And the organ rolled on in to add the the dirge. And the heat came on to add to the sweat. And my hand gripped firmer, so I wouldn\\'t be the one left in the field. My eyes clenched tighter so I wouldn\\'t see the wheat being separated from the chaff. And then a voice rang out above us: \"Amen.\"',\n",
              " 'It was over. I looked at the clock. It was after midnight. I looked at the elder believers whose savior had not come, who were too proud to show any signs of disappointment, who had believed too much and for too long to start doubting now. But I was upset on their behalf. They had been duped, hoodwinked, bamboozled, and I had gone right along with them. I had prayed their prayers, I had yielded not to temptation as best I could. I had dipped my head not once, but twice in that snot-inducing baptism pool. I had believed. Now what?',\n",
              " 'I got home just in time to turn on the television and watch Peter Jennings announce the new millennium as it rolled in around the world. It struck me that it would have been strange anyway, for Jesus to come back again and again based on the different time zones.',\n",
              " '(Laughter)',\n",
              " 'And this made me feel even more ridiculous -- hurt, really. But there on that night, I did not stop believing. I just believed a new thing: that it was possible not to believe. It was possible the answers I had were wrong, that the questions themselves were wrong. And now, where there was once a mountain of certitude, there was, running right down to its foundation, a spring of doubt, a spring that promised rivers.',\n",
              " \"I can trace the whole drama of my life back to that night in that church when my savior did not come for me; when the thing I believed most certainly turned out to be, if not a lie, then not quite the truth. And even though most of you prepared for YtwoK in a very different way, I'm convinced that you are here because some part of you has done the same thing that I have done since the dawn of this new century, since my mother left and my father stayed away and my Lord refused to come. And I held out my hand, reaching for something to believe in.\",\n",
              " \"I held on when I arrived at Yale at eighteen, with the faith that my journey from Oak Cliff, Texas was a chance to leave behind all the challenges I had known, the broken dreams and broken bodies I had seen. But when I found myself back home one winter break, with my face planted in the floor, my hands tied behind my back and a burglar's gun pressed to my head, I knew that even the best education couldn't save me.\",\n",
              " 'I held on when I showed up at Lehman Brothers as an intern in two thousand and eight.',\n",
              " '(Laughter)',\n",
              " 'So hopeful --',\n",
              " '(Laughter)',\n",
              " \"that I called home to inform my family that we'd never be poor again.\",\n",
              " '(Laughter)',\n",
              " \"But as I witnessed this temple of finance come crashing down before my eyes, I knew that even the best job couldn't save me.\",\n",
              " 'I held on when I showed up in Washington DC as a young staffer, who had heard a voice call out from Illinois, saying, \"It\\'s been a long time coming, but in this election, change has come to America.\" But as the Congress ground to a halt and the country ripped at the seams and hope and change began to feel like a cruel joke, I knew that even the political second coming could not save me.',\n",
              " 'I had knelt faithfully at the altar of the American Dream, praying to the gods of my time of success, and money, and power. But over and over again, midnight struck, and I opened my eyes to see that all of these gods were dead.',\n",
              " 'And from that graveyard, I began the search once more, not because I was brave, but because I knew that I would either believe or I would die.',\n",
              " 'So I took a pilgrimage to yet another mecca, Harvard Business School --',\n",
              " '(Laughter)',\n",
              " \"this time, knowing that I could not simply accept the salvation that it claimed to offer. No, I knew there'd be more work to do.\",\n",
              " 'The work began in the dark corner of a crowded party, in the late night of an early, miserable Cambridge winter, when three friends and I asked a question that young folks searching for something real have asked for a very long time: \"What if we took a road trip?\"',\n",
              " '(Laughter)',\n",
              " 'We didn\\'t know where\\'d we go or how we\\'d get there, but we knew we had to do it. Because all our lives we yearned, as Jack Kerouac wrote, to \"sneak out into the night and disappear somewhere,\" and go find out what everybody was doing all over the country. So even though there were other voices who said that the risk was too great and the proof too thin, we went on anyhow.',\n",
              " 'We went on eight,zero miles across America in the summer of two thousand and thirteen, through the cow pastures of Montana, through the desolation of Detroit, through the swamps of New Orleans, where we found and worked with men and women who were building small businesses that made purpose their bottom line. And having been trained at the West Point of capitalism, this struck us as a revolutionary idea.',\n",
              " '(Laughter)',\n",
              " 'And this idea spread, growing into a nonprofit called MBAs Across America, a movement that landed me here on this stage today. It spread because we found a great hunger in our generation for purpose, for meaning. It spread because we found countless entrepreneurs in the nooks and crannies of America who were creating jobs and changing lives and who needed a little help.',\n",
              " \"But if I'm being honest, it also spread because I fought to spread it. There was no length to which I would not go to preach this gospel, to get more people to believe that we could bind the wounds of a broken country, one social business at a time. But it was this journey of evangelism that led me to the rather different gospel that I've come to share with you today.\",\n",
              " 'It began one evening almost a year ago at the Museum of Natural History in New York City, at a gala for alumni of Harvard Business School. Under a full-size replica of a whale, I sat with the titans of our time as they celebrated their peers and their good deeds. There was pride in a room where net worth and assets under management surpassed half a trillion dollars. We looked over all that we had made, and it was good.',\n",
              " '(Laughter)',\n",
              " \"But it just so happened, two days later, I had to travel up the road to Harlem, where I found myself sitting in an urban farm that had once been a vacant lot, listening to a man named Tony tell me of the kids that showed up there every day. All of them lived below the poverty line. Many of them carried all of their belongings in a backpack to avoid losing them in a homeless shelter. Some of them came to Tony's program, called Harlem Grown, to get the only meal they had each day. Tony told me that he started Harlem Grown with money from his pension, after twenty years as a cab driver. He told me that he didn't give himself a salary, because despite success, the program struggled for resources. He told me that he would take any help that he could get. And I was there as that help.\",\n",
              " 'But as I left Tony, I felt the sting and salt of tears welling up in my eyes. I felt the weight of revelation that I could sit in one room on one night, where a few hundred people had half a trillion dollars, and another room, two days later, just fifty blocks up the road, where a man was going without a salary to get a child her only meal of the day.',\n",
              " \"And it wasn't the glaring inequality that made me want to cry, it wasn't the thought of hungry, homeless kids, it wasn't rage toward the one percent or pity toward the ninety-nine. No, I was disturbed because I had finally realized that I was the dialysis for a country that needed a kidney transplant. I realized that my story stood in for all those who were expected to pick themselves up by their bootstraps, even if they didn't have any boots; that my organization stood in for all the structural, systemic help that never went to Harlem or Appalachia or the Lower nineth Ward; that my voice stood in for all those voices that seemed too unlearned, too unwashed, too unaccommodated.\",\n",
              " 'And the shame of that, that shame washed over me like the shame of sitting in front of the television, watching Peter Jennings announce the new millennium again and again and again. I had been duped, hoodwinked, bamboozled. But this time, the false savior was me.',\n",
              " \"You see, I've come a long way from that altar on the night I thought the world would end, from a world where people spoke in tongues and saw suffering as a necessary act of God and took a text to be infallible truth. Yes, I've come so far that I'm right back where I started.\",\n",
              " 'Because it simply is not true to say that we live in an age of disbelief -- no, we believe today just as much as any time that came before. Some of us may believe in the prophecy of Brené Brown or Tony Robbins. We may believe in the bible of The New Yorker or the Harvard Business Review. We may believe most deeply when we worship right here at the church of TED, but we desperately want to believe, we need to believe. We speak in the tongues of charismatic leaders that promise to solve all our problems. We see suffering as a necessary act of the capitalism that is our god, we take the text of technological progress to be infallible truth. And we hardly realize the human price we pay when we fail to question one brick, because we fear it might shake our whole foundation.',\n",
              " 'But if you are disturbed by the unconscionable things that we have come to accept, then it must be questioning time. So I have not a gospel of disruption or innovation or a triple bottom line. I do not have a gospel of faith to share with you today, in fact. I have and I offer a gospel of doubt. The gospel of doubt does not ask that you stop believing, it asks that you believe a new thing: that it is possible not to believe. It is possible the answers we have are wrong, it is possible the questions themselves are wrong. Yes, the gospel of doubt means that it is possible that we, on this stage, in this room, are wrong. Because it raises the question, \"Why?\" With all the power that we hold in our hands, why are people still suffering so bad?',\n",
              " 'This doubt leads me to share that we are putting my organization, MBAs Across America, out of business. We have shed our staff and closed our doors and we will share our model freely with anyone who sees their power to do this work without waiting for our permission. This doubt compels me to renounce the role of savior that some have placed on me, because our time is too short and our odds are too long to wait for second comings, when the truth is that there will be no miracles here.',\n",
              " 'And this doubt, it fuels me, it gives me hope that when our troubles overwhelm us, when the paths laid out for us seem to lead to our demise, when our healers bring no comfort to our wounds, it will not be our blind faith -- no, it will be our humble doubt that shines a little light into the darkness of our lives and of our world and lets us raise our voice to whisper or to shout or to say simply, very simply, \"There must be another way.\"',\n",
              " 'Thank you.',\n",
              " '(Applause)',\n",
              " \"In case you are wondering, no, I'm not wearing a dress, and no, I'm not saying what I'm wearing underneath.\",\n",
              " '(Laughter)',\n",
              " 'This is a gho. This is my national dress. This is how all men dress in Bhutan. That is how our women dress. Like our women, we men get to wear pretty bright colors, but unlike our women, we get to show off our legs.',\n",
              " '(Laughter)',\n",
              " \"Our national dress is unique, but this is not the only thing that's unique about my country. Our promise to remain carbon neutral is also unique, and this is what I'd like to speak about today, our promise to remain carbon neutral.\",\n",
              " 'But before I proceed, I should set you the context. I should tell you our story.',\n",
              " \"Bhutan is a small country in the Himalayas. We've been called Shangri-La, even the last Shangri-La. But let me tell you right off the bat, we are not Shangri-La. My country is not one big monastery populated with happy monks.\",\n",
              " '(Laughter)',\n",
              " 'The reality is that there are barely seven hundred,zero of us sandwiched between two of the most populated countries on earth, China and India. The reality is that we are a small, underdeveloped country doing our best to survive. But we are doing OK. We are surviving. In fact, we are thriving, and the reason we are thriving is because we\\'ve been blessed with extraordinary kings. Our enlightened monarchs have worked tirelessly to develop our country, balancing economic growth carefully with social development, environmental sustainability and cultural preservation, all within the framework of good governance. We call this holistic approach to development \"Gross National Happiness,\" or GNH. Back in the one thousand, nine hundred and seventys, our fourth king famously pronounced that for Bhutan, Gross National Happiness is more important than Gross National Product.',\n",
              " '(Applause)',\n",
              " 'Ever since, all development in Bhutan is driven by GNH, a pioneering vision that aims to improve the happiness and well-being of our people.',\n",
              " \"But that's easier said than done, especially when you are one of the smallest economies in the world. Our entire GDP is less than two billion dollars. I know that some of you here are worth more --\",\n",
              " '(Laughter)',\n",
              " 'individually than the entire economy of my country.',\n",
              " 'So our economy is small, but here is where it gets interesting. Education is completely free. All citizens are guaranteed free school education, and those that work hard are given free college education. Healthcare is also completely free. Medical consultation, medical treatment, medicines: they are all provided by the state. We manage this because we use our limited resources very carefully, and because we stay faithful to the core mission of GNH, which is development with values. Our economy is small, and we must strengthen it. Economic growth is important, but that economic growth must not come from undermining our unique culture or our pristine environment.',\n",
              " \"Today, our culture is flourishing. We continue to celebrate our art and architecture, food and festivals, monks and monasteries. And yes, we celebrate our national dress, too. This is why I can wear my gho with pride. Here's a fun fact: you're looking at the world's biggest pocket.\",\n",
              " '(Laughter)',\n",
              " 'It starts here, goes around the back, and comes out from inside here. In this pocket we store all manner of personal goods from phones and wallets to iPads, office files and books.',\n",
              " '(Laughter)',\n",
              " '(Applause)',\n",
              " 'But sometimes -- sometimes even precious cargo.',\n",
              " \"So our culture is flourishing, but so is our environment. seventy-two percent of my country is under forest cover. Our constitution demands that a minimum of sixty percent of Bhutan's total land shall remain under forest cover for all time.\",\n",
              " '(Applause)',\n",
              " \"Our constitution, this constitution, imposes forest cover on us. Incidentally, our king used this constitution to impose democracy on us. You see, we the people didn't want democracy. We didn't ask for it, we didn't demand it, and we certainly didn't fight for it. Instead, our king imposed democracy on us by insisting that he include it in the constitution. But he went further. He included provisions in the constitution that empower the people to impeach their kings, and included provisions in here that require all our kings to retire at the age of sixty-five.\",\n",
              " '(Applause)',\n",
              " 'Fact is, we already have a king in retirement: our previous king, the Great Fourth, retired ten years ago at the peak of his popularity. He was all of fifty-one years at that time.',\n",
              " \"So as I was saying, seventy-two percent of our country is under forest cover, and all that forest is pristine. That's why we are one of the few remaining global biodiversity hotspots in the world, and that's why we are a carbon neutral country. In a world that is threatened with climate change, we are a carbon neutral country.\",\n",
              " \"Turns out, it's a big deal. Of the two hundred-odd countries in the world today, it looks like we are the only one that's carbon neutral. Actually, that's not quite accurate. Bhutan is not carbon neutral. Bhutan is carbon negative. Our entire country generates two.two million tons of carbon dioxide, but our forests, they sequester more than three times that amount, so we are a net carbon sink for more than four million tons of carbon dioxide each year. But that's not all.\",\n",
              " '(Applause)',\n",
              " \"We export most of the renewable electricity we generate from our fast-flowing rivers. So today, the clean energy that we export offsets about six million tons of carbon dioxide in our neighborhood. By two thousand and twenty, we'll be exporting enough electricity to offset seventeen million tons of carbon dioxide. And if we were to harness even half our hydropower potential, and that's exactly what we are working at, the clean, green energy that we export would offset something like fifty million tons of carbon dioxide a year. That is more COtwo than what the entire city of New York generates in one year.\",\n",
              " \"So inside our country, we are a net carbon sink. Outside, we are offsetting carbon. And this is important stuff. You see, the world is getting warmer, and climate change is a reality. Climate change is affecting my country. Our glaciers are melting, causing flash floods and landslides, which in turn are causing disaster and widespread destruction in our country. I was at that lake recently. It's stunning. That's how it looked ten years ago, and that's how it looked twenty years ago. Just twenty years ago, that lake didn't exist. It was a solid glacier. A few years ago, a similar lake breached its dams and wreaked havoc in the valleys below. That destruction was caused by one glacier lake. We have two,seven hundred of them to contend with. The point is this: my country and my people have done nothing to contribute to global warming, but we are already bearing the brunt of its consequences. And for a small, poor country, one that is landlocked and mountainous, it is very difficult. But we are not going to sit on our hands doing nothing. We will fight climate change. That's why we have promised to remain carbon neutral.\",\n",
              " 'We first made this promise in two thousand and nine during COP fifteen in Copenhagen, but nobody noticed. Governments were so busy arguing with one another and blaming each other for causing climate change, that when a small country raised our hands and announced, \"We promise to remain carbon neutral for all time,\" nobody heard us. Nobody cared.',\n",
              " \"Last December in Paris, at COP twenty-one, we reiterated our promise to remain carbon neutral for all time to come. This time, we were heard. We were noticed, and everybody cared. What was different in Paris was that governments came round together to accept the realities of climate change, and were willing to come together and act together and work together. All countries, from the very small to the very large, committed to reduce the greenhouse gas emissions. The UN Framework Convention on Climate Change says that if these so-called intended commitments are kept, we'd be closer to containing global warming by two degrees Celsius.\",\n",
              " \"By the way, I've requested the TED organizers here to turn up the heat in here by two degrees, so if some of you are feeling warmer than usual, you know who to blame.\",\n",
              " \"It's crucial that all of us keep our commitments. As far as Bhutan is concerned, we will keep our promise to remain carbon neutral. Here are some of the ways we are doing it. We are providing free electricity to our rural farmers. The idea is that, with free electricity, they will no longer have to use firewood to cook their food. We are investing in sustainable transport and subsidizing the purchase of electric vehicles. Similarly, we are subsidizing the cost of LED lights, and our entire government is trying to go paperless. We are cleaning up our entire country through Clean Bhutan, a national program, and we are planting trees throughout our country through Green Bhutan, another national program.\",\n",
              " \"But it is our protected areas that are at the core of our carbon neutral strategy. Our protected areas are our carbon sink. They are our lungs. Today, more than half our country is protected, as national parks, nature reserves and wildlife sanctuaries. But the beauty is that we've connected them all with one another through a network of biological corridors. Now, what this means is that our animals are free to roam throughout our country. Take this tiger, for example. It was spotted at two hundred and fifty meters above sea level in the hot, subtropical jungles. Two years later, that same tiger was spotted near four,zero meters in our cold alpine mountains. Isn't that awesome?\",\n",
              " '(Applause)',\n",
              " 'We must keep it that way. We must keep our parks awesome. So every year, we set aside resources to prevent poaching, hunting, mining and pollution in our parks, and resources to help communities who live in those parks manage their forests, adapt to climate change, and lead better lives while continuing to live in harmony with Mother Nature.',\n",
              " \"But that is expensive. Over the next few years, our small economy won't have the resources to cover all the costs that are required to protect our environment. In fact, when we run the numbers, it looks like it'll take us at least fifteen years before we can fully finance all our conservation efforts. But neither Bhutan, nor the world can afford to spend fifteen years going backwards.\",\n",
              " \"This is why His Majesty the King started Bhutan For Life. Bhutan For Life gives us the time we need. It gives us breathing room. It is essentially a funding mechanism to look after our parks, to protect our parks, until our government can take over on our own fully. The idea is to raise a transition fund from individual donors, corporations and institutions, but the deal is closed only after predetermined conditions are met and all funds committed. So multiparty, single closing: an idea we borrowed from Wall Street. This means that individual donors can commit without having to worry that they'll be left supporting an underfunded plan. It's something like a Kickstarter project, only with a fifteen-year time horizon and millions of tons of carbon dioxide at stake. Once the deal is closed, we use the transition fund to protect our parks, giving our government time to increase our own funding gradually until the end of the fifteen-year period. After that, our government guarantees full funding forever.\",\n",
              " \"We are almost there. We expect to close later this year. Naturally, I'm pretty excited.\",\n",
              " '(Applause)',\n",
              " 'The World Wildlife Fund is our principle partner in this journey, and I want to give them a big shoutout for the excellent work they are doing in Bhutan and across the world.',\n",
              " '(Applause)',\n",
              " 'Whew, it is getting warm in here.',\n",
              " \"I thank you for listening to our story, a story of how we are keeping our promise to remain carbon neutral, a story of how we are keeping our country pristine, for ourselves, our children, for your children and for the world. But we are not here to tell stories, are we? We are here to dream together. So in closing, I'd like to share one more dream that I have. What if we could mobilize our leadership and our resources, our influence and our passion, to replicate the Bhutan For Life idea to other countries so that they too can conserve their protected areas for all time. After all, there are many other countries who face the same issues that we face. They too have natural resources that can help win the world's fight for sustainability, only they may not have the ability to invest in them now. So what if we set up Earth For Life, a global fund, to kickstart the Bhutan For Life throughout the world? I invite you to help me, to carry this dream beyond our borders to all those who care about our planet's future. After all, we're here to dream together, to work together, to fight climate change together, to protect our planet together. Because the reality is we are in it together. Some of us might dress differently, but we are in it together.\",\n",
              " 'Thank you very much, and kadrin chhe la. Thank you.',\n",
              " '(Applause)',\n",
              " 'Thank you, thank you, thank you.',\n",
              " 'In India, we have these huge families. I bet a lot of you all must have heard about it. Which means that there are a lot of family events. So as a child, my parents used to drag me to these family events.',\n",
              " \"But the one thing that I always looked forward to was playing around with my cousins. And there was always this one uncle who used to be there, always ready, jumping around with us, having games for us, making us kids have the time of our lives. This man was extremely successful: he was confident and powerful. But then I saw this hale and hearty person deteriorate in health. He was diagnosed with Parkinson's.\",\n",
              " \"Parkinson's is a disease that causes degeneration of the nervous system, which means that this person who used to be independent suddenly finds tasks like drinking coffee, because of tremors, much more difficult. My uncle started using a walker to walk, and to take a turn, he literally had to take one step at a time, like this, and it took forever. So this person, who used to be the center of attention in every family gathering, was suddenly hiding behind people. He was hiding from the pitiful look in people's eyes.\",\n",
              " \"And he's not the only one in the world. Every year, sixty,zero people are newly diagnosed with Parkinson's, and this number is only rising. As designers, we dream that our designs solve these multifaceted problems, one solution that solves it all, but it need not always be like that. You can also target simple problems and create small solutions for them and eventually make a big impact. So my aim here was to not cure Parkinson's, but to make their everyday tasks much more simple, and then make an impact.\",\n",
              " \"Well, the first thing I targeted was tremors, right? My uncle told me that he had stopped drinking coffee or tea in public just out of embarrassment, so, well, I designed the no-spill cup. It works just purely on its form. The curve on top deflects the liquid back inside every time they have tremors, and this keeps the liquid inside compared to a normal cup. But the key here is that it is not tagged as a Parkinson's patient product. It looks like a cup that could be used by you, me, any clumsy person, and that makes it much more comforting for them to use, to blend in. So, well, one problem solved, many more to go.\",\n",
              " 'All this while, I was interviewing him, questioning him, and then I realized that I was getting very superficial information, or just answers to my questions. But I really needed to dig deeper to get a new perspective. So I thought, well, let\\'s observe him in his daily tasks, while he\\'s eating, while he\\'s watching TV. And then, when I was actually observing him walking to his dining table, it struck me, this man who finds it so difficult to walk on flat land, how does he climb a staircase? Because in India we do not have a fancy rail that takes you up a staircase like in the developed countries. One actually has to climb the stairs. So he told me, \"Well, let me show you how I do it.\" Let\\'s take a look at what I saw.',\n",
              " 'So he took really long to reach this position, and then all this while, I\\'m thinking, \"Oh my God, is he really going to do it? Is he really, really going to do it without his walker?\" And then ...',\n",
              " '(Laughter)',\n",
              " 'And the turns, he took them so easily.',\n",
              " 'So -- shocked? Well, I was too. So this person who could not walk on flat land was suddenly a pro at climbing stairs.',\n",
              " \"On researching this, I realized that it's because it's a continuous motion. There's this other man who also suffers from the same symptoms and uses a walker, but the moment he's put on a cycle, all his symptoms vanish, because it is a continuous motion. So the key for me was to translate this feeling of walking on a staircase back to flat land. And a lot of ideas were tested and tried on him, but the one that finally worked was this one. Let's take a look.\",\n",
              " '(Laughter)',\n",
              " '(Applause)',\n",
              " 'He walked faster, right?',\n",
              " '(Applause)',\n",
              " 'I call this the staircase illusion, and actually when the staircase illusion abruptly ended, he froze, and this is called freezing of gait. So it happens a lot, so why not have a staircase illusion flowing through all their rooms, making them feel much more confident? You know, technology is not always it. What we need are human-centered solutions. I could have easily made it into a projection, or a Google Glass, or something like that. But I stuck to simple print on the floor. This print could be taken into hospitals to make them feel much more welcome.',\n",
              " \"What I wish to do is make every Parkinson's patient feel like my uncle felt that day. He told me that I made him feel like his old self again.\",\n",
              " '\"Smart\" in today\\'s world has become synonymous to high tech, and the world is only getting smarter and smarter day by day. But why can\\'t smart be something that\\'s simple and yet effective? All we need is a little bit of empathy and some curiosity, to go out there, observe. But let\\'s not stop at that. Let\\'s find these complex problems. Don\\'t be scared of them. Break them, boil them down into much smaller problems, and then find simple solutions for them. Test these solutions, fail if needed, but with newer insights to make it better. Imagine what we all could do if we all came up with simple solutions. What would the world be like if we combined all our simple solutions? Let\\'s make a smarter world, but with simplicity.',\n",
              " 'Thank you.',\n",
              " '(Applause)',\n",
              " \"Well, I'm an ocean chemist. I look at the chemistry of the ocean today. I look at the chemistry of the ocean in the past. The way I look back in the past is by using the fossilized remains of deepwater corals. You can see an image of one of these corals behind me. It was collected from close to Antarctica, thousands of meters below the sea, so, very different than the kinds of corals you may have been lucky enough to see if you've had a tropical holiday.\",\n",
              " \"So I'm hoping that this talk will give you a four-dimensional view of the ocean. Two dimensions, such as this beautiful two-dimensional image of the sea surface temperature. This was taken using satellite, so it's got tremendous spatial resolution. The overall features are extremely easy to understand. The equatorial regions are warm because there's more sunlight. The polar regions are cold because there's less sunlight. And that allows big icecaps to build up on Antarctica and up in the Northern Hemisphere. If you plunge deep into the sea, or even put your toes in the sea, you know it gets colder as you go down, and that's mostly because the deep waters that fill the abyss of the ocean come from the cold polar regions where the waters are dense.\",\n",
              " \"If we travel back in time twenty,zero years ago, the earth looked very much different. And I've just given you a cartoon version of one of the major differences you would have seen if you went back that long. The icecaps were much bigger. They covered lots of the continent, and they extended out over the ocean. Sea level was one hundred and twenty meters lower. Carbon dioxide [levels] were very much lower than they are today. So the earth was probably about three to five degrees colder overall, and much, much colder in the polar regions.\",\n",
              " \"What I'm trying to understand, and what other colleagues of mine are trying to understand, is how we moved from that cold climate condition to the warm climate condition that we enjoy today. We know from ice core research that the transition from these cold conditions to warm conditions wasn't smooth, as you might predict from the slow increase in solar radiation. And we know this from ice cores, because if you drill down into ice, you find annual bands of ice, and you can see this in the iceberg. You can see those blue-white layers. Gases are trapped in the ice cores, so we can measure COtwo -- that's why we know COtwo was lower in the past -- and the chemistry of the ice also tells us about temperature in the polar regions. And if you move in time from twenty,zero years ago to the modern day, you see that temperature increased. It didn't increase smoothly. Sometimes it increased very rapidly, then there was a plateau, then it increased rapidly. It was different in the two polar regions, and COtwo also increased in jumps.\",\n",
              " \"So we're pretty sure the ocean has a lot to do with this. The ocean stores huge amounts of carbon, about sixty times more than is in the atmosphere. It also acts to transport heat across the equator, and the ocean is full of nutrients and it controls primary productivity.\",\n",
              " \"So if we want to find out what's going on down in the deep sea, we really need to get down there, see what's there and start to explore. This is some spectacular footage coming from a seamount about a kilometer deep in international waters in the equatorial Atlantic, far from land. You're amongst the first people to see this bit of the seafloor, along with my research team. You're probably seeing new species. We don't know. You'd have to collect the samples and do some very intense taxonomy. You can see beautiful bubblegum corals. There are brittle stars growing on these corals. Those are things that look like tentacles coming out of corals. There are corals made of different forms of calcium carbonate growing off the basalt of this massive undersea mountain, and the dark sort of stuff, those are fossilized corals, and we're going to talk a little more about those as we travel back in time.\",\n",
              " \"To do that, we need to charter a research boat. This is the James Cook, an ocean-class research vessel moored up in Tenerife. Looks beautiful, right? Great, if you're not a great mariner. Sometimes it looks a little more like this. This is us trying to make sure that we don't lose precious samples. Everyone's scurrying around, and I get terribly seasick, so it's not always a lot of fun, but overall it is.\",\n",
              " \"So we've got to become a really good mapper to do this. You don't see that kind of spectacular coral abundance everywhere. It is global and it is deep, but we need to really find the right places. We just saw a global map, and overlaid was our cruise passage from last year. This was a seven-week cruise, and this is us, having made our own maps of about seventy-five,zero square kilometers of the seafloor in seven weeks, but that's only a tiny fraction of the seafloor. We're traveling from west to east, over part of the ocean that would look featureless on a big-scale map, but actually some of these mountains are as big as Everest. So with the maps that we make on board, we get about one hundred-meter resolution, enough to pick out areas to deploy our equipment, but not enough to see very much. To do that, we need to fly remotely-operated vehicles about five meters off the seafloor. And if we do that, we can get maps that are one-meter resolution down thousands of meters. Here is a remotely-operated vehicle, a research-grade vehicle. You can see an array of big lights on the top. There are high-definition cameras, manipulator arms, and lots of little boxes and things to put your samples.\",\n",
              " \"Here we are on our first dive of this particular cruise, plunging down into the ocean. We go pretty fast to make sure the remotely operated vehicles are not affected by any other ships. And we go down, and these are the kinds of things you see. These are deep sea sponges, meter scale. This is a swimming holothurian -- it's a small sea slug, basically. This is slowed down. Most of the footage I'm showing you is speeded up, because all of this takes a lot of time. This is a beautiful holothurian as well. And this animal you're going to see coming up was a big surprise. I've never seen anything like this and it took us all a bit surprised. This was after about fifteen hours of work and we were all a bit trigger-happy, and suddenly this giant sea monster started rolling past. It's called a pyrosome or colonial tunicate, if you like. This wasn't what we were looking for. We were looking for corals, deep sea corals. You're going to see a picture of one in a moment. It's small, about five centimeters high. It's made of calcium carbonate, so you can see its tentacles there, moving in the ocean currents. An organism like this probably lives for about a hundred years. And as it grows, it takes in chemicals from the ocean. And the chemicals, or the amount of chemicals, depends on the temperature; it depends on the pH, it depends on the nutrients. And if we can understand how these chemicals get into the skeleton, we can then go back, collect fossil specimens, and reconstruct what the ocean used to look like in the past. And here you can see us collecting that coral with a vacuum system, and we put it into a sampling container. We can do this very carefully, I should add.\",\n",
              " \"Some of these organisms live even longer. This is a black coral called Leiopathes, an image taken by my colleague, Brendan Roark, about five hundred meters below Hawaii. Four thousand years is a long time. If you take a branch from one of these corals and polish it up, this is about one hundred microns across. And Brendan took some analyses across this coral -- you can see the marks -- and he's been able to show that these are actual annual bands, so even at five hundred meters deep in the ocean, corals can record seasonal changes, which is pretty spectacular.\",\n",
              " \"But four,zero years is not enough to get us back to our last glacial maximum. So what do we do? We go in for these fossil specimens. This is what makes me really unpopular with my research team. So going along, there's giant sharks everywhere, there are pyrosomes, there are swimming holothurians, there's giant sponges, but I make everyone go down to these dead fossil areas and spend ages kind of shoveling around on the seafloor. And we pick up all these corals, bring them back, we sort them out. But each one of these is a different age, and if we can find out how old they are and then we can measure those chemical signals, this helps us to find out what's been going on in the ocean in the past.\",\n",
              " \"So on the left-hand image here, I've taken a slice through a coral, polished it very carefully and taken an optical image. On the right-hand side, we've taken that same piece of coral, put it in a nuclear reactor, induced fission, and every time there's some decay, you can see that marked out in the coral, so we can see the uranium distribution. Why are we doing this? Uranium is a very poorly regarded element, but I love it. The decay helps us find out about the rates and dates of what's going on in the ocean. And if you remember from the beginning, that's what we want to get at when we're thinking about climate. So we use a laser to analyze uranium and one of its daughter products, thorium, in these corals, and that tells us exactly how old the fossils are.\",\n",
              " \"This beautiful animation of the Southern Ocean I'm just going to use illustrate how we're using these corals to get at some of the ancient ocean feedbacks. You can see the density of the surface water in this animation by Ryan Abernathey. It's just one year of data, but you can see how dynamic the Southern Ocean is. The intense mixing, particularly the Drake Passage, which is shown by the box, is really one of the strongest currents in the world coming through here, flowing from west to east. It's very turbulently mixed, because it's moving over those great big undersea mountains, and this allows COtwo and heat to exchange with the atmosphere in and out. And essentially, the oceans are breathing through the Southern Ocean. We've collected corals from back and forth across this Antarctic passage, and we've found quite a surprising thing from my uranium dating: the corals migrated from south to north during this transition from the glacial to the interglacial. We don't really know why, but we think it's something to do with the food source and maybe the oxygen in the water.\",\n",
              " \"So here we are. I'm going to illustrate what I think we've found about climate from those corals in the Southern Ocean. We went up and down sea mountains. We collected little fossil corals. This is my illustration of that. We think back in the glacial, from the analysis we've made in the corals, that the deep part of the Southern Ocean was very rich in carbon, and there was a low-density layer sitting on top. That stops carbon dioxide coming out of the ocean. We then found corals that are of an intermediate age, and they show us that the ocean mixed partway through that climate transition. That allows carbon to come out of the deep ocean. And then if we analyze corals closer to the modern day, or indeed if we go down there today anyway and measure the chemistry of the corals, we see that we move to a position where carbon can exchange in and out. So this is the way we can use fossil corals to help us learn about the environment.\",\n",
              " \"So I want to leave you with this last slide. It's just a still taken out of that first piece of footage that I showed you. This is a spectacular coral garden. We didn't even expect to find things this beautiful. It's thousands of meters deep. There are new species. It's just a beautiful place. There are fossils in amongst, and now I've trained you to appreciate the fossil corals that are down there.\",\n",
              " \"So next time you're lucky enough to fly over the ocean or sail over the ocean, just think -- there are massive sea mountains down there that nobody's ever seen before, and there are beautiful corals.\",\n",
              " 'Thank you.',\n",
              " '(Applause)',\n",
              " \"Food crisis. It's in the news every day. But what is it?\",\n",
              " \"Some places in the world it's too little food, maybe too much. Other places, GMO is saving the world. Maybe GMO is the problem? Too much agricultural runoff creating bad oceans, toxic oceans, attenuation of nutrition. They go on and on. And I find the current climate of this discussion incredibly disempowering. So how do we bring that to something that we understand?\",\n",
              " \"How is this apple food crisis? You've all eaten an apple in the last week, I'm sure. How old do you think it was from when it was picked? Two weeks? Two months? Eleven months -- the average age of an apple in a grocery store in the United States. And I don't expect it to be much different in Europe or anywhere else in the world. We pick them, we put them in cold storage, we gas the cold storage -- there's actually documented proof of workers trying to go into these environments to retrieve an apple, and dying, because the atmosphere that they slow down the process of the apple with is also toxic to humans.\",\n",
              " \"How is it that none of you knew this? Why didn't I know this? Ninety percent of the quality of that apple -- all of the antioxidants -- are gone by the time we get it. It's basically a little ball of sugar. How did we get so information poor and how can we do better?\",\n",
              " \"I think what's missing is a platform. I know platforms -- I know computers, they put me on the Internet when I was young. I did very weird things --\",\n",
              " '(Laughter)',\n",
              " 'on this platform. But I met people, and I could express myself.',\n",
              " \"How do you express yourself in food? If we had a platform, we might feel empowered to question: What if? For me, I questioned: What if climate was democratic? So, this is a map of climate in the world. The most productive areas in green, the least productive in red. They shift and they change, and Californian farmers now become Mexican farmers. China picks up land in Brazil to grow better food, and we're a slave to climate. What if each country had its own productive climate? What would that change about how we live? What would that change about quality of life and nutrition?\",\n",
              " \"The last generation's problem was, we need more food and we need it cheap. Welcome to your global farm. We built a huge analog farm. All these traces -- these are cars, planes, trains and automobiles. It's a miracle that we feed seven billion people with just a few of us involved in the production of food.\",\n",
              " 'What if ... we built a digital farm? A digital world farm. What if you could take this apple, digitize it somehow, send it through particles in the air and reconstitute it on the other side? What if?',\n",
              " 'Going through some of these quotes, you know, they inspire me to do what I do.',\n",
              " 'First one:',\n",
              " '[\"Japanese farming has no youth, no water, no land and no future.\"]',\n",
              " \"That's what I landed to the day that I went to Minamisanriku, one stop south of Fukushima, after the disaster. The kids have headed to Sendai and Tokyo, the land is contaminated, they already import seventy percent of their own food. But it's not unique to Japan. Two percent of the American population is involved in farming. What good answer comes from two percent of any population? As we go around the world, fifty percent of the African population is under eighteen. Eighty percent don't want to be farmers. Farming is hard. The life of a small-shareholder farmer is miserable. They go into the city. In India: farmers' families not being able to have basic access to utilities, more farmer suicides this year and the previous ten before that. It's uncomfortable to talk about. Where are they going? Into the city. No young people, and everyone's headed in. So how do we build this platform that inspires the youth?\",\n",
              " 'Welcome to the new tractor. This is my combine. A number of years ago now, I went to Bed Bath and Beyond and Home Depot and I started hacking. And I built silly things and I made plants dance and I attached them to my computer and I killed them all -- a lot.',\n",
              " '(Laughter)',\n",
              " 'I eventually got them to survive. And I created one of the most intimate relationships I\\'ve ever had in my life, because I was learning the language of plants. I wanted to make it bigger. They said, \"Knock yourself out, kid! Here\\'s an old electronics room that nobody wants. What can you do?\"',\n",
              " \"With my team, we built a farm inside of the media lab, a place historically known not for anything about biology but everything about digital life. Inside of these sixty square feet, we produced enough food to feed about three hundred people once a month -- not a lot of food. And there's a lot of interesting technology in there. But the most interesting thing? Beautiful, white roots, deep, green colors and a monthly harvest. Is this a new cafeteria? Is this a new retail experience? Is this a new grocery store? I can tell you one thing for sure: this is the first time anybody in the media lab ripped the roots off of anything.\",\n",
              " '(Laughter)',\n",
              " 'We get our salad in bags; there\\'s nothing wrong with that. But what happens when you have an image-based processing expert, a data scientist, a roboticist, ripping roots off and thinking, \"Huh. I know something about -- I could make this happen, I want to try.\"',\n",
              " \"In that process we would bring the plants out and we would take some back to the lab, because if you grew it, you don't throw it away; it's kind of precious to you. I have this weird tongue now, because I'm afraid to let anybody eat anything until I've eaten it first, because I want it to be good. So I eat lettuce every day and I can tell the pH of a lettuce within .one.\",\n",
              " '(Laughter)',\n",
              " 'I\\'m like, \"No, that\\'s six.one -- no, no, you can\\'t eat it today.\"',\n",
              " '(Applause)',\n",
              " 'This lettuce that day was hyper sweet. It was hyper sweet because the plant had been stressed and it created a chemical reaction in the plant to protect itself: \"I\\'m not going to die!\" And the plants not-going-to-die, taste sweet to me. Technologists falling backwards into plant physiology.',\n",
              " 'So we thought other people needed to be able to try this. We want to see what people can create, so we conceived of a lab that could be shipped anywhere. And then we built it.',\n",
              " 'So on the facade of the media lab is my lab, that has about thirty points of sensing per plant. If you know about the genome or genetics, this is the phenome, right? The phenomena. When you say, \"I like the strawberries from Mexico,\" you really like the strawberries from the climate that produced the expression that you like. So if you\\'re coding climate -- this much COtwo, this much Otwo creates a recipe -- you\\'re coding the expression of that plant, the nutrition of that plant, the size of that plant, the shape, the color, the texture. We need data, so we put a bunch of sensors in there to tell us what\\'s going on.',\n",
              " 'If you think of your houseplants, and you look at your houseplant and you\\'re super sad, because you\\'re like, \"Why are you dying? Won\\'t you talk to me?\"',\n",
              " '(Laughter)',\n",
              " \"Farmers develop the most beautiful fortune-telling eyes by the time they're in their late sixtys and seventys. They can tell you when you see that plant dying that it's a nitrogen deficiency, a calcium deficiency or it needs more humidity. Those beautiful eyes are not being passed down.\",\n",
              " 'These are eyes in the cloud of a farmer. We trend those data points over time. We correlate those data points to individual plants. These are all the broccoli in my lab that day, by IP address.',\n",
              " '(Laughter)',\n",
              " 'We have IP-addressable broccoli.',\n",
              " '(Applause)',\n",
              " \"So if that's not weird enough, you can click one and you get a plant profile. And what this tells you is downloadable progress on that plant, but not like you'd think, it's not just when it's ready. When does it achieve the nutrition that I need? When does it achieve the taste that I desire? Is it getting too much water? Is it getting too much sun? Alerts. It can talk to me, it's conversant, we have a language.\",\n",
              " '(Laughter)',\n",
              " '(Applause)',\n",
              " \"I think of that as the first user on the plant Facebook, right? That's a plant profile and that plant will start making friends.\",\n",
              " '(Laughter)',\n",
              " \"And I mean it -- it will make friends with other plants that use less nitrogen, more phosphorus, less potassium. We're going to learn about a complexity that we can only guess at now. And they may not friend us back -- I don't know, they might friend us back, it depends on how we act.\",\n",
              " \"So this is my lab now. It's a little bit more systematized, my background is designing data centers in hospitals of all things, so I know a little bit about creating a controlled environment.\",\n",
              " \"And so -- inside of this environment, we're experimenting with all kinds of things. This process, aeroponics, was developed by NASA for Mir Space Station for reducing the amount of water they send into space. What it really does is give the plant exactly what it wants: water, minerals and oxygen. Roots are not that complicated, so when you give them that, you get this amazing expression. It's like the plant has two hearts. And because it has two hearts, it grows four or five times faster. It's a perfect world. We've gone a long way into technology and seed for an adverse world and we're going to continue to do that, but we're going to have a new tool, too, which is perfect world.\",\n",
              " \"So we've grown all kinds of things. These tomatoes hadn't been in commercial production for one hundred and fifty years. Do you know that we have rare and ancient seed banks? Banks of seed. It's amazing. They have germplasm alive and things that you've never eaten. I am the only person in this room that's eaten that kind of tomato. Problem is it was a sauce tomato and we don't know how to cook, so we ate a sauce tomato, which is not that great. But we've done things with protein -- we've grown all kinds of things. We've grown humans --\",\n",
              " '(Laughter)',\n",
              " \"Well maybe you could, but we didn't.\",\n",
              " \"But what we realized is, the tool was too big, it was too expensive. I was starting to put them around the world and they were about one hundred,zero dollars. Finding somebody with one hundred grand in their back pocket isn't easy, so we wanted to make a small one.\",\n",
              " \"This project was actually one of my student's -- mechanical engineering undergraduate, Camille. So Camille and I and my team, we iterated all summer, how to make it cheaper, how to make it work better, how to make it so other people can make it. Then we dropped them off in schools, seventh through eleventh grade. And if you want to be humbled, try to teach a kid something.\",\n",
              " 'So I went into this school and I said, \"Set it to sixty-five percent humidity.\"',\n",
              " 'The seventh grader said, \"What\\'s humidity?\"',\n",
              " 'And I said, \"Oh, it\\'s water in air.\"',\n",
              " 'He said, \"There\\'s no water in air, you\\'re an idiot.\"',\n",
              " '(Laughter)',\n",
              " 'And I was like, \"Alright, don\\'t trust me. Actually -- don\\'t trust me, right? Set it to one hundred. He sets it to one hundred and what happens? It starts to condense, make a fog and eventually drip.',\n",
              " 'And he says, \"Oh. Humidity is rain. Why didn\\'t you just tell me that?\"',\n",
              " '(Laughter)',\n",
              " 'We\\'ve created an interface for this that\\'s much like a game. They have a threeD environment, they can log into it anywhere in the world on their smartphone, on their tablet. They have different parts of the bots -- the physical, the sensors. They select recipes that have been created by other kids anywhere in the world. They select and activate that recipe, they plant a seedling. While it\\'s growing, they make changes. They\\'re like, \"Why does a plant need COtwo anyway? Isn\\'t COtwo bad? It kills people.\" Crank up COtwo, plant dies. Or crank down COtwo, plant does very well. Harvest plant, and you\\'ve created a new digital recipe.',\n",
              " \"It's an iterative design and development and exploration process. They can download, then, all of the data about that new plant that they developed or the new digital recipe and what did it do -- was it better or was it worse? Imagine these as little cores of processing. We're going to learn so much.\",\n",
              " \"Here's one of the food computers, as we call them, in a school in three weeks' time. This is three weeks of growth. But more importantly, it was the first time that this kid ever thought he could be a farmer -- or that he would want to be a farmer.\",\n",
              " \"So, we've open-sourced all of this. It's all online; go home, try to build your first food computer. It's going to be difficult -- I'm just telling you. We're in the beginning, but it's all there. It's very important to me that this is easily accessible. We're going to keep making it more so.\",\n",
              " \"These are farmers, electrical engineer, mechanical engineer, environmental engineer, computer scientist, plant scientist, economist, urban planners. On one platform, doing what they're good at. But we got a little too big.\",\n",
              " \"This is my new facility that I'm just starting. This warehouse could be anywhere. That's why I chose it. And inside of this warehouse we're going to build something kind of like this. These exist right now. Take a look at it. These exist, too. One grows greens, one grows Ebola vaccine. Pretty amazing that plants and this DARPA Grand Challenge winner is one of the reasons we're getting ahead of Ebola. The plants are producing the protein that's Ebola resistant. So pharmaceuticals, nutraceuticals, all they way down to lettuce.\",\n",
              " 'But these two things look nothing alike, and that\\'s where I am with my field. Everything is different. We\\'re in that weird \"We\\'re alright\" stage and it\\'s like, \"Here\\'s my black box --\" \"No, buy mine.\" \"No, no, no -- I\\'ve got intellectual property that\\'s totally valuable. Don\\'t buy his, buy mine.\"',\n",
              " \"And the reality is, we're just at the beginning, in a time when society is shifting, too. When we ask for more, cheaper food, we're now asking for better, environmentally friendly food. And when you have McDonald's advertising what's in the Chicken McNugget, the most mysterious food item of all time -- they are now basing their marketing plan on that -- everything is changing.\",\n",
              " \"So into the world now. Personal food computers, food servers and food data centers run on the open phenome. Think open genome, but we're going to put little climate recipes, like Wikipedia, that you can pull down, actuate and grow.\",\n",
              " \"What does this look like in a world? You remember the world connected by strings? We start having beacons. We start sending information about food, rather than sending food. This is not just my fantasy, this is where we're already deploying. Food computers, food servers, soon-to-be food data centers, connecting people together to share information.\",\n",
              " 'The future of food is not about fighting over what\\'s wrong with this. We know what\\'s wrong with this. The future of food is about networking the next one billion farmers and empowering them with a platform to ask and answer the question, \"What if?\"',\n",
              " 'Thank you.',\n",
              " '(Applause)',\n",
              " 'So a few years ago, I did something really brave, or some would say really stupid. I ran for Congress.',\n",
              " 'For years, I had existed safely behind the scenes in politics as a fundraiser, as an organizer, but in my heart, I always wanted to run. The sitting congresswoman had been in my district since one thousand, nine hundred and ninety-two. She had never lost a race, and no one had really even run against her in a Democratic primary. But in my mind, this was my way to make a difference, to disrupt the status quo. The polls, however, told a very different story. My pollsters told me that I was crazy to run, that there was no way that I could win.',\n",
              " \"But I ran anyway, and in two thousand and twelve, I became an upstart in a New York City congressional race. I swore I was going to win. I had the endorsement from the New York Daily News, the Wall Street Journal snapped pictures of me on election day, and CNBC called it one of the hottest races in the country. I raised money from everyone I knew, including Indian aunties that were just so happy an Indian girl was running. But on election day, the polls were right, and I only got nineteen percent of the vote, and the same papers that said I was a rising political star now said I wasted one.three million dollars on six,three hundred and twenty-one votes. Don't do the math. It was humiliating.\",\n",
              " \"Now, before you get the wrong idea, this is not a talk about the importance of failure. Nor is it about leaning in. I tell you the story of how I ran for Congress because I was thirty-three years old and it was the first time in my entire life that I had done something that was truly brave, where I didn't worry about being perfect.\",\n",
              " \"And I'm not alone: so many women I talk to tell me that they gravitate towards careers and professions that they know they're going to be great in, that they know they're going to be perfect in, and it's no wonder why. Most girls are taught to avoid risk and failure. We're taught to smile pretty, play it safe, get all A's. Boys, on the other hand, are taught to play rough, swing high, crawl to the top of the monkey bars and then just jump off headfirst. And by the time they're adults, whether they're negotiating a raise or even asking someone out on a date, they're habituated to take risk after risk. They're rewarded for it. It's often said in Silicon Valley, no one even takes you seriously unless you've had two failed start-ups. In other words, we're raising our girls to be perfect, and we're raising our boys to be brave.\",\n",
              " \"Some people worry about our federal deficit, but I, I worry about our bravery deficit. Our economy, our society, we're just losing out because we're not raising our girls to be brave. The bravery deficit is why women are underrepresented in STEM, in C-suites, in boardrooms, in Congress, and pretty much everywhere you look.\",\n",
              " 'In the one thousand, nine hundred and eightys, psychologist Carol Dweck looked at how bright fifth graders handled an assignment that was too difficult for them. She found that bright girls were quick to give up. The higher the IQ, the more likely they were to give up. Bright boys, on the other hand, found the difficult material to be a challenge. They found it energizing. They were more likely to redouble their efforts.',\n",
              " \"What's going on? Well, at the fifth grade level, girls routinely outperform boys in every subject, including math and science, so it's not a question of ability. The difference is in how boys and girls approach a challenge. And it doesn't just end in fifth grade. An HP report found that men will apply for a job if they meet only sixty percent of the qualifications, but women, women will apply only if they meet one hundred percent of the qualifications. one hundred percent. This study is usually invoked as evidence that, well, women need a little more confidence. But I think it's evidence that women have been socialized to aspire to perfection, and they're overly cautious.\",\n",
              " '(Applause)',\n",
              " \"And even when we're ambitious, even when we're leaning in, that socialization of perfection has caused us to take less risks in our careers. And so those six hundred,zero jobs that are open right now in computing and tech, women are being left behind, and it means our economy is being left behind on all the innovation and problems women would solve if they were socialized to be brave instead of socialized to be perfect.\",\n",
              " '(Applause)',\n",
              " \"So in two thousand and twelve, I started a company to teach girls to code, and what I found is that by teaching them to code I had socialized them to be brave. Coding, it's an endless process of trial and error, of trying to get the right command in the right place, with sometimes just a semicolon making the difference between success and failure. Code breaks and then it falls apart, and it often takes many, many tries until that magical moment when what you're trying to build comes to life. It requires perseverance. It requires imperfection.\",\n",
              " 'We immediately see in our program our girls\\' fear of not getting it right, of not being perfect. Every Girls Who Code teacher tells me the same story. During the first week, when the girls are learning how to code, a student will call her over and she\\'ll say, \"I don\\'t know what code to write.\" The teacher will look at her screen, and she\\'ll see a blank text editor. If she didn\\'t know any better, she\\'d think that her student spent the past twenty minutes just staring at the screen. But if she presses undo a few times, she\\'ll see that her student wrote code and then deleted it. She tried, she came close, but she didn\\'t get it exactly right. Instead of showing the progress that she made, she\\'d rather show nothing at all. Perfection or bust.',\n",
              " \"It turns out that our girls are really good at coding, but it's not enough just to teach them to code.\",\n",
              " 'My friend Lev Brie, who is a professor at the University of Columbia and teaches intro to Java tells me about his office hours with computer science students. When the guys are struggling with an assignment, they\\'ll come in and they\\'ll say, \"Professor, there\\'s something wrong with my code.\" The girls will come in and say, \"Professor, there\\'s something wrong with me.\"',\n",
              " \"We have to begin to undo the socialization of perfection, but we've got to combine it with building a sisterhood that lets girls know that they are not alone. Because trying harder is not going to fix a broken system. I can't tell you how many women tell me,\",\n",
              " '\"I\\'m afraid to raise my hand, I\\'m afraid to ask a question, because I don\\'t want to be the only one who doesn\\'t understand, the only one who is struggling. When we teach girls to be brave and we have a supportive network cheering them on, they will build incredible things, and I see this every day. Take, for instance, two of our high school students who built a game called Tampon Run -- yes, Tampon Run -- to fight against the menstruation taboo and sexism in gaming. Or the Syrian refugee who dared show her love for her new country by building an app to help Americans get to the polls. Or a sixteen-year-old girl who built an algorithm to help detect whether a cancer is benign or malignant in the off chance that she can save her daddy\\'s life because he has cancer. These are just three examples of thousands, thousands of girls who have been socialized to be imperfect, who have learned to keep trying, who have learned perseverance. And whether they become coders or the next Hillary Clinton or Beyoncé, they will not defer their dreams.',\n",
              " \"And those dreams have never been more important for our country. For the American economy, for any economy to grow, to truly innovate, we cannot leave behind half our population. We have to socialize our girls to be comfortable with imperfection, and we've got to do it now. We cannot wait for them to learn how to be brave like I did when I was thirty-three years old. We have to teach them to be brave in schools and early in their careers, when it has the most potential to impact their lives and the lives of others, and we have to show them that they will be loved and accepted not for being perfect but for being courageous. And so I need each of you to tell every young woman you know -- your sister, your niece, your employee, your colleague -- to be comfortable with imperfection, because when we teach girls to be imperfect, and we help them leverage it, we will build a movement of young women who are brave and who will build a better world for themselves and for each and every one of us.\",\n",
              " 'Thank you.',\n",
              " '(Applause) Thank you.',\n",
              " \"Chris Anderson: Reshma, thank you. It's such a powerful vision you have. You have a vision. Tell me how it's going. How many girls are involved now in your program?\",\n",
              " \"Reshma Saujani: Yeah. So in two thousand and twelve, we taught twenty girls. This year we'll teach forty,zero in all fifty states.\",\n",
              " '(Applause)',\n",
              " 'And that number is really powerful, because last year we only graduated seven,five hundred women in computer science. Like, the problem is so bad that we can make that type of change quickly.',\n",
              " \"CA: And you're working with some of the companies in this room even, who are welcoming graduates from your program?\",\n",
              " \"RS: Yeah, we have about eighty partners, from Twitter to Facebook to Adobe to IBM to Microsoft to Pixar to Disney, I mean, every single company out there. And if you're not signed up, I'm going to find you, because we need every single tech company to embed a Girls Who Code classroom in their office.\",\n",
              " 'CA: And you have some stories back from some of those companies that when you mix in more gender balance in the engineering teams, good things happen.',\n",
              " \"RS: Great things happen. I mean, I think that it's crazy to me to think about the fact that right now eighty-five percent of all consumer purchases are made by women. Women use social media at a rate of six hundred percent more than men. We own the Internet, and we should be building the companies of tomorrow. And I think when companies have diverse teams, and they have incredible women that are part of their engineering teams, they build awesome things, and we see it every day.\",\n",
              " \"CA: Reshma, you saw the reaction there. You're doing incredibly important work. This whole community is cheering you on. More power to you. Thank you.\",\n",
              " 'RS: Thank you.',\n",
              " '(Applause)',\n",
              " \"Today I wanted to -- well, this morning -- I want to talk about the future of human-driven transportation; about how we can cut congestion, pollution and parking by getting more people into fewer cars; and how we can do it with the technology that's in our pockets. And yes, I'm talking about smartphones ... not self-driving cars.\",\n",
              " \"But to get started we've got to go back over one hundred years. Because it turns out there was an Uber way before Uber. And if it had survived, the future of transportation would probably already be here.\",\n",
              " \"So let me introduce you to the jitney. In one thousand, nine hundred and fourteen it was created or invented by a guy named LP Draper. He was a car salesman from LA, and he had an idea. Well, he was cruising around downtown Los Angeles, my hometown, and he saw trolleys with long lines of people trying to get to where they wanted to go. He said, well, why don't I just put a sign on my car that takes people wherever they want to go for a jitney -- that was slang for a nickel.\",\n",
              " 'And so people jumped on board, and not just in Los Angeles but across the country. And within one year, by one thousand, nine hundred and fifteen, there were fifty,zero rides per day in Seattle, forty-five,zero rides per day in Kansas and one hundred and fifty,zero rides per day in Los Angeles. To give you some perspective, Uber in Los Angeles is doing one hundred and fifty-seven,zero rides per day, today ... one hundred years later.',\n",
              " 'And so these are the trolley guys, the existing transportation monopoly at the time. They were clearly not happy about the jitney juggernaut. And so they got to work and they went to cities across the country and got regulations put in place to slow down the growth of the jitney.',\n",
              " 'And there were all kinds of regulations. There were licenses -- often they were pricey. In some cities, if you were a jitney driver, you were required to be in the jitney for sixteen hours a day. In other cities, they required two jitney drivers for one jitney. But there was a really interesting regulation which was they had to put a backseat light -- install it in every Jitney -- to stop a new pernicious innovation which they called spooning.',\n",
              " '(Laughter)',\n",
              " 'All right. So what happened? Well, within a year this thing had taken off. But the jitney, by one thousand, nine hundred and nineteen, was regulated completely out of existence.',\n",
              " \"That's unfortunate ... because, well, when you can't share a car, then you have to own one. And car ownership skyrocketed and it's no wonder that by two thousand and seven, there was a car for every man, woman and child in the United States. And that phenomenon had gone global. In China by two thousand and eleven, there were more car sales happening in China than in the US.\",\n",
              " \"Now, all this private ownership of course had a public cost. In the US, we spend seven billion hours a year, wasted, sitting in traffic. one hundred and sixty billion dollars in lost productivity, of course also sitting in traffic, and one-fifth of all of our carbon footprint is spewed out in the air by those cars that we're sitting in.\",\n",
              " \"Now, that's only four percent of our problem though. Because if you have to own a car then that means ninety-six percent of the time your car is sitting idle. And so, up to thirty percent of our land and our space is used storing these hunks of steel. We even have skyscrapers built for cars. That's the world we live in today.\",\n",
              " \"Now, cities have been dealing with this problem for decades. It's called mass transit. And even in a city like New York City, one of the most densely populated in the world and one of the most sophisticated mass transit systems in the world, there are still two.five million cars that go over those bridges every day. Why is that? Well, it's because mass transit hasn't yet figured out how to get to everybody's doorstep. And so back in San Francisco, where I live, the situation's much worse, in fact, much worse around the world.\",\n",
              " \"And so the beginning of Uber in two thousand and ten was -- well, we just wanted to push a button and get a ride. We didn't have any grand ambitions. But it just turned out that lots of people wanted to push a button and get a ride, and ultimately what we started to see was a lot of duplicate rides. We saw a lot of people pushing the same button at the same time going essentially to the same place.\",\n",
              " \"And so we started thinking about, well, how do we make those two trips and turn them into one. Because if we did, that ride would be a lot cheaper -- up to fifty percent cheaper -- and of course for the city you've got a lot more people and a lot fewer cars.\",\n",
              " 'And so the big question for us was: would it work? Could you have a cheaper ride cheap enough that people would be willing to share it? And the answer, fortunately, is a resounding yes.',\n",
              " \"In San Francisco, before uberPOOL, we had -- well, everybody would take their car wherever the heck they wanted. And the bright colors is where we have the most cars. And once we introduced uberPOOL, well, you see there's not as many bright colors. More people getting around the city in fewer cars, taking cars off the road. It looks like uberPOOL is working.\",\n",
              " \"And so we rolled it out in Los Angeles eight months ago. And since then, we've taken seven.nine million miles off the roads and we've taken one.four thousand metric tons of COtwo out of the air. But the part that I'm really --\",\n",
              " '(Applause)',\n",
              " 'But my favorite statistic -- remember, I\\'m from LA, I spent years of my life sitting behind the wheel, going, \"How do we fix this?\" -- my favorite part is that eight months later, we have added one hundred,zero new people that are carpooling every week.',\n",
              " 'Now, in China everything is supersized, and so we\\'re doing fifteen million uberPOOL trips per month, that\\'s five hundred,zero per day. And of course we\\'re seeing that exponential growth happen. In fact, we\\'re seeing it in LA, too. And when I talk to my team, we don\\'t talk about, \"Hey, well, one hundred,zero people carpooling every week and we\\'re done.\" How do we get that to a million? And in China, well, that could be several million.',\n",
              " 'And so uberPOOL is a very great solution for urban carpooling. But what about the suburbs?',\n",
              " \"This is the street where I grew up in Los Angeles, it's actually a suburb called Northridge, California, and, well -- look, those mailboxes, they kind of just go on forever. And every morning at about the same time, cars roll of out their driveway, most of them, one person in the car, and they go to work, they go to their place of work. So the question for us is: well, how do we turn all of these commuter cars -- and literally there's tens of millions of them -- how do we turn all these commuter cars into shared cars?\",\n",
              " \"Well, we have something for this that we recently launched called uberCOMMUTE. You get up in the morning, get ready for work, get your coffee, go to your car and you light up the Uber app, and all of a sudden, you become an Uber driver. And we'll match you up with one of your neighbors on your way to work and it's a really great thing.\",\n",
              " \"There's just one hitch ... it's called regulation. So fifty-four cents a mile, what is that? Well, that is what the US government has determined that the cost of owning a car is per mile. You can pick up anybody in the United States and take them wherever they want to go at a moment's notice, for fifty-four cents a mile or less. But if you charge sixty cents a mile, you're a criminal. But what if for sixty cents a mile we could get half a million more people carpooling in Los Angeles? And what if at sixty cents a mile we could get fifty million people carpooling in the United States? If we could, it's obviously something we should do.\",\n",
              " 'And so it goes back to the lesson of the jitney. If by one thousand, nine hundred and fifteen this thing was taking off, imagine without the regulations that happened, if that thing could just keep going. How would our cities be different today? Would we have parks in the place of parking lots? Well, we lost that chance. But technology has given us another opportunity.',\n",
              " \"Now, I'm as excited as anybody else about self-driving cars but do we have to really wait five, ten or even twenty years to make our new cities a reality? With the technology in our pockets today, and a little smart regulation, we can turn every car into a shared car, and we can reclaim our cities starting today.\",\n",
              " 'Thank you.',\n",
              " '(Applause)',\n",
              " 'Chris Anderson: Travis, thank you.',\n",
              " 'Travis Kalanick: Thank you.',\n",
              " \"CA: You know -- I mean the company you've built is absolutely astounding. You only just talked about a small part of it here -- a powerful part -- the idea of turning cars into public transport like that, it's cool. But I've got a couple other questions because I know they're out there on people's minds.\",\n",
              " \"So first of all, last week I think it was, I switched on my phone and tried to book an Uber and I couldn't find the app. You had this very radical, very bold, brave redesign.\",\n",
              " 'TK: Sure.',\n",
              " 'CA: How did it go? Did you notice other people not finding the app that day? Are you going to win people over for this redesign?',\n",
              " 'TK: Well, first I should probably just say, well, what we were trying to accomplish. And I think if you know a little bit about our history, it makes a lot more sense. Which is, when we first got started, it was just black cars. It was literally you push a button and get an S-Class. And so what we did was almost what I would call an immature version of a luxury brand that looked like a badge on a luxury car.',\n",
              " \"And as we've gone worldwide and gone from S-Classes to auto rickshaws in India, it became something that was important for us to be more accessible, to be more hyperlocal, to be about the cities we were in and that's what you see with the patterns and colors. And to be more iconic, because a U doesn't mean anything in Sanskrit, and a U doesn't mean anything in Mandarin. And so that was a little bit what it was about.\",\n",
              " \"Now, when you first roll out something like that, I mean, your hands are sweating, you've got -- you know, you're a little worried. What we saw is a lot of people -- actually, at the beginning, we saw a lot more people opening the app because they were curious what they would find when they opened it. And our numbers were slightly up from what we expected.\",\n",
              " \"CA: OK, that's cool.\",\n",
              " \"Now, so you, yourself, are something of an enigma, I would say. Your supporters and investors, who have been with you the whole way, believe that the only chance of sort of taking on the powerful, entrenched interests of taxi industry and so forth, is to have someone who is a fierce, relentless competitor, which you've certainly proved to be.\",\n",
              " \"Some people feel you've almost taken that culture too far, and you know -- like a year or two ago there was a huge controversy where a lot of women got upset. How did it feel like inside the company during that period? Did you notice a loss of business? Did you learn anything from that?\",\n",
              " \"TK: Well, look, I think -- I've been an entrepreneur since I've been in high school and you have -- In various different ways an entrepreneur will see hard times and for us, it was about a year and a half ago, and for us it was hard times, too.\",\n",
              " 'Now, inside, we felt like -- I guess at the end of the day we felt like we were good people doing good work, but on the outside that wasn\\'t evident. And so there was a lot that we had to do to sort of -- We\\'d gone from a very small company -- I mean if you go literally two and a half years ago, our company was four hundred people, and today it\\'s six,five hundred. And so when you go through that growth, you have to sort of cement your cultural values and talk about them all of the time. And make sure that people are constantly checking to say, \"Are we good people doing good work?\" And if you check those boxes, the next part of that is making sure you\\'re telling your story. And I think we learned a lot of lessons but I think at the end of it we came out stronger. But it was certainly a difficult period.',\n",
              " \"CA: It seems to me, everywhere you turn, you're facing people who occasionally give you a hard time. Some Uber drivers in New York and elsewhere are mad as hell now because you changed the fees and they can barely -- they claim -- barely afford the deal anymore.\",\n",
              " \"How -- You know, you said that you started this originally -- just the coolness of pressing a button and summoning a ride. This thing's taken off, you're affecting the whole global economy, basically, at this point. You're being forced to be, whether you want it or not, a kind of global visionary who's changing the world. I mean -- who are you? Do you want that? Are you ready to go with that and be what that takes?\",\n",
              " \"TK: Well, there's a few things packed in that question, so --\",\n",
              " '(Laughter)',\n",
              " \"First is on the pricing side -- I mean, keep in mind, right? UberX, when we first started, was literally ten or fifteen percent cheaper than our black car product. It's now in many cities, half the price of a taxi. And we have all the data to show that the divers are making more per hour than they would as taxi drivers.\",\n",
              " \"What happens is when the price goes down, people are more likely to take Uber at different times of the day than they otherwise would have, and they're more likely to use it in places they wouldn't have before. And what that means for a driver is wherever he or she drops somebody off, they're much more likely to get a pickup and get back in. And so what that means is more trips per hour, more minutes of the hour where they're productive and actually, earnings come up.\",\n",
              " 'And we have cities where we\\'ve done literally five or six price cuts and have seen those price cuts go up over time. So even in New York -- We have a blog post we call \"four Septembers\" -- compare the earnings September after September after September. Same month every year. And we see the earnings going up over time as the price comes down. And there\\'s a perfect price point -- you can\\'t go down forever. And in those places where we bring the price down but we don\\'t see those earnings pop, we bring the prices back up.',\n",
              " \"So that addresses that first part. And then the enigma and all of this -- I mean, the kind of entrepreneur I am is one that gets really excited about solving hard problems. And the way I like to describe it is it's kind of like a math professor. You know? If a math professor doesn't have hard problems to solve, that's a really sad math professor. And so at Uber we like the hard problems and we like getting excited about those and solving them. But we don't want just any math problem, we want the hardest ones that we can possibly find, and we want the one that if you solve it, there's a little bit of a wow factor.\",\n",
              " \"CA: In a couple years' time -- say five years' time, I don't know when -- you roll out your incredible self-driving cars, at probably a lower cost than you currently pay for an Uber ride. What do you say to your army of a million drivers plus at that time?\",\n",
              " 'TK: Explain that again -- at which time?',\n",
              " 'CA: At the time when self-driving cars are coming --',\n",
              " 'TK: Sure, sure, sure. Sorry, I missed that.',\n",
              " \"CA: What do you say to a driver? TK: Well, look, I think the first part is it's going to take -- it's likely going to take a lot longer than I think some of the hype or media might expect. That's part one.\",\n",
              " \"Part two is it's going to also take -- there's going to be a long transition. These cars will work in certain places and not in others.\",\n",
              " \"For us it's an interesting challenge, right? Because, well -- Google's been investing in this since two thousand and seven, Tesla's going to be doing it, Apple's going to be doing it, the manufacturers are going to be doing it. This is a world that's going to exist, and for good reason. A million people die a year in cars. And we already looked at the billions or even trillions of hours worldwide that people are spending sitting in them, driving frustrated, anxious. And think about the quality of life that improves when you give people their time back and it's not so anxiety-ridden. So I think there's a lot of good.\",\n",
              " \"And so the way we think about it is that it's a challenge, but one for optimistic leadership, Where instead of resisting -- resisting technology, maybe like the taxi industry, or the trolley industry -- we have to embrace it or be a part of the future.\",\n",
              " \"But how do we optimistically lead through it? Are there ways to partner with cities? Are there ways to have education systems, vocational training, etc., for that transition period. It will take a lot longer than I think we all expect, especially that transition period. But it is a world that's going to exist, and it is going to be a better world.\",\n",
              " \"CA: Travis, what you're building is absolutely incredible and I'm hugely grateful to you for coming to TED and sharing so openly.\",\n",
              " 'Thank you so much. TK: Thank you very much.',\n",
              " '(Applause)',\n",
              " 'There are times when I feel really quite ashamed to be a European. In the last year, more than a million people arrived in Europe in need of our help, and our response, frankly, has been pathetic.',\n",
              " 'There are just so many contradictions. We mourn the tragic death of two-year-old Alan Kurdi, and yet, since then, more than two hundred children have subsequently drowned in the Mediterranean. We have international treaties that recognize that refugees are a shared responsibility, and yet we accept that tiny Lebanon hosts more Syrians than the whole of Europe combined. We lament the existence of human smugglers, and yet we make that the only viable route to seek asylum in Europe. We have labor shortages, and yet we exclude people who fit our economic and demographic needs from coming to Europe. We proclaim our liberal values in opposition to fundamentalist Islam, and yet -- we have repressive policies that detain child asylum seekers, that separate children from their families, and that seize property from refugees.',\n",
              " \"What are we doing? How has the situation come to this, that we've adopted such an inhumane response to a humanitarian crisis?\",\n",
              " \"I don't believe it's because people don't care, or at least I don't want to believe it's because people don't care. I believe it's because our politicians lack a vision, a vision for how to adapt an international refugee system created over fifty years ago for a changing and globalized world. And so what I want to do is take a step back and ask two really fundamental questions, the two questions we all need to ask. First, why is the current system not working? And second, what can we do to fix it?\",\n",
              " 'So the modern refugee regime was created in the aftermath of the Second World War by these guys. Its basic aim is to ensure that when a state fails, or worse, turns against its own people, people have somewhere to go, to live in safety and dignity until they can go home. It was created precisely for situations like the situation we see in Syria today. Through an international convention signed by one hundred and forty-seven governments, the one thousand, nine hundred and fifty-one Convention on the Status of Refugees, and an international organization, UNHCR, states committed to reciprocally admit people onto their territory who flee conflict and persecution.',\n",
              " \"But today, that system is failing. In theory, refugees have a right to seek asylum. In practice, our immigration policies block the path to safety. In theory, refugees have a right to a pathway to integration, or return to the country they've come from. But in practice, they get stuck in almost indefinite limbo. In theory, refugees are a shared global responsibility. In practice, geography means that countries proximate the conflict take the overwhelming majority of the world's refugees. The system isn't broken because the rules are wrong. It's that we're not applying them adequately to a changing world, and that's what we need to reconsider.\",\n",
              " \"So I want to explain to you a little bit about how the current system works. How does the refugee regime actually work? But not from a top-down institutional perspective, rather from the perspective of a refugee. So imagine a Syrian woman. Let's call her Amira. And Amira to me represents many of the people I've met in the region. Amira, like around twenty-five percent of the world's refugees, is a woman with children, and she can't go home because she comes from this city that you see before you, Homs, a once beautiful and historic city now under rubble. And so Amira can't go back there. But Amira also has no hope of resettlement to a third country, because that's a lottery ticket only available to less than one percent of the world's refugees.\",\n",
              " \"So Amira and her family face an almost impossible choice. They have three basic options. The first option is that Amira can take her family to a camp. In the camp, she might get assistance, but there are very few prospects for Amira and her family. Camps are in bleak, arid locations, often in the desert. In the Zaatari refugee camp in Jordan, you can hear the shells across the border in Syria at nighttime. There's restricted economic activity. Education is often of poor quality. And around the world, some eighty percent of refugees who are in camps have to stay for at least five years. It's a miserable existence, and that's probably why, in reality, only nine percent of Syrians choose that option.\",\n",
              " \"Alternatively, Amira can head to an urban area in a neighboring country, like Amman or Beirut. That's an option that about seventy-five percent of Syrian refugees have taken. But there, there's great difficulty as well. Refugees in such urban areas don't usually have the right to work. They don't usually get significant access to assistance. And so when Amira and her family have used up their basic savings, they're left with very little and likely to face urban destitution.\",\n",
              " \"So there's a third alternative, and it's one that increasing numbers of Syrians are taking. Amira can seek some hope for her family by risking their lives on a dangerous and perilous journey to another country, and it's that which we're seeing in Europe today.\",\n",
              " \"Around the world, we present refugees with an almost impossible choice between three options: encampment, urban destitution and dangerous journeys. For refugees, that choice is the global refugee regime today. But I think it's a false choice. I think we can reconsider that choice. The reason why we limit those options is because we think that those are the only options that are available to refugees, and they're not. Politicians frame the issue as a zero-sum issue, that if we benefit refugees, we're imposing costs on citizens. We tend to have a collective assumption that refugees are an inevitable cost or burden to society. But they don't have to. They can contribute.\",\n",
              " \"So what I want to argue is there are ways in which we can expand that choice set and still benefit everyone else: the host states and communities, our societies and refugees themselves. And I want to suggest four ways we can transform the paradigm of how we think about refugees. All four ways have one thing in common: they're all ways in which we take the opportunities of globalization, mobility and markets, and update the way we think about the refugee issue.\",\n",
              " \"The first one I want to think about is the idea of enabling environments, and it starts from a very basic recognition that refugees are human beings like everyone else, but they're just in extraordinary circumstances. Together with my colleagues in Oxford, we've embarked on a research project in Uganda looking at the economic lives of refugees. We chose Uganda not because it's representative of all host countries. It's not. It's exceptional. Unlike most host countries around the world, what Uganda has done is give refugees economic opportunity. It gives them the right to work. It gives them freedom of movement. And the results of that are extraordinary both for refugees and the host community. In the capital city, Kampala, we found that twenty-one percent of refugees own a business that employs other people, and forty percent of those employees are nationals of the host country. In other words, refugees are making jobs for citizens of the host country. Even in the camps, we found extraordinary examples of vibrant, flourishing and entrepreneurial businesses.\",\n",
              " \"For example, in a settlement called Nakivale, we found examples of Congolese refugees running digital music exchange businesses. We found a Rwandan who runs a business that's available to allow the youth to play computer games on recycled games consoles and recycled televisions. Against the odds of extreme constraint, refugees are innovating, and the gentleman you see before you is a Congolese guy called Demou-Kay. Demou-Kay arrived in the settlement with very little, but he wanted to be a filmmaker. So with friends and colleagues, he started a community radio station, he rented a video camera, and he's now making films. He made two documentary films with and for our team, and he's making a successful business out of very little. It's those kinds of examples that should guide our response to refugees. Rather than seeing refugees as inevitably dependent upon humanitarian assistance, we need to provide them with opportunities for human flourishing.\",\n",
              " 'Yes, clothes, blankets, shelter, food are all important in the emergency phase, but we need to also look beyond that. We need to provide opportunities to connectivity, electricity, education, the right to work, access to capital and banking. All the ways in which we take for granted that we are plugged in to the global economy can and should apply to refugees.',\n",
              " \"The second idea I want to discuss is economic zones. Unfortunately, not every host country in the world takes the approach Uganda has taken. Most host countries don't open up their economies to refugees in the same way. But there are still pragmatic alternative options that we can use.\",\n",
              " \"Last April, I traveled to Jordan with my colleague, the development economist Paul Collier, and we brainstormed an idea while we were there with the international community and the government, an idea to bring jobs to Syrians while supporting Jordan's national development strategy. The idea is for an economic zone, one in which we could potentially integrate the employment of refugees alongside the employment of Jordanian host nationals. And just fifteen minutes away from the Zaatari refugee camp, home to eighty-three,zero refugees, is an existing economic zone called the King Hussein Bin Talal Development Area. The government has spent over a hundred million dollars connecting it to the electricity grid, connecting it to the road network, but it lacked two things: access to labor and inward investment. So what if refugees were able to work there rather than being stuck in camps, able to support their families and develop skills through vocational training before they go back to Syria? We recognized that that could benefit Jordan, whose development strategy requires it to make the leap as a middle income country to manufacturing. It could benefit refugees, but it could also contribute to the postconflict reconstruction of Syria by recognizing that we need to incubate refugees as the best source of eventually rebuilding Syria.\",\n",
              " 'We published the idea in the journal Foreign Affairs. King Abdullah has picked up on the idea. It was announced at the London Syria Conference two weeks ago, and a pilot will begin in the summer.',\n",
              " '(Applause)',\n",
              " \"The third idea that I want to put to you is preference matching between states and refugees to lead to the kinds of happy outcomes you see here in the selfie featuring Angela Merkel and a Syrian refugee. What we rarely do is ask refugees what they want, where they want to go, but I'd argue we can do that and still make everyone better off. The economist Alvin Roth has developed the idea of matching markets, ways in which the preference ranking of the parties shapes an eventual match. My colleagues Will Jones and Alex Teytelboym have explored ways in which that idea could be applied to refugees, to ask refugees to rank their preferred destinations, but also allow states to rank the types of refugees they want on skills criteria or language criteria and allow those to match. Now, of course you'd need to build in quotas on things like diversity and vulnerability, but it's a way of increasing the possibilities of matching. The matching idea has been successfully used to match, for instance, students with university places, to match kidney donors with patients, and it underlies the kind of algorithms that exist on dating websites. So why not apply that to give refugees greater choice?\",\n",
              " 'It could also be used at the national level, where one of the great challenges we face is to persuade local communities to accept refugees. And at the moment, in my country, for instance, we often send engineers to rural areas and farmers to the cities, which makes no sense at all. So matching markets offer a potential way to bring those preferences together and listen to the needs and demands of the populations that host and the refugees themselves.',\n",
              " \"The fourth idea I want to put to you is of humanitarian visas. Much of the tragedy and chaos we've seen in Europe was entirely avoidable. It stems from a fundamental contradiction in Europe's asylum policy, which is the following: that in order to seek asylum in Europe, you have to arrive spontaneously by embarking on those dangerous journeys that I described. But why should those journeys be necessary in an era of the budget airline and modern consular capabilities? They're completely unnecessary journeys, and last year, they led to the deaths of over three,zero people on Europe's borders and within European territory.\",\n",
              " \"If refugees were simply allowed to travel directly and seek asylum in Europe, we would avoid that, and there's a way of doing that through something called a humanitarian visa, that allows people to collect a visa at an embassy or a consulate in a neighboring country and then simply pay their own way through a ferry or a flight to Europe. It costs around a thousand euros to take a smuggler from Turkey to the Greek islands. It costs two hundred euros to take a budget airline from Bodrum to Frankfurt. If we allowed refugees to do that, it would have major advantages. It would save lives, it would undercut the entire market for smugglers, and it would remove the chaos we see from Europe's front line in areas like the Greek islands. It's politics that prevents us doing that rather than a rational solution.\",\n",
              " 'And this is an idea that has been applied. Brazil has adopted a pioneering approach where over two,zero Syrians have been able to get humanitarian visas, enter Brazil, and claim refugee status on arrival in Brazil. And in that scheme, every Syrian who has gone through it has received refugee status and been recognized as a genuine refugee.',\n",
              " 'There is a historical precedent for it as well. Between one thousand, nine hundred and twenty-two and one thousand, nine hundred and forty-two, these Nansen passports were used as travel documents to allow four hundred and fifty,zero Assyrians, Turks and Chechens to travel across Europe and claim refugee status elsewhere in Europe. And the Nansen International Refugee Office received the Nobel Peace Prize in recognition of this being a viable strategy.',\n",
              " \"So all four of these ideas that I've presented you are ways in which we can expand Amira's choice set. They're ways in which we can have greater choice for refugees beyond those basic, impossible three options I explained to you and still leave others better off.\",\n",
              " \"In conclusion, we really need a new vision, a vision that enlarges the choices of refugees but recognizes that they don't have to be a burden. There's nothing inevitable about refugees being a cost. Yes, they are a humanitarian responsibility, but they're human beings with skills, talents, aspirations, with the ability to make contributions -- if we let them.\",\n",
              " \"In the new world, migration is not going to go away. What we've seen in Europe will be with us for many years. People will continue to travel, they'll continue to be displaced, and we need to find rational, realistic ways of managing this -- not based on the old logics of humanitarian assistance, not based on logics of charity, but building on the opportunities offered by globalization, markets and mobility. I'd urge you all to wake up and urge our politicians to wake up to this challenge.\",\n",
              " 'Thank you very much.',\n",
              " '(Applause)',\n",
              " 'So you go to the doctor and get some tests. The doctor determines that you have high cholesterol and you would benefit from medication to treat it. So you get a pillbox. You have some confidence, your physician has some confidence that this is going to work. The company that invented it did a lot of studies, submitted it to the FDA. They studied it very carefully, skeptically, they approved it. They have a rough idea of how it works, they have a rough idea of what the side effects are. It should be OK. You have a little more of a conversation with your physician and the physician is a little worried because you\\'ve been blue, haven\\'t felt like yourself, you haven\\'t been able to enjoy things in life quite as much as you usually do. Your physician says, \"You know, I think you have some depression. I\\'m going to have to give you another pill.\"',\n",
              " \"So now we're talking about two medications. This pill also -- millions of people have taken it, the company did studies, the FDA looked at it -- all good. Think things should go OK. Think things should go OK. Well, wait a minute. How much have we studied these two together?\",\n",
              " 'Well, it\\'s very hard to do that. In fact, it\\'s not traditionally done. We totally depend on what we call \"post-marketing surveillance,\" after the drugs hit the market. How can we figure out if bad things are happening between two medications? Three? Five? Seven? Ask your favorite person who has several diagnoses how many medications they\\'re on.',\n",
              " \"Why do I care about this problem? I care about it deeply. I'm an informatics and data science guy and really, in my opinion, the only hope -- only hope -- to understand these interactions is to leverage lots of different sources of data in order to figure out when drugs can be used together safely and when it's not so safe.\",\n",
              " 'So let me tell you a data science story. And it begins with my student Nick. Let\\'s call him \"Nick,\" because that\\'s his name.',\n",
              " '(Laughter)',\n",
              " 'Nick was a young student. I said, \"You know, Nick, we have to understand how drugs work and how they work together and how they work separately, and we don\\'t have a great understanding. But the FDA has made available an amazing database. It\\'s a database of adverse events. They literally put on the web -- publicly available, you could all download it right now -- hundreds of thousands of adverse event reports from patients, doctors, companies, pharmacists. And these reports are pretty simple: it has all the diseases that the patient has, all the drugs that they\\'re on, and all the adverse events, or side effects, that they experience. It is not all of the adverse events that are occurring in America today, but it\\'s hundreds and hundreds of thousands of drugs.',\n",
              " 'So I said to Nick, \"Let\\'s think about glucose. Glucose is very important, and we know it\\'s involved with diabetes. Let\\'s see if we can understand glucose response. I sent Nick off. Nick came back.',\n",
              " '\"Russ,\" he said, \"I\\'ve created a classifier that can look at the side effects of a drug based on looking at this database, and can tell you whether that drug is likely to change glucose or not.\"',\n",
              " 'He did it. It was very simple, in a way. He took all the drugs that were known to change glucose and a bunch of drugs that don\\'t change glucose, and said, \"What\\'s the difference in their side effects? Differences in fatigue? In appetite? In urination habits?\" All those things conspired to give him a really good predictor. He said, \"Russ, I can predict with ninety-three percent accuracy when a drug will change glucose.\"',\n",
              " 'I said, \"Nick, that\\'s great.\" He\\'s a young student, you have to build his confidence. \"But Nick, there\\'s a problem. It\\'s that every physician in the world knows all the drugs that change glucose, because it\\'s core to our practice. So it\\'s great, good job, but not really that interesting, definitely not publishable.\"',\n",
              " '(Laughter)',\n",
              " 'He said, \"I know, Russ. I thought you might say that.\" Nick is smart. \"I thought you might say that, so I did one other experiment. I looked at people in this database who were on two drugs, and I looked for signals similar, glucose-changing signals, for people taking two drugs, where each drug alone did not change glucose, but together I saw a strong signal.\"',\n",
              " 'And I said, \"Oh! You\\'re clever. Good idea. Show me the list.\" And there\\'s a bunch of drugs, not very exciting. But what caught my eye was, on the list there were two drugs: paroxetine, or Paxil, an antidepressant; and pravastatin, or Pravachol, a cholesterol medication.',\n",
              " 'And I said, \"Huh. There are millions of Americans on those two drugs.\" In fact, we learned later, fifteen million Americans on paroxetine at the time, fifteen million on pravastatin, and a million, we estimated, on both. So that\\'s a million people who might be having some problems with their glucose if this machine-learning mumbo jumbo that he did in the FDA database actually holds up. But I said, \"It\\'s still not publishable, because I love what you did with the mumbo jumbo, with the machine learning, but it\\'s not really standard-of-proof evidence that we have.\" So we have to do something else. Let\\'s go into the Stanford electronic medical record. We have a copy of it that\\'s OK for research, we removed identifying information. And I said, \"Let\\'s see if people on these two drugs have problems with their glucose.\"',\n",
              " \"Now there are thousands and thousands of people in the Stanford medical records that take paroxetine and pravastatin. But we needed special patients. We needed patients who were on one of them and had a glucose measurement, then got the second one and had another glucose measurement, all within a reasonable period of time -- something like two months. And when we did that, we found ten patients. However, eight out of the ten had a bump in their glucose when they got the second P -- we call this P and P -- when they got the second P. Either one could be first, the second one comes up, glucose went up twenty milligrams per deciliter. Just as a reminder, you walk around normally, if you're not diabetic, with a glucose of around ninety. And if it gets up to one hundred and twenty, one hundred and twenty-five, your doctor begins to think about a potential diagnosis of diabetes. So a twenty bump -- pretty significant.\",\n",
              " 'I said, \"Nick, this is very cool. But, I\\'m sorry, we still don\\'t have a paper, because this is ten patients and -- give me a break -- it\\'s not enough patients.\"',\n",
              " \"So we said, what can we do? And we said, let's call our friends at Harvard and Vanderbilt, who also -- Harvard in Boston, Vanderbilt in Nashville, who also have electronic medical records similar to ours. Let's see if they can find similar patients with the one P, the other P, the glucose measurements in that range that we need.\",\n",
              " 'God bless them, Vanderbilt in one week found forty such patients, same trend. Harvard found one hundred patients, same trend. So at the end, we had one hundred and fifty patients from three diverse medical centers that were telling us that patients getting these two drugs were having their glucose bump somewhat significantly.',\n",
              " 'More interestingly, we had left out diabetics, because diabetics already have messed up glucose. When we looked at the glucose of diabetics, it was going up sixty milligrams per deciliter, not just twenty. This was a big deal, and we said, \"We\\'ve got to publish this.\" We submitted the paper. It was all data evidence, data from the FDA, data from Stanford, data from Vanderbilt, data from Harvard. We had not done a single real experiment.',\n",
              " \"But we were nervous. So Nick, while the paper was in review, went to the lab. We found somebody who knew about lab stuff. I don't do that. I take care of patients, but I don't do pipettes. They taught us how to feed mice drugs. We took mice and we gave them one P, paroxetine. We gave some other mice pravastatin. And we gave a third group of mice both of them. And lo and behold, glucose went up twenty to sixty milligrams per deciliter in the mice.\",\n",
              " 'So the paper was accepted based on the informatics evidence alone, but we added a little note at the end, saying, oh by the way, if you give these to mice, it goes up.',\n",
              " 'That was great, and the story could have ended there. But I still have six and a half minutes.',\n",
              " '(Laughter)',\n",
              " 'So we were sitting around thinking about all of this, and I don\\'t remember who thought of it, but somebody said, \"I wonder if patients who are taking these two drugs are noticing side effects of hyperglycemia. They could and they should. How would we ever determine that?\"',\n",
              " 'We said, well, what do you do? You\\'re taking a medication, one new medication or two, and you get a funny feeling. What do you do? You go to Google and type in the two drugs you\\'re taking or the one drug you\\'re taking, and you type in \"side effects.\" What are you experiencing? So we said OK, let\\'s ask Google if they will share their search logs with us, so that we can look at the search logs and see if patients are doing these kinds of searches. Google, I am sorry to say, denied our request. So I was bummed. I was at a dinner with a colleague who works at Microsoft Research and I said, \"We wanted to do this study, Google said no, it\\'s kind of a bummer.\" He said, \"Well, we have the Bing searches.\"',\n",
              " '(Laughter)',\n",
              " \"Yeah. That's great. Now I felt like I was --\",\n",
              " '(Laughter)',\n",
              " 'I felt like I was talking to Nick again. He works for one of the largest companies in the world, and I\\'m already trying to make him feel better. But he said, \"No, Russ -- you might not understand. We not only have Bing searches, but if you use Internet Explorer to do searches at Google, Yahoo, Bing, any ... Then, for eighteen months, we keep that data for research purposes only.\" I said, \"Now you\\'re talking!\" This was Eric Horvitz, my friend at Microsoft.',\n",
              " 'So we did a study where we defined fifty words that a regular person might type in if they\\'re having hyperglycemia, like \"fatigue,\" \"loss of appetite,\" \"urinating a lot,\" \"peeing a lot\" -- forgive me, but that\\'s one of the things you might type in. So we had fifty phrases that we called the \"diabetes words.\" And we did first a baseline. And it turns out that about .five to one percent of all searches on the Internet involve one of those words. So that\\'s our baseline rate. If people type in \"paroxetine\" or \"Paxil\" -- those are synonyms -- and one of those words, the rate goes up to about two percent of diabetes-type words, if you already know that there\\'s that \"paroxetine\" word. If it\\'s \"pravastatin,\" the rate goes up to about three percent from the baseline. If both \"paroxetine\" and \"pravastatin\" are present in the query, it goes up to ten percent, a huge three- to four-fold increase in those searches with the two drugs that we were interested in, and diabetes-type words or hyperglycemia-type words.',\n",
              " 'We published this, and it got some attention. The reason it deserves attention is that patients are telling us their side effects indirectly through their searches. We brought this to the attention of the FDA. They were interested. They have set up social media surveillance programs to collaborate with Microsoft, which had a nice infrastructure for doing this, and others, to look at Twitter feeds, to look at Facebook feeds, to look at search logs, to try to see early signs that drugs, either individually or together, are causing problems.',\n",
              " \"What do I take from this? Why tell this story? Well, first of all, we have now the promise of big data and medium-sized data to help us understand drug interactions and really, fundamentally, drug actions. How do drugs work? This will create and has created a new ecosystem for understanding how drugs work and to optimize their use. Nick went on; he's a professor at Columbia now. He did this in his PhD for hundreds of pairs of drugs. He found several very important interactions, and so we replicated this and we showed that this is a way that really works for finding drug-drug interactions.\",\n",
              " \"However, there's a couple of things. We don't just use pairs of drugs at a time. As I said before, there are patients on three, five, seven, nine drugs. Have they been studied with respect to their nine-way interaction? Yes, we can do pair-wise, A and B, A and C, A and D, but what about A, B, C, D, E, F, G all together, being taken by the same patient, perhaps interacting with each other in ways that either makes them more effective or less effective or causes side effects that are unexpected? We really have no idea. It's a blue sky, open field for us to use data to try to understand the interaction of drugs.\",\n",
              " \"Two more lessons: I want you to think about the power that we were able to generate with the data from people who had volunteered their adverse reactions through their pharmacists, through themselves, through their doctors, the people who allowed the databases at Stanford, Harvard, Vanderbilt, to be used for research. People are worried about data. They're worried about their privacy and security -- they should be. We need secure systems. But we can't have a system that closes that data off, because it is too rich of a source of inspiration, innovation and discovery for new things in medicine.\",\n",
              " \"And the final thing I want to say is, in this case we found two drugs and it was a little bit of a sad story. The two drugs actually caused problems. They increased glucose. They could throw somebody into diabetes who would otherwise not be in diabetes, and so you would want to use the two drugs very carefully together, perhaps not together, make different choices when you're prescribing. But there was another possibility. We could have found two drugs or three drugs that were interacting in a beneficial way. We could have found new effects of drugs that neither of them has alone, but together, instead of causing a side effect, they could be a new and novel treatment for diseases that don't have treatments or where the treatments are not effective. If we think about drug treatment today, all the major breakthroughs -- for HIV, for tuberculosis, for depression, for diabetes -- it's always a cocktail of drugs.\",\n",
              " 'And so the upside here, and the subject for a different TED Talk on a different day, is how can we use the same data sources to find good effects of drugs in combination that will provide us new treatments, new insights into how drugs work and enable us to take care of our patients even better?',\n",
              " 'Thank you very much.',\n",
              " '(Applause)',\n",
              " \"I'm a textile artist most widely known for starting the yarn bombing movement. Yarn bombing is when you take knitted or crocheted material out into the urban environment, graffiti-style -- or, more specifically, without permission and unsanctioned.\",\n",
              " \"But when I started this over ten years ago, I didn't have a word for it, I didn't have any ambitious notions about it, I had no visions of grandeur. All I wanted to see was something warm and fuzzy and human-like on the cold, steel, gray facade that I looked at everyday.\",\n",
              " 'So I wrapped the door handle. I call this the Alpha Piece. Little did I know that this tiny piece would change the course of my life.',\n",
              " 'So clearly the reaction was interesting. It intrigued me and I thought, \"What else could I do?\" Could I do something in the public domain that would get the same reaction? So I wrapped the stop sign pole near my house. The reaction was wild. People would park their cars and get out of their cars and stare at it, and scratch their heads and stare at it, and take pictures of it and take pictures next to it, and all of that was really exciting to me and I wanted to do every stop sign pole in the neighborhood. And the more that I did, the stronger the reaction.',\n",
              " \"So at this point I'm smitten. I'm hooked. This was all seductive. I found my new passion and the urban environment was my playground.\",\n",
              " 'So this is some of my early work. I was very curious about this idea of enhancing the ordinary, the mundane, even the ugly, and not taking away its identity or its functionality but just giving it a well-tailored suit out of knitting. And this was fun for me. It was really fun to take inanimate objects and have them come to life.',\n",
              " 'So ... I think we all see the humor in this, but --',\n",
              " '(Laughter)',\n",
              " \"I was at a point where I wanted to take it seriously. I wanted to analyze it. I wanted to know why I was letting this take over my life, why I was passionate about it, why were other people reacting so strongly to it. And I realized something. We all live in this fast-paced, digital world, but we still crave and desire something that's relatable.\",\n",
              " \"I think we've all become desensitized by our overdeveloped cities that we live in, and billboards and advertisements, and giant parking lots, and we don't even complain about that stuff anymore. So when you stumble upon a stop sign pole that's wrapped in knitting and it seems so out of place and then gradually -- weirdly -- you find a connection to it, that is the moment. That is the moment I love and that is the moment I love to share with others.\",\n",
              " 'So at this point, my curiosity grew. It went from the fire hydrants and the stop sign poles to what else can I do with this material. Can I do something big and large-scale and insurmountable?',\n",
              " \"So that's when the bus happened. This was a real game changer for me. I'll always have a soft spot in my heart for this one.\",\n",
              " \"At this point, people were recognizing my work but there wasn't much out there that was wrapped in knitting that was large-scale, and this definitely was the first city bus to be wrapped in knitting.\",\n",
              " \"So at this point, I'm experiencing, or I'm witnessing something interesting. I may have started yarn bombing but I certainly don't own it anymore. It had reached global status. People from all over the world were doing this. And I know this because I would travel to certain parts of the world that I'd never been to, and I'd stumble upon a stop sign pole and I knew I didn't wrap it.\",\n",
              " \"So as I pursued my own goals with my art -- this is a lot of my recent work -- so was yarn bombing. Yarn bombing was also growing. And that experience showed me the hidden power of this craft and showed me that there was this common language I had with the rest of the world. It was through this granny hobby -- this unassuming hobby -- that I found commonality with people that I never thought I'd have a connection with.\",\n",
              " \"So as I tell my story today, I'd also like to convey to you that hidden power can be found in the most unassuming places, and we all possess skills that are just waiting to be discovered.\",\n",
              " \"If you think about our hands, these tools that are connected to us, and what they're capable of doing -- building houses and furniture, and painting giant murals -- and most of the time we hold a controller or a cell phone. And I'm totally guilty of this as well. But if you think about it, what would happen if you put those things down? What would you make? What would you create with your own hands?\",\n",
              " \"A lot of people think that I am a master knitter but I actually couldn't knit a sweater to save my life. But I did something interesting with knitting that had never been done before.\",\n",
              " 'I also wasn\\'t \"supposed to be\" an artist in the sense that I wasn\\'t formally trained to do this -- I\\'m a math major actually. So I didn\\'t think this was in the cards for me, but I also know that I didn\\'t stumble upon this. And when this happened to me, I held on tight, I fought for it and I\\'m proud to say that I am a working artist today.',\n",
              " 'So as we ponder the future, know that your future might not be so seamless. And one day, you might be as bored as I was and knit a door handle to change your world forever.',\n",
              " 'Thank you.',\n",
              " '(Applause)',\n",
              " 'As a kid, I used to dream about the ocean. It was this wild place full of color and life, home to these alien-looking, fantastical creatures. I pictured big sharks ruling the food chain and saw graceful sea turtles dancing across coral reefs.',\n",
              " \"As a marine biologist turned photographer, I've spent most of my career looking for places as magical as those I used to dream about when I was little. As you can see, I began exploring bodies of water at a fairly young age. But the first time I truly went underwater, I was about ten years old. And I can still vividly remember furiously finning to reach this old, encrusted cannon on a shallow coral reef. And when I finally managed to grab hold of it, I looked up, and I was instantly surrounded by fish in all colors of the rainbow. That was the day I fell in love with the ocean.\",\n",
              " 'Thomas Peschak',\n",
              " 'Conservation Photographer',\n",
              " \"In my forty years on this planet, I've had the great privilege to explore some of its most incredible seascapes for National Geographic Magazine and the Save Our Seas Foundation. I've photographed everything from really, really big sharks to dainty ones that fit in the palm of your hand. I've smelled the fishy, fishy breath of humpback whales feeding just feet away from me in the cold seas off Canada's Great Bear Rainforest. And I've been privy to the mating rituals of green sea turtles in the Mozambique Channel.\",\n",
              " \"Everyone on this planet affects and is affected by the ocean. And the pristine seas I used to dream of as a child are becoming harder and harder to find. They are becoming more compressed and more threatened. As we humans continue to maintain our role as the leading predator on earth, I've witnessed and photographed many of these ripple effects firsthand. For a long time, I thought I had to shock my audience out of their indifference with disturbing images. And while this approach has merits, I have come full circle. I believe that the best way for me to effect change is to sell love. I guess I'm a matchmaker of sorts and as a photographer, I have the rare opportunity to reveal animals and entire ecosystems that lie hidden beneath the ocean's surface. You can't love something and become a champion for it if you don't know it exists. Uncovering this -- that is the power of conservation photography.\",\n",
              " '(Music)',\n",
              " \"I've visited hundreds of marine locations, but there are a handful of seascapes that have touched me incredibly deeply. The first time I experienced that kind of high was about ten years ago, off South Africa's rugged, wild coast. And every June and July, enormous shoals of sardines travel northwards in a mass migration we call the Sardine Run. And boy, do those fish have good reason to run. In hot pursuit are hoards of hungry and agile predators. Common dolphins hunt together and they can separate some of the sardines from the main shoal and they create bait balls. They drive and trap the fish upward against the ocean surface and then they rush in to dine on this pulsating and movable feast. Close behind are sharks. Now, most people believe that sharks and dolphins are these mortal enemies, but during the Sardine Run, they actually coexist. In fact, dolphins actually help sharks feed more effectively. Without dolphins, the bait balls are more dispersed and sharks often end up with what I call a sardine donut, or a mouth full of water. Now, while I've had a few spicy moments with sharks on the sardine run, I know they don't see me as prey. However, I get bumped and tail-slapped just like any other guest at this rowdy, rowdy banquet.\",\n",
              " \"From the shores of Africa we travel east, across the vastness that is the Indian Ocean to the Maldives, an archipelago of coral islands. And during the stormy southwest monsoon, manta rays from all across the archipelago travel to a tiny speck in Baa Atoll called Hanifaru. Armies of crustaceans, most no bigger than the size of your pupils, are the mainstay of the manta ray's diet. When plankton concentrations become patchy, manta rays feed alone and they somersault themselves backwards again and again, very much like a puppy chasing its own tail.\",\n",
              " '(Music)',\n",
              " \"However, when plankton densities increase, the mantas line up head-to-tail to form these long feeding chains, and any tasty morsel that escapes the first or second manta in line is surely to be gobbled up by the next or the one after. As plankton levels peak in the bay, the mantas swim closer and closer together in a unique behavior we call cyclone feeding. And as they swirl in tight formation, this multi-step column of mantas creates its own vortex, sucking in and delivering the plankton right into the mantas' cavernous mouths. The experience of diving amongst such masses of hundreds of rays is truly unforgettable.\",\n",
              " '(Music)',\n",
              " 'When I first photographed Hanifaru, the site enjoyed no protection and was threatened by development. And working with NGOs like the Manta Trust, my images eventually helped Hanifaru become a marine-protected area. Now, fisherman from neighboring islands, they once hunted these manta rays to make traditional drums from their skins. Today, they are the most ardent conservation champions and manta rays earn the Maldivian economy in excess of eight million dollars every single year.',\n",
              " 'I have always wanted to travel back in time to an era where maps were mostly blank or they read, \"There be dragons.\" And today, the closest I\\'ve come is visiting remote atolls in the western Indian Ocean. Far, far away from shipping lanes and fishing fleets, diving into these waters is a poignant reminder of what our oceans once looked like.',\n",
              " \"Very few people have heard of Bassas da India, a tiny speck of coral in the Mozambique Channel. Its reef forms a protective outer barrier and the inner lagoon is a nursery ground for Galapagos sharks. These sharks are anything but shy, even during the day. I had a bit of a hunch that they'd be even bolder and more abundant at night.\",\n",
              " '(Music)',\n",
              " 'Never before have I encountered so many sharks on a single coral outcrop. Capturing and sharing moments like this -- that reminds me why I chose my path.',\n",
              " 'Earlier this year, I was on assignment for National Geographic Magazine in Baja California. And about halfway down the peninsula on the Pacific side lies San Ignacio Lagoon, a critical calving ground for gray whales. For one hundred years, this coast was the scene of a wholesale slaughter, where more than twenty,zero gray whales were killed, leaving only a few hundred survivors. Today the descendents of these same whales nudge their youngsters to the surface to play and even interact with us.',\n",
              " '(Music)',\n",
              " 'This species truly has made a remarkable comeback.',\n",
              " 'Now, on the other side of the peninsula lies Cabo Pulmo, a sleepy fishing village. Decades of overfishing had brought them close to collapse. In one thousand, nine hundred and ninety-five, local fisherman convinced the authorities to proclaim their waters a marine reserve. But what happened next was nothing short of miraculous. In two thousand and five, after only a single decade of protection, scientists measured the largest recovery of fish ever recorded.',\n",
              " \"But don't take my word for it -- come with me. On a single breath, swim with me in deep, into one of the largest and densest schools of fish I have ever encountered.\",\n",
              " '(Music)',\n",
              " \"We all have the ability to be creators of hope. And through my photography, I want to pass on the message that it is not too late for our oceans. And particularly, I want to focus on nature's resilience in the face of seven.three billion people.\",\n",
              " 'My hope is that in the future, I will have to search much, much harder to make photographs like this, while creating images that showcase our respectful coexistence with the ocean. Those will hopefully become an everyday occurrence for me.',\n",
              " 'To thrive and survive in my profession, you really have to be a hopeless optimist. And I always operate on the assumption that the next great picture that will effect change is right around the corner, behind the next coral head, inside the next lagoon or possibly, in the one after it.',\n",
              " '(Music)',\n",
              " 'There are a few things that all of us need. We all need air to breathe. We need clean water to drink. We need food to eat. We need shelter and love. You know. Love is great, too. And we all need a safe place to pee.',\n",
              " '(Laughter) Yeah?',\n",
              " \"As a trans person who doesn't fit neatly into the gender binary, if I could change the world tomorrow to make it easier for me to navigate, the very first thing I would do is blink and create single stall, gender-neutral bathrooms in all public places.\",\n",
              " \"(Applause) Trans people and trans issues, they've been getting a lot of mainstream media attention lately. And this is a great and necessary thing, but most of that attention has been focused on a very few individuals, most of whom are kinda rich and pretty famous, and probably don't have to worry that much anymore about where they're going to pee in between classes at their community college, or where they're going to get changed into their gym strip at their public high school. Fame and money insulates these television star trans people from most of the everyday challenges that the rest of us have to tackle on a daily basis.\",\n",
              " \"Public bathrooms. They've been a problem for me since as far back as I can remember, first when I was just a little baby tomboy and then later as a masculine-appearing, predominantly estrogen-based organism.\",\n",
              " '(Laughter)',\n",
              " \"Now, today as a trans person, public bathrooms and change rooms are where I am most likely to be questioned or harassed. I've often been verbally attacked behind their doors. I've been hauled out by security guards with my pants still halfway pulled up. I've been stared at, screamed at, whispered about, and one time I got smacked in the face by a little old lady's purse that from the looks of the shiner I took home that day I am pretty certain contained at least seventy dollars of rolled up small change and a large hard candy collection.\",\n",
              " '(Laughter)',\n",
              " ...]"
            ]
          },
          "execution_count": 13,
          "metadata": {},
          "output_type": "execute_result"
        }
      ],
      "source": [
        "test = input_text_clean.split('\\n')\n",
        "test"
      ]
    },
    {
      "cell_type": "markdown",
      "metadata": {
        "id": "BJEtm8eOaBt9"
      },
      "source": [
        "<h4>Exercise 1.4 (4 Points)</h4>\n",
        "What does this block of code do? Identify one possible flaw. You dont have to code anything here!\n"
      ]
    },
    {
      "cell_type": "code",
      "execution_count": 14,
      "metadata": {
        "id": "oFUCfLOkco_K",
        "outputId": "5da7730c-fb61-405d-9c23-3ca16f374b71"
      },
      "outputs": [
        {
          "name": "stdout",
          "output_type": "stream",
          "text": [
            "before:\n",
            "k them. But let's see what the baby does.\n",
            "(Video) Hyowon Gweon: See this? (Ball squeaks) Did you see that? (Ball squeaks) Cool. See this one? \n",
            "after:\n",
            " or whack them. But let's see what the baby does. See this? (Ball squeaks) Did you see that? (Ball squeak\n"
          ]
        }
      ],
      "source": [
        "i = input_text_clean.find(\"Hyowon Gweon: See this?\")\n",
        "print(\"before:\")\n",
        "print(input_text_clean[i-50:i+92])\n",
        "\n",
        "X = []\n",
        "for line in input_text_clean.split('\\n'): #take each line of input_text_clean, because we split it at each linebreak\n",
        "    m = re.match(r'^(?:(?P<precolon>[^:]{,20}):)?(?P<postcolon>.*)$', line)\n",
        "    X.extend(m.groupdict()['postcolon'])\n",
        "input_text_clean2=\"\".join(X)\n",
        "\n",
        "\n",
        "i = input_text_clean2.find(\"See this?\")\n",
        "print(\"after:\")\n",
        "print(input_text_clean2[i-50:i+55])"
      ]
    },
    {
      "cell_type": "raw",
      "metadata": {
        "id": "ix75Rnrrco_M"
      },
      "source": [
        "Your Answer goes here!"
      ]
    },
    {
      "cell_type": "markdown",
      "metadata": {
        "id": "sX5lFA4XijPm"
      },
      "source": [
        "<h4>Exercise 1.5 (6 Points)</h4>\n",
        "\n",
        "To build our embedding we need to tokenize every single word. Therefore we first need to split the text into sentences and after that into words. \n",
        "Try it yourself or use the NLTK-Tools build for this (https://www.kite.com/python/docs/nltk.word_tokenize + https://www.kite.com/python/docs/nltk.sent_tokenize).\n",
        "To make it easier to build our Embedding we should also delete every character that is not a letter. Additionally, we could lower vocabulary count. A way to do this is by converting capital characters to lower case characters.\n",
        "\n",
        "Split your text into sentences and save them in the array `sentences_strings_ted`.\n",
        "Save one variabale `tokens` with all the tokens in the text and one array named `sentences_ted` that contains an array for every sentence, with all the tokenized words of that sentence.<br><br>\n",
        "Example:<br>\n",
        "If the Text looks like this: \"I love cake. You have to be honest, you love it too!\", the variables look like:<br><br>\n",
        "sentences_strings_ted=['I love cake.', 'You have to be honest, you love it too!']<br>\n",
        "sentences_ted=[['i', 'love', 'cake'], ['you', 'have', 'to', 'be', 'honest', 'you', 'love', 'it', 'too']]<br>\n",
        "tokens=['i', 'love', 'cake', 'you', 'have', 'to', 'be', 'honest', 'you', 'love', 'it', 'too']<br>\n",
        "\n",
        "\n",
        "Apply this to `input_text_clean`"
      ]
    },
    {
      "cell_type": "code",
      "execution_count": 20,
      "metadata": {},
      "outputs": [],
      "source": [
        "input_text_clean = re.sub(r\"\\W\", \" \", input_text_clean ) # delete every non-letter"
      ]
    },
    {
      "cell_type": "code",
      "execution_count": 21,
      "metadata": {},
      "outputs": [],
      "source": [
        "input_text_clean = input_text_clean.lower()"
      ]
    },
    {
      "cell_type": "code",
      "execution_count": 22,
      "metadata": {},
      "outputs": [
        {
          "data": {
            "text/plain": [
              "'here '"
            ]
          },
          "execution_count": 22,
          "metadata": {},
          "output_type": "execute_result"
        }
      ],
      "source": [
        "input_text_clean[:5]"
      ]
    },
    {
      "cell_type": "code",
      "execution_count": 23,
      "metadata": {},
      "outputs": [
        {
          "ename": "AttributeError",
          "evalue": "module 'nltk' has no attribute 'tokenize'",
          "output_type": "error",
          "traceback": [
            "\u001b[0;31m---------------------------------------------------------------------------\u001b[0m",
            "\u001b[0;31mAttributeError\u001b[0m                            Traceback (most recent call last)",
            "Cell \u001b[0;32mIn [23], line 1\u001b[0m\n\u001b[0;32m----> 1\u001b[0m sentences_strings_ted \u001b[39m=\u001b[39m nltk\u001b[39m.\u001b[39;49mtokenize\u001b[39m.\u001b[39msent_tokenize(input_text_clean)\n\u001b[1;32m      2\u001b[0m \u001b[39mprint\u001b[39m(sentences_strings_ted[:\u001b[39m2\u001b[39m])\n",
            "\u001b[0;31mAttributeError\u001b[0m: module 'nltk' has no attribute 'tokenize'"
          ]
        }
      ],
      "source": [
        "sentences_strings_ted = nltk.tokenize.sent_tokenize(input_text_clean)\n",
        "print(sentences_strings_ted[:2])\n",
        "\n"
      ]
    },
    {
      "cell_type": "code",
      "execution_count": 24,
      "metadata": {},
      "outputs": [
        {
          "ename": "NameError",
          "evalue": "name 'sentences_strings_ted' is not defined",
          "output_type": "error",
          "traceback": [
            "\u001b[0;31m---------------------------------------------------------------------------\u001b[0m",
            "\u001b[0;31mNameError\u001b[0m                                 Traceback (most recent call last)",
            "Cell \u001b[0;32mIn [24], line 2\u001b[0m\n\u001b[1;32m      1\u001b[0m file\u001b[39m=\u001b[39m\u001b[39mopen\u001b[39m(\u001b[39m'\u001b[39m\u001b[39msentences_strings_ted.txt\u001b[39m\u001b[39m'\u001b[39m,\u001b[39m'\u001b[39m\u001b[39mw\u001b[39m\u001b[39m'\u001b[39m)\n\u001b[0;32m----> 2\u001b[0m \u001b[39mfor\u001b[39;00m items \u001b[39min\u001b[39;00m sentences_strings_ted:\n\u001b[1;32m      3\u001b[0m     file\u001b[39m.\u001b[39mwritelines(items \u001b[39m+\u001b[39m \u001b[39m'\u001b[39m\u001b[39m\\n\u001b[39;00m\u001b[39m'\u001b[39m)\n\u001b[1;32m      5\u001b[0m file\u001b[39m.\u001b[39mclose()\n",
            "\u001b[0;31mNameError\u001b[0m: name 'sentences_strings_ted' is not defined"
          ]
        }
      ],
      "source": [
        "file=open('sentences_strings_ted.txt','w')\n",
        "for items in sentences_strings_ted:\n",
        "    file.writelines(items + '\\n')\n",
        "\n",
        "file.close()"
      ]
    },
    {
      "cell_type": "code",
      "execution_count": 25,
      "metadata": {},
      "outputs": [
        {
          "ename": "NameError",
          "evalue": "name 'sentences_strings_ted' is not defined",
          "output_type": "error",
          "traceback": [
            "\u001b[0;31m---------------------------------------------------------------------------\u001b[0m",
            "\u001b[0;31mNameError\u001b[0m                                 Traceback (most recent call last)",
            "Cell \u001b[0;32mIn [25], line 1\u001b[0m\n\u001b[0;32m----> 1\u001b[0m sentences_ted \u001b[39m=\u001b[39m [nltk\u001b[39m.\u001b[39mword_tokenize(sentence) \u001b[39mfor\u001b[39;00m sentence \u001b[39min\u001b[39;00m sentences_strings_ted]\n",
            "\u001b[0;31mNameError\u001b[0m: name 'sentences_strings_ted' is not defined"
          ]
        }
      ],
      "source": [
        "sentences_ted = [nltk.word_tokenize(sentence) for sentence in sentences_strings_ted]"
      ]
    },
    {
      "cell_type": "code",
      "execution_count": null,
      "metadata": {},
      "outputs": [],
      "source": [
        "from pandas.core.common import flatten\n",
        "tokens = list(flatten(sentences))"
      ]
    },
    {
      "cell_type": "markdown",
      "metadata": {
        "id": "sUiFC0I5j31i"
      },
      "source": [
        "<h4>Exercise 1.6 (1 Point)</h4>\n",
        "The good side is, that by converting all capital letters is, we reduce the volume of the vocabulary. Thereby we dont differentiate between the the words \"today\" and \"Today\". \n",
        "Can you think of any downside to this process?"
      ]
    },
    {
      "cell_type": "markdown",
      "metadata": {
        "id": "-Yt08f-sco_O"
      },
      "source": [
        "YOUR ANSWER GOES HERE"
      ]
    },
    {
      "cell_type": "markdown",
      "metadata": {
        "id": "g8Fs3pzZmHHv"
      },
      "source": [
        "Now we can have a look at the processed dataset:"
      ]
    },
    {
      "cell_type": "code",
      "execution_count": null,
      "metadata": {
        "colab": {
          "base_uri": "https://localhost:8080/"
        },
        "id": "ooe1gfSZaBuG",
        "outputId": "9726e08b-f631-4e80-f4ef-55432eff8f19"
      },
      "outputs": [
        {
          "data": {
            "text/plain": [
              "273428"
            ]
          },
          "execution_count": 13,
          "metadata": {},
          "output_type": "execute_result"
        }
      ],
      "source": [
        "len(sentences_ted)"
      ]
    },
    {
      "cell_type": "code",
      "execution_count": null,
      "metadata": {
        "id": "Jwdw8QxbaBuJ",
        "outputId": "8f971b5c-f0c4-4664-8da8-5ca5b61bf1c6"
      },
      "outputs": [
        {
          "name": "stdout",
          "output_type": "stream",
          "text": [
            "['here', 'are', 'two', 'reasons', 'companies', 'fail', 'they', 'only', 'do', 'more', 'of', 'the', 'same', 'or', 'they', 'only', 'do', 'what', 's', 'new']\n",
            "['ciao', 'bellos']\n"
          ]
        }
      ],
      "source": [
        "print(sentences_ted[0])\n",
        "print(sentences_ted[-1])"
      ]
    },
    {
      "cell_type": "markdown",
      "metadata": {
        "id": "SCjkAGHjaBuN"
      },
      "source": [
        "### Part 2: Word Frequencies"
      ]
    },
    {
      "cell_type": "markdown",
      "metadata": {
        "id": "hvLMH0iXaBuO"
      },
      "source": [
        "<h4>Exercise 2.1 (4 Points)</h4>\n",
        "Your next task will be to store the counts of the top 1000 most frequent words in a list called `counts_ted_top1000` ! There are multiple ways to do this. You can have a look at the Counter-Function(https://docs.python.org/2/library/collections.html) or the FreqDist-Function (https://www.kite.com/python/docs/nltk.FreqDist). If you dont trust any of those you can of course build your own function.\n",
        "In the end we want an array with tupels of the structure [(WordA,FrequencyA),(WordB,FrequencyB)]."
      ]
    },
    {
      "cell_type": "code",
      "execution_count": null,
      "metadata": {
        "id": "LcQzY8iWaBuP"
      },
      "outputs": [],
      "source": [
        "#Your Code here"
      ]
    },
    {
      "cell_type": "markdown",
      "metadata": {
        "id": "hti5NFdGaBuX"
      },
      "source": [
        "The following code is going to plot a histogramm of the distribution of the  top-30 words."
      ]
    },
    {
      "cell_type": "code",
      "execution_count": null,
      "metadata": {
        "id": "kjdE_DKLco_S",
        "outputId": "20c41b52-255b-4ec6-91d9-9ad4a3242956"
      },
      "outputs": [
        {
          "data": {
            "image/png": "[encoded data removed]",
            "text/plain": [
              "<Figure size 432x288 with 1 Axes>"
            ]
          },
          "metadata": {
            "needs_background": "light"
          },
          "output_type": "display_data"
        }
      ],
      "source": [
        "import matplotlib.pyplot as plt\n",
        "mostfreqn=30 #Here we define how many of them we want to see in the diagramm \n",
        "frequency=[y for (x,y) in counts_ted_top1000tupels][:mostfreqn]\n",
        "word=[x for (x,y) in counts_ted_top1000tupels][:mostfreqn]\n",
        "indices = np.arange(len(counts_ted_top1000tupels[:mostfreqn]))\n",
        "plt.bar(indices, frequency, color='r')\n",
        "plt.xticks(indices, word, rotation='vertical')\n",
        "plt.tight_layout()\n",
        "plt.show()"
      ]
    },
    {
      "cell_type": "markdown",
      "metadata": {
        "id": "1vnAj55Aco_U"
      },
      "source": [
        "You can clearly see, that many of the most common words are so called stop words. Stop Words are words, that are tipically not usefull to identify what a text is about."
      ]
    },
    {
      "cell_type": "markdown",
      "metadata": {
        "id": "2oRdD3e4aBud"
      },
      "source": [
        "### Part 3: Train Word2Vec"
      ]
    },
    {
      "cell_type": "markdown",
      "metadata": {
        "id": "kp0JGmKWhrNd"
      },
      "source": [
        "Now it is time to train the modell. Gensim has an already implemented model that you can use."
      ]
    },
    {
      "cell_type": "markdown",
      "metadata": {
        "id": "JTA9yWtdhb6z"
      },
      "source": [
        "Using the provided modell is enough for the purposes of our notebook. If you want to dive deeper into the topic this youtube video https://www.youtube.com/watch?v=kKDYtZfriI8 could be a great guidance for you to get started. \n"
      ]
    },
    {
      "cell_type": "code",
      "execution_count": null,
      "metadata": {
        "id": "A_t4-aiTaBue"
      },
      "outputs": [],
      "source": [
        "#This takes a moment...dont worry :D\n",
        "from gensim.models import Word2Vec\n",
        "model_ted = Word2Vec(sentences_ted)"
      ]
    },
    {
      "cell_type": "markdown",
      "metadata": {
        "id": "KKYd7ZemaBuj"
      },
      "source": [
        "### Part 4: Ted Learnt Representations (3 Points)\n"
      ]
    },
    {
      "cell_type": "markdown",
      "metadata": {
        "id": "P7VvU82AaBuj"
      },
      "source": [
        "Finding similar words: (see gensim docs for functions, that might help you https://radimrehurek.com/gensim/models/keyedvectors.html)"
      ]
    },
    {
      "cell_type": "markdown",
      "metadata": {
        "id": "NW2Gbn4Qco_a"
      },
      "source": [
        "Now lets explore what we can do with this! How does \"house\" look in our embedding?"
      ]
    },
    {
      "cell_type": "code",
      "execution_count": null,
      "metadata": {
        "id": "PKtCfFD4co_b"
      },
      "outputs": [],
      "source": [
        "#YOUR CODE"
      ]
    },
    {
      "cell_type": "markdown",
      "metadata": {
        "id": "vTZrG4pXco_b"
      },
      "source": [
        "What is the most similar word for \"town\"?"
      ]
    },
    {
      "cell_type": "code",
      "execution_count": null,
      "metadata": {
        "id": "Y7Rr8Hktco_d"
      },
      "outputs": [],
      "source": [
        "#YOUR CODE"
      ]
    },
    {
      "cell_type": "markdown",
      "metadata": {
        "id": "mv5QMF4gco_f"
      },
      "source": [
        "How similar are the words \"town\" and \"house\"?"
      ]
    },
    {
      "cell_type": "code",
      "execution_count": null,
      "metadata": {
        "id": "d3DwXOLeco_g"
      },
      "outputs": [],
      "source": [
        "#YOUR CODE"
      ]
    },
    {
      "cell_type": "markdown",
      "metadata": {
        "id": "p7I5G-KpqbfH"
      },
      "source": [
        "<h4>Exercise 4.1 (3 Points)</h4>\n",
        "Now that we have trained our own embedding, lets test some classical ideas: \n",
        "implement the following formula. Print out the 10 words, that are most similar to this formula: <br>\n",
        "$King-Man+Woman=???$\n",
        "There are two ways of computing similarity in word Embeddings:\n",
        " - https://tedboy.github.io/nlps/generated/generated/gensim.models.Word2Vec.most_similar.html\n",
        " - https://tedboy.github.io/nlps/generated/generated/gensim.models.Word2Vec.most_similar_cosmul.html\n",
        "You should try out both! In this case one of them is better, but both of them are valid methods for computing similarity in the word-space.\n"
      ]
    },
    {
      "cell_type": "code",
      "execution_count": null,
      "metadata": {
        "id": "S0y_5MLlqiMx"
      },
      "outputs": [],
      "source": [
        "#Your Implementation goes here!"
      ]
    },
    {
      "cell_type": "markdown",
      "metadata": {
        "id": "HMlPdqqZco_i"
      },
      "source": [
        "<h4>Exercise 4.2 (2 Points)</h4>\n",
        "The expected outcome (Queen) should be one of the top ten most similar words. But there are also a lot of words, that you would not expect. Think about where how these words might be connected to the formula. Take your time and understand why some of the words (luther, mary, dr, president) might be in this list."
      ]
    },
    {
      "cell_type": "markdown",
      "metadata": {
        "id": "snfyuAn3iraJ"
      },
      "source": [
        "YOUR ANSWER GOES HERE"
      ]
    },
    {
      "cell_type": "markdown",
      "metadata": {
        "id": "TMtpPOVtaBup"
      },
      "source": [
        "#### t-SNE visualization\n",
        "\n",
        "We will use the t-SNE algorithm, given belwo, for visualization. The so-called t-Distributed Stochastic Neighbor Embedding (t-SNE) is an unsupervised and non-linear machine learning technique. It is commonly used for visualizing high dimensional data (just like our high dimensional vectors). You do not have to understand the code, it's purpose is simply to give you an idea of how the data is arranged in high dimensional space."
      ]
    },
    {
      "cell_type": "markdown",
      "metadata": {
        "id": "Ej8Ud778co_k"
      },
      "source": [
        "<h4>Exercise 4.3 (2 Points)</h4>\n",
        "To use the t-SNE code below, first put a list of the top 100 words (as strings) into a variable `words_top_ted`. "
      ]
    },
    {
      "cell_type": "code",
      "execution_count": null,
      "metadata": {
        "id": "Xvlyyjf6co_m"
      },
      "outputs": [],
      "source": [
        "#Your implementation goes here!"
      ]
    },
    {
      "cell_type": "markdown",
      "metadata": {
        "id": "6g8JIRw4co_n"
      },
      "source": [
        "The following code gets the corresponding vectors from the model, assuming it's called `model_ted`:"
      ]
    },
    {
      "cell_type": "code",
      "execution_count": null,
      "metadata": {
        "id": "0-lLF1lZaBus",
        "outputId": "120e8597-a636-440e-ca76-b591eb4c2ab2"
      },
      "outputs": [
        {
          "name": "stderr",
          "output_type": "stream",
          "text": [
            "G:\\Programme\\Anaconda\\lib\\site-packages\\ipykernel_launcher.py:2: DeprecationWarning: Call to deprecated `__getitem__` (Method will be removed in 4.0.0, use self.wv.__getitem__() instead).\n",
            "  \n"
          ]
        }
      ],
      "source": [
        "# This assumes words_top_ted is a list of strings, the top 250 words\n",
        "words_top_vec_ted = model_ted[words_top_ted]"
      ]
    },
    {
      "cell_type": "markdown",
      "metadata": {
        "id": "-SgjCkvCco_p"
      },
      "source": [
        "The next few lines are for the t-SNE visualization."
      ]
    },
    {
      "cell_type": "code",
      "execution_count": null,
      "metadata": {
        "id": "HeJF5ut9aBux"
      },
      "outputs": [],
      "source": [
        "from sklearn.manifold import TSNE \n",
        "tsne = TSNE(n_components=2, random_state=0)\n",
        "words_top_ted_tsne = tsne.fit_transform(words_top_vec_ted)"
      ]
    },
    {
      "cell_type": "code",
      "execution_count": null,
      "metadata": {
        "id": "J2VgYLIZaBu2",
        "outputId": "0b9bbab8-6544-437b-a729-1cc4ebdc3d1d"
      },
      "outputs": [
        {
          "data": {
            "text/html": [
              "\n",
              "\n",
              "\n",
              "\n",
              "\n",
              "\n",
              "  <div class=\"bk-root\" id=\"3c1f8877-804f-47ff-84c9-445a199541bf\" data-root-id=\"1084\"></div>\n"
            ]
          },
          "metadata": {},
          "output_type": "display_data"
        },
        {
          "data": {
            "application/javascript": "(function(root) {\n  function embed_document(root) {\n    \n  var docs_json = {\"61c4f924-ad0a-4192-9b4c-df6640b2f397\":{\"roots\":{\"references\":[{\"attributes\":{\"below\":[{\"id\":\"1095\"}],\"center\":[{\"id\":\"1098\"},{\"id\":\"1102\"},{\"id\":\"1118\"}],\"left\":[{\"id\":\"1099\"}],\"renderers\":[{\"id\":\"1116\"}],\"title\":{\"id\":\"1085\"},\"toolbar\":{\"id\":\"1107\"},\"toolbar_location\":\"above\",\"x_range\":{\"id\":\"1087\"},\"x_scale\":{\"id\":\"1091\"},\"y_range\":{\"id\":\"1089\"},\"y_scale\":{\"id\":\"1093\"}},\"id\":\"1084\",\"subtype\":\"Figure\",\"type\":\"Plot\"},{\"attributes\":{},\"id\":\"1103\",\"type\":\"PanTool\"},{\"attributes\":{\"fill_color\":{\"value\":\"#1f77b4\"},\"line_color\":{\"value\":\"#1f77b4\"},\"size\":{\"units\":\"screen\",\"value\":8},\"x\":{\"field\":\"x1\"},\"y\":{\"field\":\"x2\"}},\"id\":\"1114\",\"type\":\"Scatter\"},{\"attributes\":{},\"id\":\"1132\",\"type\":\"UnionRenderers\"},{\"attributes\":{\"text\":\"word2vec T-SNE for most common words\"},\"id\":\"1085\",\"type\":\"Title\"},{\"attributes\":{},\"id\":\"1104\",\"type\":\"WheelZoomTool\"},{\"attributes\":{},\"id\":\"1105\",\"type\":\"ResetTool\"},{\"attributes\":{},\"id\":\"1089\",\"type\":\"DataRange1d\"},{\"attributes\":{},\"id\":\"1106\",\"type\":\"SaveTool\"},{\"attributes\":{\"fill_alpha\":{\"value\":0.1},\"fill_color\":{\"value\":\"#1f77b4\"},\"line_alpha\":{\"value\":0.1},\"line_color\":{\"value\":\"#1f77b4\"},\"size\":{\"units\":\"screen\",\"value\":8},\"x\":{\"field\":\"x1\"},\"y\":{\"field\":\"x2\"}},\"id\":\"1115\",\"type\":\"Scatter\"},{\"attributes\":{\"formatter\":{\"id\":\"1130\"},\"ticker\":{\"id\":\"1096\"}},\"id\":\"1095\",\"type\":\"LinearAxis\"},{\"attributes\":{},\"id\":\"1091\",\"type\":\"LinearScale\"},{\"attributes\":{},\"id\":\"1087\",\"type\":\"DataRange1d\"},{\"attributes\":{},\"id\":\"1093\",\"type\":\"LinearScale\"},{\"attributes\":{},\"id\":\"1096\",\"type\":\"BasicTicker\"},{\"attributes\":{\"source\":{\"id\":\"1112\"}},\"id\":\"1117\",\"type\":\"CDSView\"},{\"attributes\":{\"axis\":{\"id\":\"1095\"},\"ticker\":null},\"id\":\"1098\",\"type\":\"Grid\"},{\"attributes\":{\"formatter\":{\"id\":\"1128\"},\"ticker\":{\"id\":\"1100\"}},\"id\":\"1099\",\"type\":\"LinearAxis\"},{\"attributes\":{\"source\":{\"id\":\"1112\"},\"text\":{\"field\":\"names\"},\"text_align\":\"center\",\"text_color\":{\"value\":\"#555555\"},\"text_font_size\":{\"value\":\"8pt\"},\"x\":{\"field\":\"x1\"},\"y\":{\"field\":\"x2\"},\"y_offset\":{\"value\":6}},\"id\":\"1118\",\"type\":\"LabelSet\"},{\"attributes\":{},\"id\":\"1130\",\"type\":\"BasicTickFormatter\"},{\"attributes\":{\"active_drag\":\"auto\",\"active_inspect\":\"auto\",\"active_multi\":null,\"active_scroll\":\"auto\",\"active_tap\":\"auto\",\"tools\":[{\"id\":\"1103\"},{\"id\":\"1104\"},{\"id\":\"1105\"},{\"id\":\"1106\"}]},\"id\":\"1107\",\"type\":\"Toolbar\"},{\"attributes\":{},\"id\":\"1100\",\"type\":\"BasicTicker\"},{\"attributes\":{\"data\":{\"names\":[\"the\",\"and\",\"to\",\"of\",\"a\",\"that\",\"i\",\"in\",\"it\",\"you\",\"we\",\"is\",\"s\",\"this\",\"so\",\"they\",\"was\",\"for\",\"are\",\"have\",\"but\",\"what\",\"on\",\"with\",\"can\",\"one\",\"t\",\"about\",\"there\",\"be\",\"as\",\"not\",\"at\",\"all\",\"do\",\"my\",\"re\",\"people\",\"like\",\"if\",\"from\",\"now\",\"our\",\"he\",\"an\",\"just\",\"these\",\"or\",\"when\",\"because\",\"very\",\"me\",\"out\",\"by\",\"them\",\"how\",\"know\",\"up\",\"going\",\"had\",\"more\",\"think\",\"who\",\"were\",\"see\",\"two\",\"your\",\"their\",\"which\",\"would\",\"here\",\"really\",\"get\",\"ve\",\"then\",\"m\",\"world\",\"us\",\"time\",\"some\",\"has\",\"don\",\"actually\",\"into\",\"hundred\",\"way\",\"where\",\"will\",\"years\",\"things\",\"other\",\"no\",\"could\",\"go\",\"well\",\"want\",\"been\",\"make\",\"right\",\"she\",\"said\",\"something\",\"those\",\"first\",\"than\",\"much\",\"also\",\"look\",\"new\",\"thing\",\"got\",\"little\",\"three\",\"back\",\"over\",\"most\",\"say\",\"even\",\"his\",\"life\",\"only\",\"work\",\"many\",\"take\",\"need\",\"thousand\",\"five\",\"did\",\"lot\",\"kind\",\"why\",\"good\",\"around\",\"every\",\"different\",\"down\",\"ll\",\"let\",\"her\",\"through\",\"same\",\"being\",\"come\",\"d\",\"day\",\"year\",\"use\",\"nine\",\"doing\",\"four\",\"put\",\"twenty\",\"called\",\"any\",\"percent\",\"today\",\"made\",\"after\",\"zero\",\"thank\",\"tell\",\"great\",\"human\",\"find\",\"fact\",\"didn\",\"talk\",\"change\",\"another\",\"started\",\"idea\",\"big\",\"last\",\"own\",\"before\",\"its\",\"should\",\"never\",\"better\",\"give\",\"thought\",\"went\",\"might\",\"important\",\"again\",\"together\",\"able\",\"still\",\"problem\",\"off\",\"next\",\"part\",\"course\",\"system\",\"him\",\"does\",\"ten\",\"each\",\"start\",\"show\",\"story\",\"long\",\"ago\",\"came\",\"brain\",\"six\",\"few\",\"bit\",\"between\",\"used\",\"place\",\"technology\",\"women\",\"too\",\"old\",\"data\",\"mean\",\"water\",\"looking\",\"question\",\"maybe\",\"found\",\"love\",\"fifty\",\"doesn\",\"example\",\"end\",\"done\",\"point\",\"real\",\"wanted\",\"eight\",\"ever\",\"school\",\"understand\",\"thirty\",\"sort\",\"live\",\"call\",\"children\",\"whole\",\"always\",\"seven\",\"trying\",\"may\",\"person\",\"away\",\"believe\",\"feel\",\"try\"],\"x1\":{\"__ndarray__\":\"M8tsQDq6LEAWWA/BlDC5QAtNvkAjMJs/s8oRwcxVsECcW/u/wOUOwSwQDcGx1ylBzVcqQT6QokApsXo+mLILwZibOcHXsglBzA5vwELX2cAVuMc+tvjHv/RAHkEGSF9AXHF/QShrGEBJx/g+Q7UgwNt4mb918ixAC/sqQNazOsAkRqFA2iIVQK1I18A5s3pBr/xfwCA4qcBKL+K/g35EQIPoMMHfXJO/h5VkQRRCa0EixK1A5bKUPIq0KkE1e5u/8LN2QJVmuz7KGZE/0HnqwBq2LEEJzQZBzexCQeXf2r5U+KfAYSwFQeB4/MCoXzxBANeQQNNHjMDA2E7ATZR1wBg32MA+aIdAqNOAQd7zbkGDDb0/og5/wWTfmb8hwiW/vBcTwcsq4MA+N2dAfOAXwFtMA8Gy+tHAkVScQNpK+z8TTTtBXftnQWlXGz6KlihBYszSQI1eYMAXng1Apy5WwZYUqr8sMEvADdmFv+vmpkD6mX/B7zUkwetmV7/9+bq9jSyGPyb+BsE9Ua0/a4NtQUF/JsAaNCDAbHcqQS+X+UCSCvC9gNVxvyz4KD8tyVvBOKN8wGk4hcByo5HAPrQyvpZgWECe2xpBrJ8RQfOMAMBr50TAVJfEPQOCdkFOXQHBmVKOP1fUq8CEL7I/KIwTwdM/wr6mzPNAS12FQJfGUEHks44/uWPSP1XpI79IwihAMQMVQbhDn0DNCIu/v7sYQVWaT8GcpDHBbtFwQZFmHEGI3ItA2kwlQAXgKMHt9G3BY0Kdv1P1or8P5+rAu+6zQILuDb/rf2lAIsoPwe3RjUDgZAJBPAdvQPp3xkALB8i/2xZkwJrD/kBtmb9AatxawHtJuMDlFmNAwQVHQakZ8sAWi/m/QmJmQTB5pcDS8tPANQG0QICqHsFN5qvA1qByQF05B0GlYQ1Ai2HkQLJbYUGFCmXBKB3OQNiJj0BW4QXBlEJlwE7kP8EqnmPBsv0uwJ9wWEDM1uxARwEGQJgwGD6c+qLATGYYQdeaBkFuTM4/sRDTP+MFjcBh/1JB32tGQepqZ0CFop1AaeASwVcmz8D6e8nAQrDPQF2cEEHjN0DB18iKwMcfiEBa7xxA3F4gPBy7sEDGMjK7EPutwCiYgcCcppXAgLKSP3iMFkHEhH7AkpRbwMunw8CikFzBgpaywLSKPj0gBV7AlJdGwOEpm0A+715BzOQiwHfe3MB0u469D+vGwPIyZEAp9RE/EiGhQPLlzkBMqiRBU5LEwFNljUBpb9g/wsjawMX/AkHHppbAiGCVQEgtaz8oQ5pAY3i8P8/fYsHlPZXA2oUPQWFtgMDTNJfAc6YuPg==\",\"dtype\":\"float32\",\"order\":\"little\",\"shape\":[250]},\"x2\":{\"__ndarray__\":\"D6OcwBDhK76Oa0nAKIlbwIvtu8DuzGE/yOr3wPQ+W79BJ9o/bkUNwSB5FsEODuTAAyfjwAS1qsDbUA1AEJwawahIpECkTiy9VrGKQZbLbEHI+8w/yXJfQC5VGUGaEVu/vaP7wNHmecF/oK1A6PYxwMFtK8ClxvdAMbKHQMwWgsAfUsU+vKTvv1EfAEHbGY4/2aGFQd6tHcFVY8RAQhspQMl03D/2lje/kDv0v55bX0BZQuPAPcwBPhHmXsGmRoXAkD/qPxqJsj/dC3FAV/2vwPRZ+0D+XBdABjsVQCRtgUBPswBBLKgIQc/gikC4MIXAaEGpQC3UAEFm6vvA3puMQVQvKUEqHIjBiqe7PBdtwb9IQH0/6JGHwM0vyr+IyOg/XCUlQUcHdUFKOCg/NS5lQTsWjT9KAMbAxEo9QGm2BMHQhJ3AR/0awQYVw76dqrVAhj1qwVK3nD9mFOg/2DBCwLs4eMFnnT1AEtQtwcEM+0Crj4fA728oQd1KNz+dD0ZBTe39QHtXEUGbsSPAeNBYQGmrCUHIeTJAUeZewQeWfMBJmHvA7KgCwW84Q7/bDylBePDCwJhTLUD9cktBbaq0wOhxgsEhcOFAnraIQF+5vsDWlgRBF5tPwP7iuT+/h0y+qk+4vwTfkUCGFxXBxwU0QfALREElIT7BtTx3wZHC2sALdO3Astm/wGj+QUB9N1XAUQSgQG+0E8E52i3BKyfzQL7kSMDKEjjAK4P7PwDhsECJ7dq/0orPQOeeJUGICJjAWdNmwZ/DdcEkgQxBIuWHwTJH/0A5v3zBb709QaE1X8FsJPjA2YbPwDqYUMHXwoO/GOQzQbOrWL9mRFvBcNqwQJcqHUHcuVTAkTPUv+DhHkEEt6c+7SIawfcEGUH3l9ZAGf/JwEfv1EBqK5Q/uQtdwNbgZcCVnh+/aBMYvkBUtr9SnTbAlniTPzg7qEAZiTNBdOgMQd+I6UD9Bw/AwdngvwT2nD6/obVA1AEyQRCm1b+rYto/V2L5QFGResC4OpPAYFSSwAm3ir8EBRtA0S8Awcu3acFqMRTBaefcQDBpJkHYE4g/xEFUQB+iCMCrb+lAPwoZwIMSgMF6K4rBm7nSwOJ0C8ADtR1Bmo5TvyM/1LytshnBnxZcQE3wA8CUBAe9BujqQN/6VsCRvShBOSoXQGvHAMCeeixBzyHJQHYla8Gg2hTBCVkVv4ZF2r8bcwFBbU4ovyHRKcAnAkNBXzqAwYuRnj8V6oU/3U34QPjwZcH0gb3AkwpIQWfb+MBIyRnBl9Z3wC+MAr1cUnnBHVQwQQ1oA8B+/ovALNDoQAkH6kAKqdVAkO8xQQ==\",\"dtype\":\"float32\",\"order\":\"little\",\"shape\":[250]}},\"selected\":{\"id\":\"1133\"},\"selection_policy\":{\"id\":\"1132\"}},\"id\":\"1112\",\"type\":\"ColumnDataSource\"},{\"attributes\":{\"data_source\":{\"id\":\"1112\"},\"glyph\":{\"id\":\"1114\"},\"hover_glyph\":null,\"muted_glyph\":null,\"nonselection_glyph\":{\"id\":\"1115\"},\"selection_glyph\":null,\"view\":{\"id\":\"1117\"}},\"id\":\"1116\",\"type\":\"GlyphRenderer\"},{\"attributes\":{},\"id\":\"1128\",\"type\":\"BasicTickFormatter\"},{\"attributes\":{\"axis\":{\"id\":\"1099\"},\"dimension\":1,\"ticker\":null},\"id\":\"1102\",\"type\":\"Grid\"},{\"attributes\":{},\"id\":\"1133\",\"type\":\"Selection\"}],\"root_ids\":[\"1084\"]},\"title\":\"Bokeh Application\",\"version\":\"2.1.1\"}};\n  var render_items = [{\"docid\":\"61c4f924-ad0a-4192-9b4c-df6640b2f397\",\"root_ids\":[\"1084\"],\"roots\":{\"1084\":\"3c1f8877-804f-47ff-84c9-445a199541bf\"}}];\n  root.Bokeh.embed.embed_items_notebook(docs_json, render_items);\n\n  }\n  if (root.Bokeh !== undefined) {\n    embed_document(root);\n  } else {\n    var attempts = 0;\n    var timer = setInterval(function(root) {\n      if (root.Bokeh !== undefined) {\n        clearInterval(timer);\n        embed_document(root);\n      } else {\n        attempts++;\n        if (attempts > 100) {\n          clearInterval(timer);\n          console.log(\"Bokeh: ERROR: Unable to run BokehJS code because BokehJS library is missing\");\n        }\n      }\n    }, 10, root)\n  }\n})(window);",
            "application/vnd.bokehjs_exec.v0+json": ""
          },
          "metadata": {
            "application/vnd.bokehjs_exec.v0+json": {
              "id": "1084"
            }
          },
          "output_type": "display_data"
        }
      ],
      "source": [
        "p = figure(tools=\"pan,wheel_zoom,reset,save\",\n",
        "           toolbar_location=\"above\",\n",
        "           title=\"word2vec T-SNE for most common words\")\n",
        "\n",
        "source = ColumnDataSource(data=dict(x1=words_top_ted_tsne[:,0],\n",
        "                                    x2=words_top_ted_tsne[:,1],\n",
        "                                    names=words_top_ted))\n",
        "\n",
        "p.scatter(x=\"x1\", y=\"x2\", size=8, source=source)\n",
        "\n",
        "labels = LabelSet(x=\"x1\", y=\"x2\", text=\"names\", y_offset=6,\n",
        "                  text_font_size=\"8pt\", text_color=\"#555555\",\n",
        "                  source=source, text_align='center')\n",
        "p.add_layout(labels)\n",
        "\n",
        "show(p)"
      ]
    }
  ],
  "metadata": {
    "anaconda-cloud": {},
    "colab": {
      "provenance": []
    },
    "kernelspec": {
      "display_name": "Python 3.10.6 ('iannwtf')",
      "language": "python",
      "name": "python3"
    },
    "language_info": {
      "codemirror_mode": {
        "name": "ipython",
        "version": 3
      },
      "file_extension": ".py",
      "mimetype": "text/x-python",
      "name": "python",
      "nbconvert_exporter": "python",
      "pygments_lexer": "ipython3",
      "version": "3.10.6"
    },
    "vscode": {
      "interpreter": {
        "hash": "a3449bbb043929c6f13b514689ff91c66257e0787e2d8bb0eba8270d3f40eacf"
      }
    }
  },
  "nbformat": 4,
  "nbformat_minor": 0
}
